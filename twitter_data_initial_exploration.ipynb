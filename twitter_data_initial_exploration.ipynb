{
 "cells": [
  {
   "cell_type": "markdown",
   "metadata": {},
   "source": [
    "# Data Exploration "
   ]
  },
  {
   "cell_type": "code",
   "execution_count": 260,
   "metadata": {},
   "outputs": [],
   "source": [
    "import pandas as pd\n",
    "\n",
    "df = pd.read_json('data/tweets_2024-03-07_22-02-24.json', lines=True)\n",
    "# Convert 'date' column to datetime with the correct format\n",
    "df['date'] = pd.to_datetime(df['date'], format='%d/%m/%Y')\n",
    "# Save CSV\n",
    "df.to_csv('data/dataset.csv', index=False) "
   ]
  },
  {
   "cell_type": "code",
   "execution_count": 248,
   "metadata": {},
   "outputs": [
    {
     "data": {
      "text/plain": [
       "(Timestamp('2023-10-01 00:00:00'), Timestamp('2024-03-07 00:00:00'))"
      ]
     },
     "execution_count": 248,
     "metadata": {},
     "output_type": "execute_result"
    }
   ],
   "source": [
    "df.date.min(), df.date.max()"
   ]
  },
  {
   "cell_type": "code",
   "execution_count": 249,
   "metadata": {},
   "outputs": [
    {
     "data": {
      "text/html": [
       "<div>\n",
       "<style scoped>\n",
       "    .dataframe tbody tr th:only-of-type {\n",
       "        vertical-align: middle;\n",
       "    }\n",
       "\n",
       "    .dataframe tbody tr th {\n",
       "        vertical-align: top;\n",
       "    }\n",
       "\n",
       "    .dataframe thead th {\n",
       "        text-align: right;\n",
       "    }\n",
       "</style>\n",
       "<table border=\"1\" class=\"dataframe\">\n",
       "  <thead>\n",
       "    <tr style=\"text-align: right;\">\n",
       "      <th></th>\n",
       "      <th>text</th>\n",
       "      <th>author_name</th>\n",
       "      <th>author_handle</th>\n",
       "      <th>date</th>\n",
       "      <th>lang</th>\n",
       "      <th>url</th>\n",
       "      <th>mentioned_urls</th>\n",
       "      <th>is_retweet</th>\n",
       "      <th>media_type</th>\n",
       "      <th>images_urls</th>\n",
       "      <th>num_reply</th>\n",
       "      <th>num_retweet</th>\n",
       "      <th>num_like</th>\n",
       "    </tr>\n",
       "  </thead>\n",
       "  <tbody>\n",
       "    <tr>\n",
       "      <th>34</th>\n",
       "      <td>今天刷到Sun Yuzhen的视频，感慨里面提到的一个小小的过滤器—— 『在问我怎么做视频之前，你自己先发20个视频，哪怕一个只有5秒钟。』\\n然而这个极其简单的过滤器，绝大多数人都通不过。这可能也是『只筛选，不培养』这句话现在这么流行的原因。\\n\\nhttps://youtube.com/watch?v=kMqd6Tc4X_0…\\n\\n#typefully Day 3/30</td>\n",
       "      <td>Yucheng L - /acc</td>\n",
       "      <td>@lyc_zh</td>\n",
       "      <td>2024-03-04</td>\n",
       "      <td>zh</td>\n",
       "      <td>https://twitter.com/lyc_zh/status/1764483531013861709</td>\n",
       "      <td>[https://t.co/NyrQd7zftK]</td>\n",
       "      <td>False</td>\n",
       "      <td>No media</td>\n",
       "      <td>None</td>\n",
       "      <td>6</td>\n",
       "      <td>2</td>\n",
       "      <td>0</td>\n",
       "    </tr>\n",
       "    <tr>\n",
       "      <th>324</th>\n",
       "      <td></td>\n",
       "      <td>celestialmaze</td>\n",
       "      <td>@cmzw_</td>\n",
       "      <td>2024-01-24</td>\n",
       "      <td></td>\n",
       "      <td>https://twitter.com/cmzw_/status/1750091321619124250</td>\n",
       "      <td>[]</td>\n",
       "      <td>False</td>\n",
       "      <td>Video</td>\n",
       "      <td>None</td>\n",
       "      <td>19</td>\n",
       "      <td>487</td>\n",
       "      <td>0</td>\n",
       "    </tr>\n",
       "    <tr>\n",
       "      <th>982</th>\n",
       "      <td></td>\n",
       "      <td>木澄 玲生</td>\n",
       "      <td>@kisumirei41</td>\n",
       "      <td>2023-11-25</td>\n",
       "      <td>qme</td>\n",
       "      <td>https://twitter.com/kisumirei41/status/1728415540514025825</td>\n",
       "      <td>[]</td>\n",
       "      <td>False</td>\n",
       "      <td>Image</td>\n",
       "      <td>[https://pbs.twimg.com/media/F_yQu4wa4AArlo4?format=jpg&amp;name=medium]</td>\n",
       "      <td>2</td>\n",
       "      <td>339</td>\n",
       "      <td>0</td>\n",
       "    </tr>\n",
       "    <tr>\n",
       "      <th>84</th>\n",
       "      <td>#Frieren \\n#fern\\n#フリーレン\\n#フェルン</td>\n",
       "      <td>TKC</td>\n",
       "      <td>@colin_5683</td>\n",
       "      <td>2024-02-27</td>\n",
       "      <td>qme</td>\n",
       "      <td>https://twitter.com/colin_5683/status/1762320555708129589</td>\n",
       "      <td>[]</td>\n",
       "      <td>False</td>\n",
       "      <td>Image</td>\n",
       "      <td>[https://pbs.twimg.com/media/GHUFMUqbYAENcDt?format=jpg&amp;name=medium]</td>\n",
       "      <td>20</td>\n",
       "      <td>2643</td>\n",
       "      <td>0</td>\n",
       "    </tr>\n",
       "    <tr>\n",
       "      <th>727</th>\n",
       "      <td>风口变了…..\\n12月14日凌晨，美联储议息会议结果出来了：\\n维持联邦基金目标利率在5.25%-5.50%区间，每月缩减600亿美元国债和350亿美元MBS。\\n与市场预期一致。\\n \\n可以说，关于美联储加息这事儿，自7月份议息会议结束以来，美联储基本上就是在一步步确认市场预期。…</td>\n",
       "      <td>财经数据库</td>\n",
       "      <td>@caijingshujuku</td>\n",
       "      <td>2023-12-20</td>\n",
       "      <td>zh</td>\n",
       "      <td>https://twitter.com/caijingshujuku/status/1737483779034284237</td>\n",
       "      <td>[]</td>\n",
       "      <td>False</td>\n",
       "      <td>Image</td>\n",
       "      <td>[https://pbs.twimg.com/media/GBzISGUWwAAaeNG?format=jpg&amp;name=small, https://pbs.twimg.com/media/GBzISGMWUAA_0GY?format=jpg&amp;name=small, https://pbs.twimg.com/media/GBzISGHXoAAGlQz?format=jpg&amp;name=small, https://pbs.twimg.com/media/GBzISGKWkAAf6tK?format=jpg&amp;name=small]</td>\n",
       "      <td>1</td>\n",
       "      <td>15</td>\n",
       "      <td>0</td>\n",
       "    </tr>\n",
       "    <tr>\n",
       "      <th>155</th>\n",
       "      <td>试了猎豹前首席科学家闵可锐做的这个密塔AI搜索，相当可以啊，某些方面比Perplexity还要好。\\n\\n尤其是研究能力开启以后直接生成的内容比一些媒体写的报告好多了，非常全面逻辑性也很强。…</td>\n",
       "      <td>歸藏</td>\n",
       "      <td>@op7418</td>\n",
       "      <td>2024-02-18</td>\n",
       "      <td>zh</td>\n",
       "      <td>https://twitter.com/op7418/status/1759128155225473202</td>\n",
       "      <td>[]</td>\n",
       "      <td>False</td>\n",
       "      <td>Image</td>\n",
       "      <td>[https://pbs.twimg.com/media/GGmscMNagAAZPJh?format=jpg&amp;name=900x900, https://pbs.twimg.com/media/GGmssQnaoAAeDT9?format=jpg&amp;name=900x900]</td>\n",
       "      <td>28</td>\n",
       "      <td>110</td>\n",
       "      <td>0</td>\n",
       "    </tr>\n",
       "    <tr>\n",
       "      <th>869</th>\n",
       "      <td>Generative Powers of Ten\\n\\nabs: https://arxiv.org/abs/2312.02149\\nproject page: https://powers-of-10.github.io\\n\\n\"We present a method that uses a text-to-image model to generate consistent content across multiple image scales, enabling extreme semantic zooms into a scene\"</td>\n",
       "      <td>Tanishq Mathew Abraham, Ph.D.</td>\n",
       "      <td>@iScienceLuvr</td>\n",
       "      <td>2023-12-05</td>\n",
       "      <td>en</td>\n",
       "      <td>https://twitter.com/iScienceLuvr/status/1731875267889578425</td>\n",
       "      <td>[https://t.co/GLSH7IbK3a, https://t.co/DhLYj3lWLX]</td>\n",
       "      <td>False</td>\n",
       "      <td>Video</td>\n",
       "      <td>None</td>\n",
       "      <td>18</td>\n",
       "      <td>85</td>\n",
       "      <td>0</td>\n",
       "    </tr>\n",
       "  </tbody>\n",
       "</table>\n",
       "</div>"
      ],
      "text/plain": [
       "                                                                                                                                                                                                                                                                                   text  \\\n",
       "34                                                                                        今天刷到Sun Yuzhen的视频，感慨里面提到的一个小小的过滤器—— 『在问我怎么做视频之前，你自己先发20个视频，哪怕一个只有5秒钟。』\\n然而这个极其简单的过滤器，绝大多数人都通不过。这可能也是『只筛选，不培养』这句话现在这么流行的原因。\\n\\nhttps://youtube.com/watch?v=kMqd6Tc4X_0…\\n\\n#typefully Day 3/30   \n",
       "324                                                                                                                                                                                                                                                                                       \n",
       "982                                                                                                                                                                                                                                                                                       \n",
       "84                                                                                                                                                                                                                                                      #Frieren \\n#fern\\n#フリーレン\\n#フェルン   \n",
       "727                                                                                                                                    风口变了…..\\n12月14日凌晨，美联储议息会议结果出来了：\\n维持联邦基金目标利率在5.25%-5.50%区间，每月缩减600亿美元国债和350亿美元MBS。\\n与市场预期一致。\\n \\n可以说，关于美联储加息这事儿，自7月份议息会议结束以来，美联储基本上就是在一步步确认市场预期。…   \n",
       "155                                                                                                                                                                                    试了猎豹前首席科学家闵可锐做的这个密塔AI搜索，相当可以啊，某些方面比Perplexity还要好。\\n\\n尤其是研究能力开启以后直接生成的内容比一些媒体写的报告好多了，非常全面逻辑性也很强。…   \n",
       "869  Generative Powers of Ten\\n\\nabs: https://arxiv.org/abs/2312.02149\\nproject page: https://powers-of-10.github.io\\n\\n\"We present a method that uses a text-to-image model to generate consistent content across multiple image scales, enabling extreme semantic zooms into a scene\"   \n",
       "\n",
       "                       author_name    author_handle       date lang  \\\n",
       "34                Yucheng L - /acc          @lyc_zh 2024-03-04   zh   \n",
       "324                  celestialmaze           @cmzw_ 2024-01-24        \n",
       "982                          木澄 玲生     @kisumirei41 2023-11-25  qme   \n",
       "84                             TKC      @colin_5683 2024-02-27  qme   \n",
       "727                          财经数据库  @caijingshujuku 2023-12-20   zh   \n",
       "155                             歸藏          @op7418 2024-02-18   zh   \n",
       "869  Tanishq Mathew Abraham, Ph.D.    @iScienceLuvr 2023-12-05   en   \n",
       "\n",
       "                                                               url  \\\n",
       "34           https://twitter.com/lyc_zh/status/1764483531013861709   \n",
       "324           https://twitter.com/cmzw_/status/1750091321619124250   \n",
       "982     https://twitter.com/kisumirei41/status/1728415540514025825   \n",
       "84       https://twitter.com/colin_5683/status/1762320555708129589   \n",
       "727  https://twitter.com/caijingshujuku/status/1737483779034284237   \n",
       "155          https://twitter.com/op7418/status/1759128155225473202   \n",
       "869    https://twitter.com/iScienceLuvr/status/1731875267889578425   \n",
       "\n",
       "                                         mentioned_urls  is_retweet  \\\n",
       "34                            [https://t.co/NyrQd7zftK]       False   \n",
       "324                                                  []       False   \n",
       "982                                                  []       False   \n",
       "84                                                   []       False   \n",
       "727                                                  []       False   \n",
       "155                                                  []       False   \n",
       "869  [https://t.co/GLSH7IbK3a, https://t.co/DhLYj3lWLX]       False   \n",
       "\n",
       "    media_type  \\\n",
       "34    No media   \n",
       "324      Video   \n",
       "982      Image   \n",
       "84       Image   \n",
       "727      Image   \n",
       "155      Image   \n",
       "869      Video   \n",
       "\n",
       "                                                                                                                                                                                                                                                                      images_urls  \\\n",
       "34                                                                                                                                                                                                                                                                           None   \n",
       "324                                                                                                                                                                                                                                                                          None   \n",
       "982                                                                                                                                                                                                          [https://pbs.twimg.com/media/F_yQu4wa4AArlo4?format=jpg&name=medium]   \n",
       "84                                                                                                                                                                                                           [https://pbs.twimg.com/media/GHUFMUqbYAENcDt?format=jpg&name=medium]   \n",
       "727  [https://pbs.twimg.com/media/GBzISGUWwAAaeNG?format=jpg&name=small, https://pbs.twimg.com/media/GBzISGMWUAA_0GY?format=jpg&name=small, https://pbs.twimg.com/media/GBzISGHXoAAGlQz?format=jpg&name=small, https://pbs.twimg.com/media/GBzISGKWkAAf6tK?format=jpg&name=small]   \n",
       "155                                                                                                                                    [https://pbs.twimg.com/media/GGmscMNagAAZPJh?format=jpg&name=900x900, https://pbs.twimg.com/media/GGmssQnaoAAeDT9?format=jpg&name=900x900]   \n",
       "869                                                                                                                                                                                                                                                                          None   \n",
       "\n",
       "     num_reply  num_retweet  num_like  \n",
       "34           6            2         0  \n",
       "324         19          487         0  \n",
       "982          2          339         0  \n",
       "84          20         2643         0  \n",
       "727          1           15         0  \n",
       "155         28          110         0  \n",
       "869         18           85         0  "
      ]
     },
     "execution_count": 249,
     "metadata": {},
     "output_type": "execute_result"
    }
   ],
   "source": [
    "df.sample(7)"
   ]
  },
  {
   "cell_type": "code",
   "execution_count": 250,
   "metadata": {},
   "outputs": [
    {
     "data": {
      "text/plain": [
       "歸藏        42\n",
       "宝玉        32\n",
       "财经数据库     24\n",
       "toyxyz    18\n",
       "-Zho-     15\n",
       "Name: author_name, dtype: int64"
      ]
     },
     "execution_count": 250,
     "metadata": {},
     "output_type": "execute_result"
    }
   ],
   "source": [
    "df.author_name.value_counts().head(5)"
   ]
  },
  {
   "cell_type": "markdown",
   "metadata": {},
   "source": [
    "## Plots\n",
    "Few basic plots."
   ]
  },
  {
   "cell_type": "code",
   "execution_count": 251,
   "metadata": {},
   "outputs": [
    {
     "data": {
      "application/vnd.plotly.v1+json": {
       "config": {
        "plotlyServerURL": "https://plot.ly"
       },
       "data": [
        {
         "marker": {
          "color": "#EF553B"
         },
         "name": "Image",
         "opacity": 0.8,
         "type": "bar",
         "x": [
          "2023-10",
          "2023-11",
          "2023-12",
          "2024-01",
          "2024-02",
          "2024-03"
         ],
         "xaxis": "x",
         "y": [
          9,
          57,
          179,
          148,
          110,
          41
         ],
         "yaxis": "y"
        },
        {
         "marker": {
          "color": "#00CC96"
         },
         "name": "Text",
         "opacity": 0.8,
         "type": "bar",
         "x": [
          "2023-10",
          "2023-11",
          "2023-12",
          "2024-01",
          "2024-02",
          "2024-03"
         ],
         "xaxis": "x",
         "y": [
          1,
          22,
          59,
          50,
          29,
          9
         ],
         "yaxis": "y"
        },
        {
         "marker": {
          "color": "#636EFA"
         },
         "name": "Video",
         "opacity": 0.8,
         "type": "bar",
         "x": [
          "2023-10",
          "2023-11",
          "2023-12",
          "2024-01",
          "2024-02",
          "2024-03"
         ],
         "xaxis": "x",
         "y": [
          1,
          54,
          119,
          91,
          55,
          14
         ],
         "yaxis": "y"
        },
        {
         "fill": "tonexty",
         "line": {
          "color": "#EF553B"
         },
         "mode": "lines",
         "name": "Image",
         "type": "scatter",
         "x": [
          "2023-10",
          "2023-11",
          "2023-12",
          "2024-01",
          "2024-02",
          "2024-03"
         ],
         "xaxis": "x2",
         "y": [
          9,
          66,
          245,
          393,
          503,
          544
         ],
         "yaxis": "y2"
        },
        {
         "fill": "tonexty",
         "line": {
          "color": "#00CC96"
         },
         "mode": "lines",
         "name": "Text",
         "type": "scatter",
         "x": [
          "2023-10",
          "2023-11",
          "2023-12",
          "2024-01",
          "2024-02",
          "2024-03"
         ],
         "xaxis": "x2",
         "y": [
          1,
          23,
          82,
          132,
          161,
          170
         ],
         "yaxis": "y2"
        },
        {
         "fill": "tonexty",
         "line": {
          "color": "#636EFA"
         },
         "mode": "lines",
         "name": "Video",
         "type": "scatter",
         "x": [
          "2023-10",
          "2023-11",
          "2023-12",
          "2024-01",
          "2024-02",
          "2024-03"
         ],
         "xaxis": "x2",
         "y": [
          1,
          55,
          174,
          265,
          320,
          334
         ],
         "yaxis": "y2"
        }
       ],
       "layout": {
        "annotations": [
         {
          "font": {
           "size": 16
          },
          "showarrow": false,
          "text": "Monthly Likes by Media Type",
          "x": 0.5,
          "xanchor": "center",
          "xref": "paper",
          "y": 1,
          "yanchor": "bottom",
          "yref": "paper"
         },
         {
          "font": {
           "size": 16
          },
          "showarrow": false,
          "text": "Cumulative Likes by Media Type",
          "x": 0.5,
          "xanchor": "center",
          "xref": "paper",
          "y": 0.425,
          "yanchor": "bottom",
          "yref": "paper"
         }
        ],
        "autosize": true,
        "template": {
         "data": {
          "bar": [
           {
            "error_x": {
             "color": "#2a3f5f"
            },
            "error_y": {
             "color": "#2a3f5f"
            },
            "marker": {
             "line": {
              "color": "#E5ECF6",
              "width": 0.5
             },
             "pattern": {
              "fillmode": "overlay",
              "size": 10,
              "solidity": 0.2
             }
            },
            "type": "bar"
           }
          ],
          "barpolar": [
           {
            "marker": {
             "line": {
              "color": "#E5ECF6",
              "width": 0.5
             },
             "pattern": {
              "fillmode": "overlay",
              "size": 10,
              "solidity": 0.2
             }
            },
            "type": "barpolar"
           }
          ],
          "carpet": [
           {
            "aaxis": {
             "endlinecolor": "#2a3f5f",
             "gridcolor": "white",
             "linecolor": "white",
             "minorgridcolor": "white",
             "startlinecolor": "#2a3f5f"
            },
            "baxis": {
             "endlinecolor": "#2a3f5f",
             "gridcolor": "white",
             "linecolor": "white",
             "minorgridcolor": "white",
             "startlinecolor": "#2a3f5f"
            },
            "type": "carpet"
           }
          ],
          "choropleth": [
           {
            "colorbar": {
             "outlinewidth": 0,
             "ticks": ""
            },
            "type": "choropleth"
           }
          ],
          "contour": [
           {
            "colorbar": {
             "outlinewidth": 0,
             "ticks": ""
            },
            "colorscale": [
             [
              0,
              "#0d0887"
             ],
             [
              0.1111111111111111,
              "#46039f"
             ],
             [
              0.2222222222222222,
              "#7201a8"
             ],
             [
              0.3333333333333333,
              "#9c179e"
             ],
             [
              0.4444444444444444,
              "#bd3786"
             ],
             [
              0.5555555555555556,
              "#d8576b"
             ],
             [
              0.6666666666666666,
              "#ed7953"
             ],
             [
              0.7777777777777778,
              "#fb9f3a"
             ],
             [
              0.8888888888888888,
              "#fdca26"
             ],
             [
              1,
              "#f0f921"
             ]
            ],
            "type": "contour"
           }
          ],
          "contourcarpet": [
           {
            "colorbar": {
             "outlinewidth": 0,
             "ticks": ""
            },
            "type": "contourcarpet"
           }
          ],
          "heatmap": [
           {
            "colorbar": {
             "outlinewidth": 0,
             "ticks": ""
            },
            "colorscale": [
             [
              0,
              "#0d0887"
             ],
             [
              0.1111111111111111,
              "#46039f"
             ],
             [
              0.2222222222222222,
              "#7201a8"
             ],
             [
              0.3333333333333333,
              "#9c179e"
             ],
             [
              0.4444444444444444,
              "#bd3786"
             ],
             [
              0.5555555555555556,
              "#d8576b"
             ],
             [
              0.6666666666666666,
              "#ed7953"
             ],
             [
              0.7777777777777778,
              "#fb9f3a"
             ],
             [
              0.8888888888888888,
              "#fdca26"
             ],
             [
              1,
              "#f0f921"
             ]
            ],
            "type": "heatmap"
           }
          ],
          "heatmapgl": [
           {
            "colorbar": {
             "outlinewidth": 0,
             "ticks": ""
            },
            "colorscale": [
             [
              0,
              "#0d0887"
             ],
             [
              0.1111111111111111,
              "#46039f"
             ],
             [
              0.2222222222222222,
              "#7201a8"
             ],
             [
              0.3333333333333333,
              "#9c179e"
             ],
             [
              0.4444444444444444,
              "#bd3786"
             ],
             [
              0.5555555555555556,
              "#d8576b"
             ],
             [
              0.6666666666666666,
              "#ed7953"
             ],
             [
              0.7777777777777778,
              "#fb9f3a"
             ],
             [
              0.8888888888888888,
              "#fdca26"
             ],
             [
              1,
              "#f0f921"
             ]
            ],
            "type": "heatmapgl"
           }
          ],
          "histogram": [
           {
            "marker": {
             "pattern": {
              "fillmode": "overlay",
              "size": 10,
              "solidity": 0.2
             }
            },
            "type": "histogram"
           }
          ],
          "histogram2d": [
           {
            "colorbar": {
             "outlinewidth": 0,
             "ticks": ""
            },
            "colorscale": [
             [
              0,
              "#0d0887"
             ],
             [
              0.1111111111111111,
              "#46039f"
             ],
             [
              0.2222222222222222,
              "#7201a8"
             ],
             [
              0.3333333333333333,
              "#9c179e"
             ],
             [
              0.4444444444444444,
              "#bd3786"
             ],
             [
              0.5555555555555556,
              "#d8576b"
             ],
             [
              0.6666666666666666,
              "#ed7953"
             ],
             [
              0.7777777777777778,
              "#fb9f3a"
             ],
             [
              0.8888888888888888,
              "#fdca26"
             ],
             [
              1,
              "#f0f921"
             ]
            ],
            "type": "histogram2d"
           }
          ],
          "histogram2dcontour": [
           {
            "colorbar": {
             "outlinewidth": 0,
             "ticks": ""
            },
            "colorscale": [
             [
              0,
              "#0d0887"
             ],
             [
              0.1111111111111111,
              "#46039f"
             ],
             [
              0.2222222222222222,
              "#7201a8"
             ],
             [
              0.3333333333333333,
              "#9c179e"
             ],
             [
              0.4444444444444444,
              "#bd3786"
             ],
             [
              0.5555555555555556,
              "#d8576b"
             ],
             [
              0.6666666666666666,
              "#ed7953"
             ],
             [
              0.7777777777777778,
              "#fb9f3a"
             ],
             [
              0.8888888888888888,
              "#fdca26"
             ],
             [
              1,
              "#f0f921"
             ]
            ],
            "type": "histogram2dcontour"
           }
          ],
          "mesh3d": [
           {
            "colorbar": {
             "outlinewidth": 0,
             "ticks": ""
            },
            "type": "mesh3d"
           }
          ],
          "parcoords": [
           {
            "line": {
             "colorbar": {
              "outlinewidth": 0,
              "ticks": ""
             }
            },
            "type": "parcoords"
           }
          ],
          "pie": [
           {
            "automargin": true,
            "type": "pie"
           }
          ],
          "scatter": [
           {
            "fillpattern": {
             "fillmode": "overlay",
             "size": 10,
             "solidity": 0.2
            },
            "type": "scatter"
           }
          ],
          "scatter3d": [
           {
            "line": {
             "colorbar": {
              "outlinewidth": 0,
              "ticks": ""
             }
            },
            "marker": {
             "colorbar": {
              "outlinewidth": 0,
              "ticks": ""
             }
            },
            "type": "scatter3d"
           }
          ],
          "scattercarpet": [
           {
            "marker": {
             "colorbar": {
              "outlinewidth": 0,
              "ticks": ""
             }
            },
            "type": "scattercarpet"
           }
          ],
          "scattergeo": [
           {
            "marker": {
             "colorbar": {
              "outlinewidth": 0,
              "ticks": ""
             }
            },
            "type": "scattergeo"
           }
          ],
          "scattergl": [
           {
            "marker": {
             "colorbar": {
              "outlinewidth": 0,
              "ticks": ""
             }
            },
            "type": "scattergl"
           }
          ],
          "scattermapbox": [
           {
            "marker": {
             "colorbar": {
              "outlinewidth": 0,
              "ticks": ""
             }
            },
            "type": "scattermapbox"
           }
          ],
          "scatterpolar": [
           {
            "marker": {
             "colorbar": {
              "outlinewidth": 0,
              "ticks": ""
             }
            },
            "type": "scatterpolar"
           }
          ],
          "scatterpolargl": [
           {
            "marker": {
             "colorbar": {
              "outlinewidth": 0,
              "ticks": ""
             }
            },
            "type": "scatterpolargl"
           }
          ],
          "scatterternary": [
           {
            "marker": {
             "colorbar": {
              "outlinewidth": 0,
              "ticks": ""
             }
            },
            "type": "scatterternary"
           }
          ],
          "surface": [
           {
            "colorbar": {
             "outlinewidth": 0,
             "ticks": ""
            },
            "colorscale": [
             [
              0,
              "#0d0887"
             ],
             [
              0.1111111111111111,
              "#46039f"
             ],
             [
              0.2222222222222222,
              "#7201a8"
             ],
             [
              0.3333333333333333,
              "#9c179e"
             ],
             [
              0.4444444444444444,
              "#bd3786"
             ],
             [
              0.5555555555555556,
              "#d8576b"
             ],
             [
              0.6666666666666666,
              "#ed7953"
             ],
             [
              0.7777777777777778,
              "#fb9f3a"
             ],
             [
              0.8888888888888888,
              "#fdca26"
             ],
             [
              1,
              "#f0f921"
             ]
            ],
            "type": "surface"
           }
          ],
          "table": [
           {
            "cells": {
             "fill": {
              "color": "#EBF0F8"
             },
             "line": {
              "color": "white"
             }
            },
            "header": {
             "fill": {
              "color": "#C8D4E3"
             },
             "line": {
              "color": "white"
             }
            },
            "type": "table"
           }
          ]
         },
         "layout": {
          "annotationdefaults": {
           "arrowcolor": "#2a3f5f",
           "arrowhead": 0,
           "arrowwidth": 1
          },
          "autotypenumbers": "strict",
          "coloraxis": {
           "colorbar": {
            "outlinewidth": 0,
            "ticks": ""
           }
          },
          "colorscale": {
           "diverging": [
            [
             0,
             "#8e0152"
            ],
            [
             0.1,
             "#c51b7d"
            ],
            [
             0.2,
             "#de77ae"
            ],
            [
             0.3,
             "#f1b6da"
            ],
            [
             0.4,
             "#fde0ef"
            ],
            [
             0.5,
             "#f7f7f7"
            ],
            [
             0.6,
             "#e6f5d0"
            ],
            [
             0.7,
             "#b8e186"
            ],
            [
             0.8,
             "#7fbc41"
            ],
            [
             0.9,
             "#4d9221"
            ],
            [
             1,
             "#276419"
            ]
           ],
           "sequential": [
            [
             0,
             "#0d0887"
            ],
            [
             0.1111111111111111,
             "#46039f"
            ],
            [
             0.2222222222222222,
             "#7201a8"
            ],
            [
             0.3333333333333333,
             "#9c179e"
            ],
            [
             0.4444444444444444,
             "#bd3786"
            ],
            [
             0.5555555555555556,
             "#d8576b"
            ],
            [
             0.6666666666666666,
             "#ed7953"
            ],
            [
             0.7777777777777778,
             "#fb9f3a"
            ],
            [
             0.8888888888888888,
             "#fdca26"
            ],
            [
             1,
             "#f0f921"
            ]
           ],
           "sequentialminus": [
            [
             0,
             "#0d0887"
            ],
            [
             0.1111111111111111,
             "#46039f"
            ],
            [
             0.2222222222222222,
             "#7201a8"
            ],
            [
             0.3333333333333333,
             "#9c179e"
            ],
            [
             0.4444444444444444,
             "#bd3786"
            ],
            [
             0.5555555555555556,
             "#d8576b"
            ],
            [
             0.6666666666666666,
             "#ed7953"
            ],
            [
             0.7777777777777778,
             "#fb9f3a"
            ],
            [
             0.8888888888888888,
             "#fdca26"
            ],
            [
             1,
             "#f0f921"
            ]
           ]
          },
          "colorway": [
           "#636efa",
           "#EF553B",
           "#00cc96",
           "#ab63fa",
           "#FFA15A",
           "#19d3f3",
           "#FF6692",
           "#B6E880",
           "#FF97FF",
           "#FECB52"
          ],
          "font": {
           "color": "#2a3f5f"
          },
          "geo": {
           "bgcolor": "white",
           "lakecolor": "white",
           "landcolor": "#E5ECF6",
           "showlakes": true,
           "showland": true,
           "subunitcolor": "white"
          },
          "hoverlabel": {
           "align": "left"
          },
          "hovermode": "closest",
          "mapbox": {
           "style": "light"
          },
          "paper_bgcolor": "white",
          "plot_bgcolor": "#E5ECF6",
          "polar": {
           "angularaxis": {
            "gridcolor": "white",
            "linecolor": "white",
            "ticks": ""
           },
           "bgcolor": "#E5ECF6",
           "radialaxis": {
            "gridcolor": "white",
            "linecolor": "white",
            "ticks": ""
           }
          },
          "scene": {
           "xaxis": {
            "backgroundcolor": "#E5ECF6",
            "gridcolor": "white",
            "gridwidth": 2,
            "linecolor": "white",
            "showbackground": true,
            "ticks": "",
            "zerolinecolor": "white"
           },
           "yaxis": {
            "backgroundcolor": "#E5ECF6",
            "gridcolor": "white",
            "gridwidth": 2,
            "linecolor": "white",
            "showbackground": true,
            "ticks": "",
            "zerolinecolor": "white"
           },
           "zaxis": {
            "backgroundcolor": "#E5ECF6",
            "gridcolor": "white",
            "gridwidth": 2,
            "linecolor": "white",
            "showbackground": true,
            "ticks": "",
            "zerolinecolor": "white"
           }
          },
          "shapedefaults": {
           "line": {
            "color": "#2a3f5f"
           }
          },
          "ternary": {
           "aaxis": {
            "gridcolor": "white",
            "linecolor": "white",
            "ticks": ""
           },
           "baxis": {
            "gridcolor": "white",
            "linecolor": "white",
            "ticks": ""
           },
           "bgcolor": "#E5ECF6",
           "caxis": {
            "gridcolor": "white",
            "linecolor": "white",
            "ticks": ""
           }
          },
          "title": {
           "x": 0.05
          },
          "xaxis": {
           "automargin": true,
           "gridcolor": "white",
           "linecolor": "white",
           "ticks": "",
           "title": {
            "standoff": 15
           },
           "zerolinecolor": "white",
           "zerolinewidth": 2
          },
          "yaxis": {
           "automargin": true,
           "gridcolor": "white",
           "linecolor": "white",
           "ticks": "",
           "title": {
            "standoff": 15
           },
           "zerolinecolor": "white",
           "zerolinewidth": 2
          }
         }
        },
        "title": {
         "font": {
          "color": "black",
          "family": "MonaspaceNeon-Regular",
          "size": 24
         },
         "text": "Likes Analysis by Media Type",
         "x": 0.5
        },
        "xaxis": {
         "anchor": "y",
         "autorange": true,
         "domain": [
          0,
          1
         ],
         "matches": "x2",
         "range": [
          "2023-09-16 12:00",
          "2024-03-15 12:00"
         ],
         "showticklabels": false,
         "type": "date"
        },
        "xaxis2": {
         "anchor": "y2",
         "autorange": true,
         "domain": [
          0,
          1
         ],
         "range": [
          "2023-09-16 12:00",
          "2024-03-15 12:00"
         ],
         "title": {
          "text": "Month-Year"
         },
         "type": "date"
        },
        "yaxis": {
         "anchor": "x",
         "autorange": true,
         "domain": [
          0.575,
          1
         ],
         "range": [
          0,
          188.42105263157896
         ],
         "title": {
          "text": "N_Monthly"
         },
         "type": "linear"
        },
        "yaxis2": {
         "anchor": "x2",
         "autorange": true,
         "domain": [
          0,
          0.425
         ],
         "range": [
          -29.166666666666668,
          574.1666666666666
         ],
         "title": {
          "text": "N_Cumulative"
         },
         "type": "linear"
        }
       }
      },
      "image/png": "[encoded data removed]",
      "text/html": [
       "<div>                            <div id=\"ed6c49e4-82d4-480d-8ded-48d36b1be803\" class=\"plotly-graph-div\" style=\"height:560px; width:100%;\"></div>            <script type=\"text/javascript\">                require([\"plotly\"], function(Plotly) {                    window.PLOTLYENV=window.PLOTLYENV || {};                                    if (document.getElementById(\"ed6c49e4-82d4-480d-8ded-48d36b1be803\")) {                    Plotly.newPlot(                        \"ed6c49e4-82d4-480d-8ded-48d36b1be803\",                        [{\"marker\":{\"color\":\"#EF553B\"},\"name\":\"Image\",\"opacity\":0.8,\"x\":[\"2023-10\",\"2023-11\",\"2023-12\",\"2024-01\",\"2024-02\",\"2024-03\"],\"y\":[9,57,179,148,110,41],\"type\":\"bar\",\"xaxis\":\"x\",\"yaxis\":\"y\"},{\"marker\":{\"color\":\"#00CC96\"},\"name\":\"Text\",\"opacity\":0.8,\"x\":[\"2023-10\",\"2023-11\",\"2023-12\",\"2024-01\",\"2024-02\",\"2024-03\"],\"y\":[1,22,59,50,29,9],\"type\":\"bar\",\"xaxis\":\"x\",\"yaxis\":\"y\"},{\"marker\":{\"color\":\"#636EFA\"},\"name\":\"Video\",\"opacity\":0.8,\"x\":[\"2023-10\",\"2023-11\",\"2023-12\",\"2024-01\",\"2024-02\",\"2024-03\"],\"y\":[1,54,119,91,55,14],\"type\":\"bar\",\"xaxis\":\"x\",\"yaxis\":\"y\"},{\"fill\":\"tonexty\",\"line\":{\"color\":\"#EF553B\"},\"mode\":\"lines\",\"name\":\"Image\",\"x\":[\"2023-10\",\"2023-11\",\"2023-12\",\"2024-01\",\"2024-02\",\"2024-03\"],\"y\":[9,66,245,393,503,544],\"type\":\"scatter\",\"xaxis\":\"x2\",\"yaxis\":\"y2\"},{\"fill\":\"tonexty\",\"line\":{\"color\":\"#00CC96\"},\"mode\":\"lines\",\"name\":\"Text\",\"x\":[\"2023-10\",\"2023-11\",\"2023-12\",\"2024-01\",\"2024-02\",\"2024-03\"],\"y\":[1,23,82,132,161,170],\"type\":\"scatter\",\"xaxis\":\"x2\",\"yaxis\":\"y2\"},{\"fill\":\"tonexty\",\"line\":{\"color\":\"#636EFA\"},\"mode\":\"lines\",\"name\":\"Video\",\"x\":[\"2023-10\",\"2023-11\",\"2023-12\",\"2024-01\",\"2024-02\",\"2024-03\"],\"y\":[1,55,174,265,320,334],\"type\":\"scatter\",\"xaxis\":\"x2\",\"yaxis\":\"y2\"}],                        {\"template\":{\"data\":{\"histogram2dcontour\":[{\"type\":\"histogram2dcontour\",\"colorbar\":{\"outlinewidth\":0,\"ticks\":\"\"},\"colorscale\":[[0.0,\"#0d0887\"],[0.1111111111111111,\"#46039f\"],[0.2222222222222222,\"#7201a8\"],[0.3333333333333333,\"#9c179e\"],[0.4444444444444444,\"#bd3786\"],[0.5555555555555556,\"#d8576b\"],[0.6666666666666666,\"#ed7953\"],[0.7777777777777778,\"#fb9f3a\"],[0.8888888888888888,\"#fdca26\"],[1.0,\"#f0f921\"]]}],\"choropleth\":[{\"type\":\"choropleth\",\"colorbar\":{\"outlinewidth\":0,\"ticks\":\"\"}}],\"histogram2d\":[{\"type\":\"histogram2d\",\"colorbar\":{\"outlinewidth\":0,\"ticks\":\"\"},\"colorscale\":[[0.0,\"#0d0887\"],[0.1111111111111111,\"#46039f\"],[0.2222222222222222,\"#7201a8\"],[0.3333333333333333,\"#9c179e\"],[0.4444444444444444,\"#bd3786\"],[0.5555555555555556,\"#d8576b\"],[0.6666666666666666,\"#ed7953\"],[0.7777777777777778,\"#fb9f3a\"],[0.8888888888888888,\"#fdca26\"],[1.0,\"#f0f921\"]]}],\"heatmap\":[{\"type\":\"heatmap\",\"colorbar\":{\"outlinewidth\":0,\"ticks\":\"\"},\"colorscale\":[[0.0,\"#0d0887\"],[0.1111111111111111,\"#46039f\"],[0.2222222222222222,\"#7201a8\"],[0.3333333333333333,\"#9c179e\"],[0.4444444444444444,\"#bd3786\"],[0.5555555555555556,\"#d8576b\"],[0.6666666666666666,\"#ed7953\"],[0.7777777777777778,\"#fb9f3a\"],[0.8888888888888888,\"#fdca26\"],[1.0,\"#f0f921\"]]}],\"heatmapgl\":[{\"type\":\"heatmapgl\",\"colorbar\":{\"outlinewidth\":0,\"ticks\":\"\"},\"colorscale\":[[0.0,\"#0d0887\"],[0.1111111111111111,\"#46039f\"],[0.2222222222222222,\"#7201a8\"],[0.3333333333333333,\"#9c179e\"],[0.4444444444444444,\"#bd3786\"],[0.5555555555555556,\"#d8576b\"],[0.6666666666666666,\"#ed7953\"],[0.7777777777777778,\"#fb9f3a\"],[0.8888888888888888,\"#fdca26\"],[1.0,\"#f0f921\"]]}],\"contourcarpet\":[{\"type\":\"contourcarpet\",\"colorbar\":{\"outlinewidth\":0,\"ticks\":\"\"}}],\"contour\":[{\"type\":\"contour\",\"colorbar\":{\"outlinewidth\":0,\"ticks\":\"\"},\"colorscale\":[[0.0,\"#0d0887\"],[0.1111111111111111,\"#46039f\"],[0.2222222222222222,\"#7201a8\"],[0.3333333333333333,\"#9c179e\"],[0.4444444444444444,\"#bd3786\"],[0.5555555555555556,\"#d8576b\"],[0.6666666666666666,\"#ed7953\"],[0.7777777777777778,\"#fb9f3a\"],[0.8888888888888888,\"#fdca26\"],[1.0,\"#f0f921\"]]}],\"surface\":[{\"type\":\"surface\",\"colorbar\":{\"outlinewidth\":0,\"ticks\":\"\"},\"colorscale\":[[0.0,\"#0d0887\"],[0.1111111111111111,\"#46039f\"],[0.2222222222222222,\"#7201a8\"],[0.3333333333333333,\"#9c179e\"],[0.4444444444444444,\"#bd3786\"],[0.5555555555555556,\"#d8576b\"],[0.6666666666666666,\"#ed7953\"],[0.7777777777777778,\"#fb9f3a\"],[0.8888888888888888,\"#fdca26\"],[1.0,\"#f0f921\"]]}],\"mesh3d\":[{\"type\":\"mesh3d\",\"colorbar\":{\"outlinewidth\":0,\"ticks\":\"\"}}],\"scatter\":[{\"fillpattern\":{\"fillmode\":\"overlay\",\"size\":10,\"solidity\":0.2},\"type\":\"scatter\"}],\"parcoords\":[{\"type\":\"parcoords\",\"line\":{\"colorbar\":{\"outlinewidth\":0,\"ticks\":\"\"}}}],\"scatterpolargl\":[{\"type\":\"scatterpolargl\",\"marker\":{\"colorbar\":{\"outlinewidth\":0,\"ticks\":\"\"}}}],\"bar\":[{\"error_x\":{\"color\":\"#2a3f5f\"},\"error_y\":{\"color\":\"#2a3f5f\"},\"marker\":{\"line\":{\"color\":\"#E5ECF6\",\"width\":0.5},\"pattern\":{\"fillmode\":\"overlay\",\"size\":10,\"solidity\":0.2}},\"type\":\"bar\"}],\"scattergeo\":[{\"type\":\"scattergeo\",\"marker\":{\"colorbar\":{\"outlinewidth\":0,\"ticks\":\"\"}}}],\"scatterpolar\":[{\"type\":\"scatterpolar\",\"marker\":{\"colorbar\":{\"outlinewidth\":0,\"ticks\":\"\"}}}],\"histogram\":[{\"marker\":{\"pattern\":{\"fillmode\":\"overlay\",\"size\":10,\"solidity\":0.2}},\"type\":\"histogram\"}],\"scattergl\":[{\"type\":\"scattergl\",\"marker\":{\"colorbar\":{\"outlinewidth\":0,\"ticks\":\"\"}}}],\"scatter3d\":[{\"type\":\"scatter3d\",\"line\":{\"colorbar\":{\"outlinewidth\":0,\"ticks\":\"\"}},\"marker\":{\"colorbar\":{\"outlinewidth\":0,\"ticks\":\"\"}}}],\"scattermapbox\":[{\"type\":\"scattermapbox\",\"marker\":{\"colorbar\":{\"outlinewidth\":0,\"ticks\":\"\"}}}],\"scatterternary\":[{\"type\":\"scatterternary\",\"marker\":{\"colorbar\":{\"outlinewidth\":0,\"ticks\":\"\"}}}],\"scattercarpet\":[{\"type\":\"scattercarpet\",\"marker\":{\"colorbar\":{\"outlinewidth\":0,\"ticks\":\"\"}}}],\"carpet\":[{\"aaxis\":{\"endlinecolor\":\"#2a3f5f\",\"gridcolor\":\"white\",\"linecolor\":\"white\",\"minorgridcolor\":\"white\",\"startlinecolor\":\"#2a3f5f\"},\"baxis\":{\"endlinecolor\":\"#2a3f5f\",\"gridcolor\":\"white\",\"linecolor\":\"white\",\"minorgridcolor\":\"white\",\"startlinecolor\":\"#2a3f5f\"},\"type\":\"carpet\"}],\"table\":[{\"cells\":{\"fill\":{\"color\":\"#EBF0F8\"},\"line\":{\"color\":\"white\"}},\"header\":{\"fill\":{\"color\":\"#C8D4E3\"},\"line\":{\"color\":\"white\"}},\"type\":\"table\"}],\"barpolar\":[{\"marker\":{\"line\":{\"color\":\"#E5ECF6\",\"width\":0.5},\"pattern\":{\"fillmode\":\"overlay\",\"size\":10,\"solidity\":0.2}},\"type\":\"barpolar\"}],\"pie\":[{\"automargin\":true,\"type\":\"pie\"}]},\"layout\":{\"autotypenumbers\":\"strict\",\"colorway\":[\"#636efa\",\"#EF553B\",\"#00cc96\",\"#ab63fa\",\"#FFA15A\",\"#19d3f3\",\"#FF6692\",\"#B6E880\",\"#FF97FF\",\"#FECB52\"],\"font\":{\"color\":\"#2a3f5f\"},\"hovermode\":\"closest\",\"hoverlabel\":{\"align\":\"left\"},\"paper_bgcolor\":\"white\",\"plot_bgcolor\":\"#E5ECF6\",\"polar\":{\"bgcolor\":\"#E5ECF6\",\"angularaxis\":{\"gridcolor\":\"white\",\"linecolor\":\"white\",\"ticks\":\"\"},\"radialaxis\":{\"gridcolor\":\"white\",\"linecolor\":\"white\",\"ticks\":\"\"}},\"ternary\":{\"bgcolor\":\"#E5ECF6\",\"aaxis\":{\"gridcolor\":\"white\",\"linecolor\":\"white\",\"ticks\":\"\"},\"baxis\":{\"gridcolor\":\"white\",\"linecolor\":\"white\",\"ticks\":\"\"},\"caxis\":{\"gridcolor\":\"white\",\"linecolor\":\"white\",\"ticks\":\"\"}},\"coloraxis\":{\"colorbar\":{\"outlinewidth\":0,\"ticks\":\"\"}},\"colorscale\":{\"sequential\":[[0.0,\"#0d0887\"],[0.1111111111111111,\"#46039f\"],[0.2222222222222222,\"#7201a8\"],[0.3333333333333333,\"#9c179e\"],[0.4444444444444444,\"#bd3786\"],[0.5555555555555556,\"#d8576b\"],[0.6666666666666666,\"#ed7953\"],[0.7777777777777778,\"#fb9f3a\"],[0.8888888888888888,\"#fdca26\"],[1.0,\"#f0f921\"]],\"sequentialminus\":[[0.0,\"#0d0887\"],[0.1111111111111111,\"#46039f\"],[0.2222222222222222,\"#7201a8\"],[0.3333333333333333,\"#9c179e\"],[0.4444444444444444,\"#bd3786\"],[0.5555555555555556,\"#d8576b\"],[0.6666666666666666,\"#ed7953\"],[0.7777777777777778,\"#fb9f3a\"],[0.8888888888888888,\"#fdca26\"],[1.0,\"#f0f921\"]],\"diverging\":[[0,\"#8e0152\"],[0.1,\"#c51b7d\"],[0.2,\"#de77ae\"],[0.3,\"#f1b6da\"],[0.4,\"#fde0ef\"],[0.5,\"#f7f7f7\"],[0.6,\"#e6f5d0\"],[0.7,\"#b8e186\"],[0.8,\"#7fbc41\"],[0.9,\"#4d9221\"],[1,\"#276419\"]]},\"xaxis\":{\"gridcolor\":\"white\",\"linecolor\":\"white\",\"ticks\":\"\",\"title\":{\"standoff\":15},\"zerolinecolor\":\"white\",\"automargin\":true,\"zerolinewidth\":2},\"yaxis\":{\"gridcolor\":\"white\",\"linecolor\":\"white\",\"ticks\":\"\",\"title\":{\"standoff\":15},\"zerolinecolor\":\"white\",\"automargin\":true,\"zerolinewidth\":2},\"scene\":{\"xaxis\":{\"backgroundcolor\":\"#E5ECF6\",\"gridcolor\":\"white\",\"linecolor\":\"white\",\"showbackground\":true,\"ticks\":\"\",\"zerolinecolor\":\"white\",\"gridwidth\":2},\"yaxis\":{\"backgroundcolor\":\"#E5ECF6\",\"gridcolor\":\"white\",\"linecolor\":\"white\",\"showbackground\":true,\"ticks\":\"\",\"zerolinecolor\":\"white\",\"gridwidth\":2},\"zaxis\":{\"backgroundcolor\":\"#E5ECF6\",\"gridcolor\":\"white\",\"linecolor\":\"white\",\"showbackground\":true,\"ticks\":\"\",\"zerolinecolor\":\"white\",\"gridwidth\":2}},\"shapedefaults\":{\"line\":{\"color\":\"#2a3f5f\"}},\"annotationdefaults\":{\"arrowcolor\":\"#2a3f5f\",\"arrowhead\":0,\"arrowwidth\":1},\"geo\":{\"bgcolor\":\"white\",\"landcolor\":\"#E5ECF6\",\"subunitcolor\":\"white\",\"showland\":true,\"showlakes\":true,\"lakecolor\":\"white\"},\"title\":{\"x\":0.05},\"mapbox\":{\"style\":\"light\"}}},\"xaxis\":{\"anchor\":\"y\",\"domain\":[0.0,1.0],\"matches\":\"x2\",\"showticklabels\":false},\"yaxis\":{\"anchor\":\"x\",\"domain\":[0.575,1.0],\"title\":{\"text\":\"N_Monthly\"}},\"xaxis2\":{\"anchor\":\"y2\",\"domain\":[0.0,1.0],\"title\":{\"text\":\"Month-Year\"}},\"yaxis2\":{\"anchor\":\"x2\",\"domain\":[0.0,0.425],\"title\":{\"text\":\"N_Cumulative\"}},\"annotations\":[{\"font\":{\"size\":16},\"showarrow\":false,\"text\":\"Monthly Likes by Media Type\",\"x\":0.5,\"xanchor\":\"center\",\"xref\":\"paper\",\"y\":1.0,\"yanchor\":\"bottom\",\"yref\":\"paper\"},{\"font\":{\"size\":16},\"showarrow\":false,\"text\":\"Cumulative Likes by Media Type\",\"x\":0.5,\"xanchor\":\"center\",\"xref\":\"paper\",\"y\":0.425,\"yanchor\":\"bottom\",\"yref\":\"paper\"}],\"title\":{\"font\":{\"size\":24,\"family\":\"MonaspaceNeon-Regular\",\"color\":\"black\"},\"text\":\"Likes Analysis by Media Type\",\"x\":0.5},\"height\":560},                        {\"responsive\": true}                    ).then(function(){\n",
       "                            \n",
       "var gd = document.getElementById('ed6c49e4-82d4-480d-8ded-48d36b1be803');\n",
       "var x = new MutationObserver(function (mutations, observer) {{\n",
       "        var display = window.getComputedStyle(gd).display;\n",
       "        if (!display || display === 'none') {{\n",
       "            console.log([gd, 'removed!']);\n",
       "            Plotly.purge(gd);\n",
       "            observer.disconnect();\n",
       "        }}\n",
       "}});\n",
       "\n",
       "// Listen for the removal of the full notebook cells\n",
       "var notebookContainer = gd.closest('#notebook-container');\n",
       "if (notebookContainer) {{\n",
       "    x.observe(notebookContainer, {childList: true});\n",
       "}}\n",
       "\n",
       "// Listen for the clearing of the current output cell\n",
       "var outputEl = gd.closest('.output');\n",
       "if (outputEl) {{\n",
       "    x.observe(outputEl, {childList: true});\n",
       "}}\n",
       "\n",
       "                        })                };                });            </script>        </div>"
      ]
     },
     "metadata": {},
     "output_type": "display_data"
    }
   ],
   "source": [
    "import pandas as pd\n",
    "import plotly.graph_objects as go\n",
    "import plotly.express as px\n",
    "from plotly.subplots import make_subplots\n",
    "\n",
    "def plot_likes_with_cumulative(df, start_date, end_date):\n",
    "    df['date'] = pd.to_datetime(df['date'])\n",
    "    df = df[(df['date'] >= start_date) & (df['date'] <= end_date)]\n",
    "    df['media_type'] = df['media_type'].replace({'No media': 'Text'})\n",
    "    df['year_month'] = df['date'].dt.strftime('%Y-%m')\n",
    "\n",
    "    # Prepare the monthly count DataFrame\n",
    "    monthly_likes_df = df.groupby(['year_month', 'media_type']).size().reset_index(name='counts')\n",
    "\n",
    "    # Prepare the cumulative DataFrame\n",
    "    cumulative_likes_df = monthly_likes_df.copy()\n",
    "    cumulative_likes_df['cumulative_counts'] = cumulative_likes_df.groupby('media_type')['counts'].cumsum()\n",
    "\n",
    "    # Select a color palette\n",
    "    color_palette = px.colors.qualitative.Plotly\n",
    "\n",
    "    # Match colors to media type\n",
    "    color_map = {media_type: color_palette[i] for i, media_type in enumerate([ 'Video', 'Image',  'Text'])}\n",
    "\n",
    "    # Creating subplots\n",
    "    fig = make_subplots(rows=2, cols=1, shared_xaxes=True,\n",
    "                        subplot_titles=(\"Monthly Likes by Media Type\", \"Cumulative Likes by Media Type\"),\n",
    "                        vertical_spacing=0.15)\n",
    "\n",
    "    # Adding the monthly bar chart\n",
    "    for media_type in monthly_likes_df['media_type'].unique():\n",
    "        filtered_df = monthly_likes_df[monthly_likes_df['media_type'] == media_type]\n",
    "        fig.add_trace(go.Bar(x=filtered_df['year_month'], y=filtered_df['counts'], opacity=0.8,\n",
    "                             name=media_type, marker_color=color_map[media_type]),\n",
    "                      row=1, col=1)\n",
    "\n",
    "    # Adding the cumulative area chart\n",
    "    for media_type in cumulative_likes_df['media_type'].unique():\n",
    "        filtered_cumulative_df = cumulative_likes_df[cumulative_likes_df['media_type'] == media_type]\n",
    "        fig.add_trace(go.Scatter(x=filtered_cumulative_df['year_month'], y=filtered_cumulative_df['cumulative_counts'],\n",
    "                                 mode='lines', name=media_type, fill='tonexty',\n",
    "                                 line=dict(color=color_map[media_type])),\n",
    "                      row=2, col=1)\n",
    "\n",
    "    # Update layout for clarity and visual appeal\n",
    "    fig.update_layout(height=560, title_text=\"Likes Analysis by Media Type\", title_x=0.5,  title_font = dict(size=24, family=\"MonaspaceNeon-Regular\", color=\"black\"))\n",
    "    fig.update_xaxes(title_text=\"Month-Year\", row=2, col=1)\n",
    "    fig.update_yaxes(title_text=\"N_Monthly\", row=1, col=1)\n",
    "    fig.update_yaxes(title_text=\"N_Cumulative\", row=2, col=1)\n",
    "\n",
    "    fig.show()\n",
    "\n",
    "# Call the function with your DataFrame and a date range\n",
    "plot_likes_with_cumulative(df, '2023-09-01', '2024-03-07')"
   ]
  },
  {
   "cell_type": "code",
   "execution_count": 252,
   "metadata": {},
   "outputs": [
    {
     "data": {
      "application/vnd.plotly.v1+json": {
       "config": {
        "plotlyServerURL": "https://plot.ly"
       },
       "data": [
        {
         "direction": "clockwise",
         "domain": {
          "x": [
           0,
           1
          ],
          "y": [
           0,
           1
          ]
         },
         "hole": 0.4,
         "hovertemplate": "WeekdayName=%{label}<br>Count=%{value}<extra></extra>",
         "labels": [
          "Monday",
          "Tuesday",
          "Wednesday",
          "Thursday",
          "Friday",
          "Saturday",
          "Sunday"
         ],
         "legendgroup": "",
         "name": "",
         "pull": 0.02,
         "showlegend": true,
         "sort": false,
         "textinfo": "percent+label",
         "type": "pie",
         "values": [
          130,
          184,
          162,
          150,
          147,
          139,
          136
         ]
        }
       ],
       "layout": {
        "autosize": true,
        "legend": {
         "orientation": "h",
         "tracegroupgap": 0,
         "x": 0.5,
         "xanchor": "center",
         "y": -0.1
        },
        "piecolorway": [
         "#636EFA",
         "#EF553B",
         "#00CC96",
         "#AB63FA",
         "#FFA15A",
         "#19D3F3",
         "#FF6692",
         "#B6E880",
         "#FF97FF",
         "#FECB52"
        ],
        "template": {
         "data": {
          "bar": [
           {
            "error_x": {
             "color": "#2a3f5f"
            },
            "error_y": {
             "color": "#2a3f5f"
            },
            "marker": {
             "line": {
              "color": "#E5ECF6",
              "width": 0.5
             },
             "pattern": {
              "fillmode": "overlay",
              "size": 10,
              "solidity": 0.2
             }
            },
            "type": "bar"
           }
          ],
          "barpolar": [
           {
            "marker": {
             "line": {
              "color": "#E5ECF6",
              "width": 0.5
             },
             "pattern": {
              "fillmode": "overlay",
              "size": 10,
              "solidity": 0.2
             }
            },
            "type": "barpolar"
           }
          ],
          "carpet": [
           {
            "aaxis": {
             "endlinecolor": "#2a3f5f",
             "gridcolor": "white",
             "linecolor": "white",
             "minorgridcolor": "white",
             "startlinecolor": "#2a3f5f"
            },
            "baxis": {
             "endlinecolor": "#2a3f5f",
             "gridcolor": "white",
             "linecolor": "white",
             "minorgridcolor": "white",
             "startlinecolor": "#2a3f5f"
            },
            "type": "carpet"
           }
          ],
          "choropleth": [
           {
            "colorbar": {
             "outlinewidth": 0,
             "ticks": ""
            },
            "type": "choropleth"
           }
          ],
          "contour": [
           {
            "colorbar": {
             "outlinewidth": 0,
             "ticks": ""
            },
            "colorscale": [
             [
              0,
              "#0d0887"
             ],
             [
              0.1111111111111111,
              "#46039f"
             ],
             [
              0.2222222222222222,
              "#7201a8"
             ],
             [
              0.3333333333333333,
              "#9c179e"
             ],
             [
              0.4444444444444444,
              "#bd3786"
             ],
             [
              0.5555555555555556,
              "#d8576b"
             ],
             [
              0.6666666666666666,
              "#ed7953"
             ],
             [
              0.7777777777777778,
              "#fb9f3a"
             ],
             [
              0.8888888888888888,
              "#fdca26"
             ],
             [
              1,
              "#f0f921"
             ]
            ],
            "type": "contour"
           }
          ],
          "contourcarpet": [
           {
            "colorbar": {
             "outlinewidth": 0,
             "ticks": ""
            },
            "type": "contourcarpet"
           }
          ],
          "heatmap": [
           {
            "colorbar": {
             "outlinewidth": 0,
             "ticks": ""
            },
            "colorscale": [
             [
              0,
              "#0d0887"
             ],
             [
              0.1111111111111111,
              "#46039f"
             ],
             [
              0.2222222222222222,
              "#7201a8"
             ],
             [
              0.3333333333333333,
              "#9c179e"
             ],
             [
              0.4444444444444444,
              "#bd3786"
             ],
             [
              0.5555555555555556,
              "#d8576b"
             ],
             [
              0.6666666666666666,
              "#ed7953"
             ],
             [
              0.7777777777777778,
              "#fb9f3a"
             ],
             [
              0.8888888888888888,
              "#fdca26"
             ],
             [
              1,
              "#f0f921"
             ]
            ],
            "type": "heatmap"
           }
          ],
          "heatmapgl": [
           {
            "colorbar": {
             "outlinewidth": 0,
             "ticks": ""
            },
            "colorscale": [
             [
              0,
              "#0d0887"
             ],
             [
              0.1111111111111111,
              "#46039f"
             ],
             [
              0.2222222222222222,
              "#7201a8"
             ],
             [
              0.3333333333333333,
              "#9c179e"
             ],
             [
              0.4444444444444444,
              "#bd3786"
             ],
             [
              0.5555555555555556,
              "#d8576b"
             ],
             [
              0.6666666666666666,
              "#ed7953"
             ],
             [
              0.7777777777777778,
              "#fb9f3a"
             ],
             [
              0.8888888888888888,
              "#fdca26"
             ],
             [
              1,
              "#f0f921"
             ]
            ],
            "type": "heatmapgl"
           }
          ],
          "histogram": [
           {
            "marker": {
             "pattern": {
              "fillmode": "overlay",
              "size": 10,
              "solidity": 0.2
             }
            },
            "type": "histogram"
           }
          ],
          "histogram2d": [
           {
            "colorbar": {
             "outlinewidth": 0,
             "ticks": ""
            },
            "colorscale": [
             [
              0,
              "#0d0887"
             ],
             [
              0.1111111111111111,
              "#46039f"
             ],
             [
              0.2222222222222222,
              "#7201a8"
             ],
             [
              0.3333333333333333,
              "#9c179e"
             ],
             [
              0.4444444444444444,
              "#bd3786"
             ],
             [
              0.5555555555555556,
              "#d8576b"
             ],
             [
              0.6666666666666666,
              "#ed7953"
             ],
             [
              0.7777777777777778,
              "#fb9f3a"
             ],
             [
              0.8888888888888888,
              "#fdca26"
             ],
             [
              1,
              "#f0f921"
             ]
            ],
            "type": "histogram2d"
           }
          ],
          "histogram2dcontour": [
           {
            "colorbar": {
             "outlinewidth": 0,
             "ticks": ""
            },
            "colorscale": [
             [
              0,
              "#0d0887"
             ],
             [
              0.1111111111111111,
              "#46039f"
             ],
             [
              0.2222222222222222,
              "#7201a8"
             ],
             [
              0.3333333333333333,
              "#9c179e"
             ],
             [
              0.4444444444444444,
              "#bd3786"
             ],
             [
              0.5555555555555556,
              "#d8576b"
             ],
             [
              0.6666666666666666,
              "#ed7953"
             ],
             [
              0.7777777777777778,
              "#fb9f3a"
             ],
             [
              0.8888888888888888,
              "#fdca26"
             ],
             [
              1,
              "#f0f921"
             ]
            ],
            "type": "histogram2dcontour"
           }
          ],
          "mesh3d": [
           {
            "colorbar": {
             "outlinewidth": 0,
             "ticks": ""
            },
            "type": "mesh3d"
           }
          ],
          "parcoords": [
           {
            "line": {
             "colorbar": {
              "outlinewidth": 0,
              "ticks": ""
             }
            },
            "type": "parcoords"
           }
          ],
          "pie": [
           {
            "automargin": true,
            "type": "pie"
           }
          ],
          "scatter": [
           {
            "fillpattern": {
             "fillmode": "overlay",
             "size": 10,
             "solidity": 0.2
            },
            "type": "scatter"
           }
          ],
          "scatter3d": [
           {
            "line": {
             "colorbar": {
              "outlinewidth": 0,
              "ticks": ""
             }
            },
            "marker": {
             "colorbar": {
              "outlinewidth": 0,
              "ticks": ""
             }
            },
            "type": "scatter3d"
           }
          ],
          "scattercarpet": [
           {
            "marker": {
             "colorbar": {
              "outlinewidth": 0,
              "ticks": ""
             }
            },
            "type": "scattercarpet"
           }
          ],
          "scattergeo": [
           {
            "marker": {
             "colorbar": {
              "outlinewidth": 0,
              "ticks": ""
             }
            },
            "type": "scattergeo"
           }
          ],
          "scattergl": [
           {
            "marker": {
             "colorbar": {
              "outlinewidth": 0,
              "ticks": ""
             }
            },
            "type": "scattergl"
           }
          ],
          "scattermapbox": [
           {
            "marker": {
             "colorbar": {
              "outlinewidth": 0,
              "ticks": ""
             }
            },
            "type": "scattermapbox"
           }
          ],
          "scatterpolar": [
           {
            "marker": {
             "colorbar": {
              "outlinewidth": 0,
              "ticks": ""
             }
            },
            "type": "scatterpolar"
           }
          ],
          "scatterpolargl": [
           {
            "marker": {
             "colorbar": {
              "outlinewidth": 0,
              "ticks": ""
             }
            },
            "type": "scatterpolargl"
           }
          ],
          "scatterternary": [
           {
            "marker": {
             "colorbar": {
              "outlinewidth": 0,
              "ticks": ""
             }
            },
            "type": "scatterternary"
           }
          ],
          "surface": [
           {
            "colorbar": {
             "outlinewidth": 0,
             "ticks": ""
            },
            "colorscale": [
             [
              0,
              "#0d0887"
             ],
             [
              0.1111111111111111,
              "#46039f"
             ],
             [
              0.2222222222222222,
              "#7201a8"
             ],
             [
              0.3333333333333333,
              "#9c179e"
             ],
             [
              0.4444444444444444,
              "#bd3786"
             ],
             [
              0.5555555555555556,
              "#d8576b"
             ],
             [
              0.6666666666666666,
              "#ed7953"
             ],
             [
              0.7777777777777778,
              "#fb9f3a"
             ],
             [
              0.8888888888888888,
              "#fdca26"
             ],
             [
              1,
              "#f0f921"
             ]
            ],
            "type": "surface"
           }
          ],
          "table": [
           {
            "cells": {
             "fill": {
              "color": "#EBF0F8"
             },
             "line": {
              "color": "white"
             }
            },
            "header": {
             "fill": {
              "color": "#C8D4E3"
             },
             "line": {
              "color": "white"
             }
            },
            "type": "table"
           }
          ]
         },
         "layout": {
          "annotationdefaults": {
           "arrowcolor": "#2a3f5f",
           "arrowhead": 0,
           "arrowwidth": 1
          },
          "autotypenumbers": "strict",
          "coloraxis": {
           "colorbar": {
            "outlinewidth": 0,
            "ticks": ""
           }
          },
          "colorscale": {
           "diverging": [
            [
             0,
             "#8e0152"
            ],
            [
             0.1,
             "#c51b7d"
            ],
            [
             0.2,
             "#de77ae"
            ],
            [
             0.3,
             "#f1b6da"
            ],
            [
             0.4,
             "#fde0ef"
            ],
            [
             0.5,
             "#f7f7f7"
            ],
            [
             0.6,
             "#e6f5d0"
            ],
            [
             0.7,
             "#b8e186"
            ],
            [
             0.8,
             "#7fbc41"
            ],
            [
             0.9,
             "#4d9221"
            ],
            [
             1,
             "#276419"
            ]
           ],
           "sequential": [
            [
             0,
             "#0d0887"
            ],
            [
             0.1111111111111111,
             "#46039f"
            ],
            [
             0.2222222222222222,
             "#7201a8"
            ],
            [
             0.3333333333333333,
             "#9c179e"
            ],
            [
             0.4444444444444444,
             "#bd3786"
            ],
            [
             0.5555555555555556,
             "#d8576b"
            ],
            [
             0.6666666666666666,
             "#ed7953"
            ],
            [
             0.7777777777777778,
             "#fb9f3a"
            ],
            [
             0.8888888888888888,
             "#fdca26"
            ],
            [
             1,
             "#f0f921"
            ]
           ],
           "sequentialminus": [
            [
             0,
             "#0d0887"
            ],
            [
             0.1111111111111111,
             "#46039f"
            ],
            [
             0.2222222222222222,
             "#7201a8"
            ],
            [
             0.3333333333333333,
             "#9c179e"
            ],
            [
             0.4444444444444444,
             "#bd3786"
            ],
            [
             0.5555555555555556,
             "#d8576b"
            ],
            [
             0.6666666666666666,
             "#ed7953"
            ],
            [
             0.7777777777777778,
             "#fb9f3a"
            ],
            [
             0.8888888888888888,
             "#fdca26"
            ],
            [
             1,
             "#f0f921"
            ]
           ]
          },
          "colorway": [
           "#636efa",
           "#EF553B",
           "#00cc96",
           "#ab63fa",
           "#FFA15A",
           "#19d3f3",
           "#FF6692",
           "#B6E880",
           "#FF97FF",
           "#FECB52"
          ],
          "font": {
           "color": "#2a3f5f"
          },
          "geo": {
           "bgcolor": "white",
           "lakecolor": "white",
           "landcolor": "#E5ECF6",
           "showlakes": true,
           "showland": true,
           "subunitcolor": "white"
          },
          "hoverlabel": {
           "align": "left"
          },
          "hovermode": "closest",
          "mapbox": {
           "style": "light"
          },
          "paper_bgcolor": "white",
          "plot_bgcolor": "#E5ECF6",
          "polar": {
           "angularaxis": {
            "gridcolor": "white",
            "linecolor": "white",
            "ticks": ""
           },
           "bgcolor": "#E5ECF6",
           "radialaxis": {
            "gridcolor": "white",
            "linecolor": "white",
            "ticks": ""
           }
          },
          "scene": {
           "xaxis": {
            "backgroundcolor": "#E5ECF6",
            "gridcolor": "white",
            "gridwidth": 2,
            "linecolor": "white",
            "showbackground": true,
            "ticks": "",
            "zerolinecolor": "white"
           },
           "yaxis": {
            "backgroundcolor": "#E5ECF6",
            "gridcolor": "white",
            "gridwidth": 2,
            "linecolor": "white",
            "showbackground": true,
            "ticks": "",
            "zerolinecolor": "white"
           },
           "zaxis": {
            "backgroundcolor": "#E5ECF6",
            "gridcolor": "white",
            "gridwidth": 2,
            "linecolor": "white",
            "showbackground": true,
            "ticks": "",
            "zerolinecolor": "white"
           }
          },
          "shapedefaults": {
           "line": {
            "color": "#2a3f5f"
           }
          },
          "ternary": {
           "aaxis": {
            "gridcolor": "white",
            "linecolor": "white",
            "ticks": ""
           },
           "baxis": {
            "gridcolor": "white",
            "linecolor": "white",
            "ticks": ""
           },
           "bgcolor": "#E5ECF6",
           "caxis": {
            "gridcolor": "white",
            "linecolor": "white",
            "ticks": ""
           }
          },
          "title": {
           "x": 0.05
          },
          "xaxis": {
           "automargin": true,
           "gridcolor": "white",
           "linecolor": "white",
           "ticks": "",
           "title": {
            "standoff": 15
           },
           "zerolinecolor": "white",
           "zerolinewidth": 2
          },
          "yaxis": {
           "automargin": true,
           "gridcolor": "white",
           "linecolor": "white",
           "ticks": "",
           "title": {
            "standoff": 15
           },
           "zerolinecolor": "white",
           "zerolinewidth": 2
          }
         }
        },
        "title": {
         "font": {
          "color": "black",
          "family": "MonaspaceNeon-Regular",
          "size": 24
         },
         "text": "Tweets Liked by Weekday",
         "x": 0.5
        }
       }
      },
      "image/png": "[encoded data removed]",
      "text/html": [
       "<div>                            <div id=\"95757c40-a83b-45c9-b1a6-cf619506297e\" class=\"plotly-graph-div\" style=\"height:560px; width:100%;\"></div>            <script type=\"text/javascript\">                require([\"plotly\"], function(Plotly) {                    window.PLOTLYENV=window.PLOTLYENV || {};                                    if (document.getElementById(\"95757c40-a83b-45c9-b1a6-cf619506297e\")) {                    Plotly.newPlot(                        \"95757c40-a83b-45c9-b1a6-cf619506297e\",                        [{\"domain\":{\"x\":[0.0,1.0],\"y\":[0.0,1.0]},\"hole\":0.4,\"hovertemplate\":\"WeekdayName=%{label}\\u003cbr\\u003eCount=%{value}\\u003cextra\\u003e\\u003c\\u002fextra\\u003e\",\"labels\":[\"Monday\",\"Tuesday\",\"Wednesday\",\"Thursday\",\"Friday\",\"Saturday\",\"Sunday\"],\"legendgroup\":\"\",\"name\":\"\",\"showlegend\":true,\"values\":[130,184,162,150,147,139,136],\"type\":\"pie\",\"pull\":0.02,\"textinfo\":\"percent+label\",\"direction\":\"clockwise\",\"sort\":false}],                        {\"template\":{\"data\":{\"histogram2dcontour\":[{\"type\":\"histogram2dcontour\",\"colorbar\":{\"outlinewidth\":0,\"ticks\":\"\"},\"colorscale\":[[0.0,\"#0d0887\"],[0.1111111111111111,\"#46039f\"],[0.2222222222222222,\"#7201a8\"],[0.3333333333333333,\"#9c179e\"],[0.4444444444444444,\"#bd3786\"],[0.5555555555555556,\"#d8576b\"],[0.6666666666666666,\"#ed7953\"],[0.7777777777777778,\"#fb9f3a\"],[0.8888888888888888,\"#fdca26\"],[1.0,\"#f0f921\"]]}],\"choropleth\":[{\"type\":\"choropleth\",\"colorbar\":{\"outlinewidth\":0,\"ticks\":\"\"}}],\"histogram2d\":[{\"type\":\"histogram2d\",\"colorbar\":{\"outlinewidth\":0,\"ticks\":\"\"},\"colorscale\":[[0.0,\"#0d0887\"],[0.1111111111111111,\"#46039f\"],[0.2222222222222222,\"#7201a8\"],[0.3333333333333333,\"#9c179e\"],[0.4444444444444444,\"#bd3786\"],[0.5555555555555556,\"#d8576b\"],[0.6666666666666666,\"#ed7953\"],[0.7777777777777778,\"#fb9f3a\"],[0.8888888888888888,\"#fdca26\"],[1.0,\"#f0f921\"]]}],\"heatmap\":[{\"type\":\"heatmap\",\"colorbar\":{\"outlinewidth\":0,\"ticks\":\"\"},\"colorscale\":[[0.0,\"#0d0887\"],[0.1111111111111111,\"#46039f\"],[0.2222222222222222,\"#7201a8\"],[0.3333333333333333,\"#9c179e\"],[0.4444444444444444,\"#bd3786\"],[0.5555555555555556,\"#d8576b\"],[0.6666666666666666,\"#ed7953\"],[0.7777777777777778,\"#fb9f3a\"],[0.8888888888888888,\"#fdca26\"],[1.0,\"#f0f921\"]]}],\"heatmapgl\":[{\"type\":\"heatmapgl\",\"colorbar\":{\"outlinewidth\":0,\"ticks\":\"\"},\"colorscale\":[[0.0,\"#0d0887\"],[0.1111111111111111,\"#46039f\"],[0.2222222222222222,\"#7201a8\"],[0.3333333333333333,\"#9c179e\"],[0.4444444444444444,\"#bd3786\"],[0.5555555555555556,\"#d8576b\"],[0.6666666666666666,\"#ed7953\"],[0.7777777777777778,\"#fb9f3a\"],[0.8888888888888888,\"#fdca26\"],[1.0,\"#f0f921\"]]}],\"contourcarpet\":[{\"type\":\"contourcarpet\",\"colorbar\":{\"outlinewidth\":0,\"ticks\":\"\"}}],\"contour\":[{\"type\":\"contour\",\"colorbar\":{\"outlinewidth\":0,\"ticks\":\"\"},\"colorscale\":[[0.0,\"#0d0887\"],[0.1111111111111111,\"#46039f\"],[0.2222222222222222,\"#7201a8\"],[0.3333333333333333,\"#9c179e\"],[0.4444444444444444,\"#bd3786\"],[0.5555555555555556,\"#d8576b\"],[0.6666666666666666,\"#ed7953\"],[0.7777777777777778,\"#fb9f3a\"],[0.8888888888888888,\"#fdca26\"],[1.0,\"#f0f921\"]]}],\"surface\":[{\"type\":\"surface\",\"colorbar\":{\"outlinewidth\":0,\"ticks\":\"\"},\"colorscale\":[[0.0,\"#0d0887\"],[0.1111111111111111,\"#46039f\"],[0.2222222222222222,\"#7201a8\"],[0.3333333333333333,\"#9c179e\"],[0.4444444444444444,\"#bd3786\"],[0.5555555555555556,\"#d8576b\"],[0.6666666666666666,\"#ed7953\"],[0.7777777777777778,\"#fb9f3a\"],[0.8888888888888888,\"#fdca26\"],[1.0,\"#f0f921\"]]}],\"mesh3d\":[{\"type\":\"mesh3d\",\"colorbar\":{\"outlinewidth\":0,\"ticks\":\"\"}}],\"scatter\":[{\"fillpattern\":{\"fillmode\":\"overlay\",\"size\":10,\"solidity\":0.2},\"type\":\"scatter\"}],\"parcoords\":[{\"type\":\"parcoords\",\"line\":{\"colorbar\":{\"outlinewidth\":0,\"ticks\":\"\"}}}],\"scatterpolargl\":[{\"type\":\"scatterpolargl\",\"marker\":{\"colorbar\":{\"outlinewidth\":0,\"ticks\":\"\"}}}],\"bar\":[{\"error_x\":{\"color\":\"#2a3f5f\"},\"error_y\":{\"color\":\"#2a3f5f\"},\"marker\":{\"line\":{\"color\":\"#E5ECF6\",\"width\":0.5},\"pattern\":{\"fillmode\":\"overlay\",\"size\":10,\"solidity\":0.2}},\"type\":\"bar\"}],\"scattergeo\":[{\"type\":\"scattergeo\",\"marker\":{\"colorbar\":{\"outlinewidth\":0,\"ticks\":\"\"}}}],\"scatterpolar\":[{\"type\":\"scatterpolar\",\"marker\":{\"colorbar\":{\"outlinewidth\":0,\"ticks\":\"\"}}}],\"histogram\":[{\"marker\":{\"pattern\":{\"fillmode\":\"overlay\",\"size\":10,\"solidity\":0.2}},\"type\":\"histogram\"}],\"scattergl\":[{\"type\":\"scattergl\",\"marker\":{\"colorbar\":{\"outlinewidth\":0,\"ticks\":\"\"}}}],\"scatter3d\":[{\"type\":\"scatter3d\",\"line\":{\"colorbar\":{\"outlinewidth\":0,\"ticks\":\"\"}},\"marker\":{\"colorbar\":{\"outlinewidth\":0,\"ticks\":\"\"}}}],\"scattermapbox\":[{\"type\":\"scattermapbox\",\"marker\":{\"colorbar\":{\"outlinewidth\":0,\"ticks\":\"\"}}}],\"scatterternary\":[{\"type\":\"scatterternary\",\"marker\":{\"colorbar\":{\"outlinewidth\":0,\"ticks\":\"\"}}}],\"scattercarpet\":[{\"type\":\"scattercarpet\",\"marker\":{\"colorbar\":{\"outlinewidth\":0,\"ticks\":\"\"}}}],\"carpet\":[{\"aaxis\":{\"endlinecolor\":\"#2a3f5f\",\"gridcolor\":\"white\",\"linecolor\":\"white\",\"minorgridcolor\":\"white\",\"startlinecolor\":\"#2a3f5f\"},\"baxis\":{\"endlinecolor\":\"#2a3f5f\",\"gridcolor\":\"white\",\"linecolor\":\"white\",\"minorgridcolor\":\"white\",\"startlinecolor\":\"#2a3f5f\"},\"type\":\"carpet\"}],\"table\":[{\"cells\":{\"fill\":{\"color\":\"#EBF0F8\"},\"line\":{\"color\":\"white\"}},\"header\":{\"fill\":{\"color\":\"#C8D4E3\"},\"line\":{\"color\":\"white\"}},\"type\":\"table\"}],\"barpolar\":[{\"marker\":{\"line\":{\"color\":\"#E5ECF6\",\"width\":0.5},\"pattern\":{\"fillmode\":\"overlay\",\"size\":10,\"solidity\":0.2}},\"type\":\"barpolar\"}],\"pie\":[{\"automargin\":true,\"type\":\"pie\"}]},\"layout\":{\"autotypenumbers\":\"strict\",\"colorway\":[\"#636efa\",\"#EF553B\",\"#00cc96\",\"#ab63fa\",\"#FFA15A\",\"#19d3f3\",\"#FF6692\",\"#B6E880\",\"#FF97FF\",\"#FECB52\"],\"font\":{\"color\":\"#2a3f5f\"},\"hovermode\":\"closest\",\"hoverlabel\":{\"align\":\"left\"},\"paper_bgcolor\":\"white\",\"plot_bgcolor\":\"#E5ECF6\",\"polar\":{\"bgcolor\":\"#E5ECF6\",\"angularaxis\":{\"gridcolor\":\"white\",\"linecolor\":\"white\",\"ticks\":\"\"},\"radialaxis\":{\"gridcolor\":\"white\",\"linecolor\":\"white\",\"ticks\":\"\"}},\"ternary\":{\"bgcolor\":\"#E5ECF6\",\"aaxis\":{\"gridcolor\":\"white\",\"linecolor\":\"white\",\"ticks\":\"\"},\"baxis\":{\"gridcolor\":\"white\",\"linecolor\":\"white\",\"ticks\":\"\"},\"caxis\":{\"gridcolor\":\"white\",\"linecolor\":\"white\",\"ticks\":\"\"}},\"coloraxis\":{\"colorbar\":{\"outlinewidth\":0,\"ticks\":\"\"}},\"colorscale\":{\"sequential\":[[0.0,\"#0d0887\"],[0.1111111111111111,\"#46039f\"],[0.2222222222222222,\"#7201a8\"],[0.3333333333333333,\"#9c179e\"],[0.4444444444444444,\"#bd3786\"],[0.5555555555555556,\"#d8576b\"],[0.6666666666666666,\"#ed7953\"],[0.7777777777777778,\"#fb9f3a\"],[0.8888888888888888,\"#fdca26\"],[1.0,\"#f0f921\"]],\"sequentialminus\":[[0.0,\"#0d0887\"],[0.1111111111111111,\"#46039f\"],[0.2222222222222222,\"#7201a8\"],[0.3333333333333333,\"#9c179e\"],[0.4444444444444444,\"#bd3786\"],[0.5555555555555556,\"#d8576b\"],[0.6666666666666666,\"#ed7953\"],[0.7777777777777778,\"#fb9f3a\"],[0.8888888888888888,\"#fdca26\"],[1.0,\"#f0f921\"]],\"diverging\":[[0,\"#8e0152\"],[0.1,\"#c51b7d\"],[0.2,\"#de77ae\"],[0.3,\"#f1b6da\"],[0.4,\"#fde0ef\"],[0.5,\"#f7f7f7\"],[0.6,\"#e6f5d0\"],[0.7,\"#b8e186\"],[0.8,\"#7fbc41\"],[0.9,\"#4d9221\"],[1,\"#276419\"]]},\"xaxis\":{\"gridcolor\":\"white\",\"linecolor\":\"white\",\"ticks\":\"\",\"title\":{\"standoff\":15},\"zerolinecolor\":\"white\",\"automargin\":true,\"zerolinewidth\":2},\"yaxis\":{\"gridcolor\":\"white\",\"linecolor\":\"white\",\"ticks\":\"\",\"title\":{\"standoff\":15},\"zerolinecolor\":\"white\",\"automargin\":true,\"zerolinewidth\":2},\"scene\":{\"xaxis\":{\"backgroundcolor\":\"#E5ECF6\",\"gridcolor\":\"white\",\"linecolor\":\"white\",\"showbackground\":true,\"ticks\":\"\",\"zerolinecolor\":\"white\",\"gridwidth\":2},\"yaxis\":{\"backgroundcolor\":\"#E5ECF6\",\"gridcolor\":\"white\",\"linecolor\":\"white\",\"showbackground\":true,\"ticks\":\"\",\"zerolinecolor\":\"white\",\"gridwidth\":2},\"zaxis\":{\"backgroundcolor\":\"#E5ECF6\",\"gridcolor\":\"white\",\"linecolor\":\"white\",\"showbackground\":true,\"ticks\":\"\",\"zerolinecolor\":\"white\",\"gridwidth\":2}},\"shapedefaults\":{\"line\":{\"color\":\"#2a3f5f\"}},\"annotationdefaults\":{\"arrowcolor\":\"#2a3f5f\",\"arrowhead\":0,\"arrowwidth\":1},\"geo\":{\"bgcolor\":\"white\",\"landcolor\":\"#E5ECF6\",\"subunitcolor\":\"white\",\"showland\":true,\"showlakes\":true,\"lakecolor\":\"white\"},\"title\":{\"x\":0.05},\"mapbox\":{\"style\":\"light\"}}},\"legend\":{\"tracegroupgap\":0,\"orientation\":\"h\",\"xanchor\":\"center\",\"x\":0.5},\"title\":{\"text\":\"Tweets Liked by Weekday\",\"font\":{\"size\":24,\"family\":\"MonaspaceNeon-Regular\",\"color\":\"black\"},\"x\":0.5},\"piecolorway\":[\"#636EFA\",\"#EF553B\",\"#00CC96\",\"#AB63FA\",\"#FFA15A\",\"#19D3F3\",\"#FF6692\",\"#B6E880\",\"#FF97FF\",\"#FECB52\"],\"height\":560},                        {\"responsive\": true}                    ).then(function(){\n",
       "                            \n",
       "var gd = document.getElementById('95757c40-a83b-45c9-b1a6-cf619506297e');\n",
       "var x = new MutationObserver(function (mutations, observer) {{\n",
       "        var display = window.getComputedStyle(gd).display;\n",
       "        if (!display || display === 'none') {{\n",
       "            console.log([gd, 'removed!']);\n",
       "            Plotly.purge(gd);\n",
       "            observer.disconnect();\n",
       "        }}\n",
       "}});\n",
       "\n",
       "// Listen for the removal of the full notebook cells\n",
       "var notebookContainer = gd.closest('#notebook-container');\n",
       "if (notebookContainer) {{\n",
       "    x.observe(notebookContainer, {childList: true});\n",
       "}}\n",
       "\n",
       "// Listen for the clearing of the current output cell\n",
       "var outputEl = gd.closest('.output');\n",
       "if (outputEl) {{\n",
       "    x.observe(outputEl, {childList: true});\n",
       "}}\n",
       "\n",
       "                        })                };                });            </script>        </div>"
      ]
     },
     "metadata": {},
     "output_type": "display_data"
    }
   ],
   "source": [
    "def plot_combined_donut_chart_ordered_correctly(data_df, date_col = 'StrTime'):\n",
    "    # Convert 'StrTime' to datetime and extract the weekday name and number\n",
    "    data_df['WeekdayName'] = data_df[date_col].dt.day_name()\n",
    "    # Map weekday names to numbers for sorting (Monday=0, ..., Sunday=6)\n",
    "    weekdays_map = {'Monday': 0, 'Tuesday': 1, 'Wednesday': 2, 'Thursday': 3, 'Friday': 4, 'Saturday': 5, 'Sunday': 6}\n",
    "    data_df['WeekdayNumber'] = data_df['WeekdayName'].map(weekdays_map)\n",
    "    \n",
    "    # Prepare the data: count messages by WeekdayName, ignoring sender\n",
    "    weekday_distribution = data_df.groupby(['WeekdayName', 'WeekdayNumber']).size().reset_index(name='Count')\n",
    "    \n",
    "    # Sort by WeekdayNumber to ensure correct order\n",
    "    weekday_distribution.sort_values('WeekdayNumber', inplace=True)\n",
    "    \n",
    "    # Now that sorting is done, WeekdayNumber is no longer needed\n",
    "    weekday_distribution = weekday_distribution.drop(columns=['WeekdayNumber'])\n",
    "    \n",
    "    # Create Donut chart with a different color scheme\n",
    "    fig = px.pie(weekday_distribution, names='WeekdayName', values='Count',\n",
    "                 title=\"Tweets Liked by Weekday\",\n",
    "                 color_discrete_sequence=px.colors.qualitative.Plotly,\n",
    "                 hole=0.4)\n",
    "    \n",
    "    # Add slight margin between each day for better visualization\n",
    "    fig.update_traces(textinfo='percent+label', pull=0.02)\n",
    "    fig.update_layout(height=560, title_x=0.5, title_font = dict(size=24, family=\"MonaspaceNeon-Regular\", color=\"black\"), legend=dict(\n",
    "    orientation=\"h\", xanchor=\"center\", x=0.5))\n",
    "    fig.update_traces(sort=False, direction='clockwise')\n",
    "\n",
    "    fig.show()\n",
    "\n",
    "# Ensure data_df['StrTime'] is a datetime column before calling the function\n",
    "plot_combined_donut_chart_ordered_correctly(df, date_col='date')"
   ]
  },
  {
   "cell_type": "code",
   "execution_count": 253,
   "metadata": {},
   "outputs": [
    {
     "name": "stderr",
     "output_type": "stream",
     "text": [
      "/Users/jerlin/anaconda3/lib/python3.11/site-packages/plotly_calplot/calplot.py:159: SettingWithCopyWarning:\n",
      "\n",
      "\n",
      "A value is trying to be set on a copy of a slice from a DataFrame.\n",
      "Try using .loc[row_indexer,col_indexer] = value instead\n",
      "\n",
      "See the caveats in the documentation: https://pandas.pydata.org/pandas-docs/stable/user_guide/indexing.html#returning-a-view-versus-a-copy\n",
      "\n"
     ]
    },
    {
     "data": {
      "application/vnd.plotly.v1+json": {
       "config": {
        "plotlyServerURL": "https://plot.ly"
       },
       "data": [
        {
         "colorscale": [
          [
           0,
           "rgb(247,252,245)"
          ],
          [
           0.125,
           "rgb(229,245,224)"
          ],
          [
           0.25,
           "rgb(199,233,192)"
          ],
          [
           0.375,
           "rgb(161,217,155)"
          ],
          [
           0.5,
           "rgb(116,196,118)"
          ],
          [
           0.625,
           "rgb(65,171,93)"
          ],
          [
           0.75,
           "rgb(35,139,69)"
          ],
          [
           0.875,
           "rgb(0,109,44)"
          ],
          [
           1,
           "rgb(0,68,27)"
          ]
         ],
         "customdata": [
          [
           "2023-01-01",
           "y"
          ],
          [
           "2023-01-02",
           "y"
          ],
          [
           "2023-01-03",
           "y"
          ],
          [
           "2023-01-04",
           "y"
          ],
          [
           "2023-01-05",
           "y"
          ],
          [
           "2023-01-06",
           "y"
          ],
          [
           "2023-01-07",
           "y"
          ],
          [
           "2023-01-08",
           "y"
          ],
          [
           "2023-01-09",
           "y"
          ],
          [
           "2023-01-10",
           "y"
          ],
          [
           "2023-01-11",
           "y"
          ],
          [
           "2023-01-12",
           "y"
          ],
          [
           "2023-01-13",
           "y"
          ],
          [
           "2023-01-14",
           "y"
          ],
          [
           "2023-01-15",
           "y"
          ],
          [
           "2023-01-16",
           "y"
          ],
          [
           "2023-01-17",
           "y"
          ],
          [
           "2023-01-18",
           "y"
          ],
          [
           "2023-01-19",
           "y"
          ],
          [
           "2023-01-20",
           "y"
          ],
          [
           "2023-01-21",
           "y"
          ],
          [
           "2023-01-22",
           "y"
          ],
          [
           "2023-01-23",
           "y"
          ],
          [
           "2023-01-24",
           "y"
          ],
          [
           "2023-01-25",
           "y"
          ],
          [
           "2023-01-26",
           "y"
          ],
          [
           "2023-01-27",
           "y"
          ],
          [
           "2023-01-28",
           "y"
          ],
          [
           "2023-01-29",
           "y"
          ],
          [
           "2023-01-30",
           "y"
          ],
          [
           "2023-01-31",
           "y"
          ],
          [
           "2023-02-01",
           "y"
          ],
          [
           "2023-02-02",
           "y"
          ],
          [
           "2023-02-03",
           "y"
          ],
          [
           "2023-02-04",
           "y"
          ],
          [
           "2023-02-05",
           "y"
          ],
          [
           "2023-02-06",
           "y"
          ],
          [
           "2023-02-07",
           "y"
          ],
          [
           "2023-02-08",
           "y"
          ],
          [
           "2023-02-09",
           "y"
          ],
          [
           "2023-02-10",
           "y"
          ],
          [
           "2023-02-11",
           "y"
          ],
          [
           "2023-02-12",
           "y"
          ],
          [
           "2023-02-13",
           "y"
          ],
          [
           "2023-02-14",
           "y"
          ],
          [
           "2023-02-15",
           "y"
          ],
          [
           "2023-02-16",
           "y"
          ],
          [
           "2023-02-17",
           "y"
          ],
          [
           "2023-02-18",
           "y"
          ],
          [
           "2023-02-19",
           "y"
          ],
          [
           "2023-02-20",
           "y"
          ],
          [
           "2023-02-21",
           "y"
          ],
          [
           "2023-02-22",
           "y"
          ],
          [
           "2023-02-23",
           "y"
          ],
          [
           "2023-02-24",
           "y"
          ],
          [
           "2023-02-25",
           "y"
          ],
          [
           "2023-02-26",
           "y"
          ],
          [
           "2023-02-27",
           "y"
          ],
          [
           "2023-02-28",
           "y"
          ],
          [
           "2023-03-01",
           "y"
          ],
          [
           "2023-03-02",
           "y"
          ],
          [
           "2023-03-03",
           "y"
          ],
          [
           "2023-03-04",
           "y"
          ],
          [
           "2023-03-05",
           "y"
          ],
          [
           "2023-03-06",
           "y"
          ],
          [
           "2023-03-07",
           "y"
          ],
          [
           "2023-03-08",
           "y"
          ],
          [
           "2023-03-09",
           "y"
          ],
          [
           "2023-03-10",
           "y"
          ],
          [
           "2023-03-11",
           "y"
          ],
          [
           "2023-03-12",
           "y"
          ],
          [
           "2023-03-13",
           "y"
          ],
          [
           "2023-03-14",
           "y"
          ],
          [
           "2023-03-15",
           "y"
          ],
          [
           "2023-03-16",
           "y"
          ],
          [
           "2023-03-17",
           "y"
          ],
          [
           "2023-03-18",
           "y"
          ],
          [
           "2023-03-19",
           "y"
          ],
          [
           "2023-03-20",
           "y"
          ],
          [
           "2023-03-21",
           "y"
          ],
          [
           "2023-03-22",
           "y"
          ],
          [
           "2023-03-23",
           "y"
          ],
          [
           "2023-03-24",
           "y"
          ],
          [
           "2023-03-25",
           "y"
          ],
          [
           "2023-03-26",
           "y"
          ],
          [
           "2023-03-27",
           "y"
          ],
          [
           "2023-03-28",
           "y"
          ],
          [
           "2023-03-29",
           "y"
          ],
          [
           "2023-03-30",
           "y"
          ],
          [
           "2023-03-31",
           "y"
          ],
          [
           "2023-04-01",
           "y"
          ],
          [
           "2023-04-02",
           "y"
          ],
          [
           "2023-04-03",
           "y"
          ],
          [
           "2023-04-04",
           "y"
          ],
          [
           "2023-04-05",
           "y"
          ],
          [
           "2023-04-06",
           "y"
          ],
          [
           "2023-04-07",
           "y"
          ],
          [
           "2023-04-08",
           "y"
          ],
          [
           "2023-04-09",
           "y"
          ],
          [
           "2023-04-10",
           "y"
          ],
          [
           "2023-04-11",
           "y"
          ],
          [
           "2023-04-12",
           "y"
          ],
          [
           "2023-04-13",
           "y"
          ],
          [
           "2023-04-14",
           "y"
          ],
          [
           "2023-04-15",
           "y"
          ],
          [
           "2023-04-16",
           "y"
          ],
          [
           "2023-04-17",
           "y"
          ],
          [
           "2023-04-18",
           "y"
          ],
          [
           "2023-04-19",
           "y"
          ],
          [
           "2023-04-20",
           "y"
          ],
          [
           "2023-04-21",
           "y"
          ],
          [
           "2023-04-22",
           "y"
          ],
          [
           "2023-04-23",
           "y"
          ],
          [
           "2023-04-24",
           "y"
          ],
          [
           "2023-04-25",
           "y"
          ],
          [
           "2023-04-26",
           "y"
          ],
          [
           "2023-04-27",
           "y"
          ],
          [
           "2023-04-28",
           "y"
          ],
          [
           "2023-04-29",
           "y"
          ],
          [
           "2023-04-30",
           "y"
          ],
          [
           "2023-05-01",
           "y"
          ],
          [
           "2023-05-02",
           "y"
          ],
          [
           "2023-05-03",
           "y"
          ],
          [
           "2023-05-04",
           "y"
          ],
          [
           "2023-05-05",
           "y"
          ],
          [
           "2023-05-06",
           "y"
          ],
          [
           "2023-05-07",
           "y"
          ],
          [
           "2023-05-08",
           "y"
          ],
          [
           "2023-05-09",
           "y"
          ],
          [
           "2023-05-10",
           "y"
          ],
          [
           "2023-05-11",
           "y"
          ],
          [
           "2023-05-12",
           "y"
          ],
          [
           "2023-05-13",
           "y"
          ],
          [
           "2023-05-14",
           "y"
          ],
          [
           "2023-05-15",
           "y"
          ],
          [
           "2023-05-16",
           "y"
          ],
          [
           "2023-05-17",
           "y"
          ],
          [
           "2023-05-18",
           "y"
          ],
          [
           "2023-05-19",
           "y"
          ],
          [
           "2023-05-20",
           "y"
          ],
          [
           "2023-05-21",
           "y"
          ],
          [
           "2023-05-22",
           "y"
          ],
          [
           "2023-05-23",
           "y"
          ],
          [
           "2023-05-24",
           "y"
          ],
          [
           "2023-05-25",
           "y"
          ],
          [
           "2023-05-26",
           "y"
          ],
          [
           "2023-05-27",
           "y"
          ],
          [
           "2023-05-28",
           "y"
          ],
          [
           "2023-05-29",
           "y"
          ],
          [
           "2023-05-30",
           "y"
          ],
          [
           "2023-05-31",
           "y"
          ],
          [
           "2023-06-01",
           "y"
          ],
          [
           "2023-06-02",
           "y"
          ],
          [
           "2023-06-03",
           "y"
          ],
          [
           "2023-06-04",
           "y"
          ],
          [
           "2023-06-05",
           "y"
          ],
          [
           "2023-06-06",
           "y"
          ],
          [
           "2023-06-07",
           "y"
          ],
          [
           "2023-06-08",
           "y"
          ],
          [
           "2023-06-09",
           "y"
          ],
          [
           "2023-06-10",
           "y"
          ],
          [
           "2023-06-11",
           "y"
          ],
          [
           "2023-06-12",
           "y"
          ],
          [
           "2023-06-13",
           "y"
          ],
          [
           "2023-06-14",
           "y"
          ],
          [
           "2023-06-15",
           "y"
          ],
          [
           "2023-06-16",
           "y"
          ],
          [
           "2023-06-17",
           "y"
          ],
          [
           "2023-06-18",
           "y"
          ],
          [
           "2023-06-19",
           "y"
          ],
          [
           "2023-06-20",
           "y"
          ],
          [
           "2023-06-21",
           "y"
          ],
          [
           "2023-06-22",
           "y"
          ],
          [
           "2023-06-23",
           "y"
          ],
          [
           "2023-06-24",
           "y"
          ],
          [
           "2023-06-25",
           "y"
          ],
          [
           "2023-06-26",
           "y"
          ],
          [
           "2023-06-27",
           "y"
          ],
          [
           "2023-06-28",
           "y"
          ],
          [
           "2023-06-29",
           "y"
          ],
          [
           "2023-06-30",
           "y"
          ],
          [
           "2023-07-01",
           "y"
          ],
          [
           "2023-07-02",
           "y"
          ],
          [
           "2023-07-03",
           "y"
          ],
          [
           "2023-07-04",
           "y"
          ],
          [
           "2023-07-05",
           "y"
          ],
          [
           "2023-07-06",
           "y"
          ],
          [
           "2023-07-07",
           "y"
          ],
          [
           "2023-07-08",
           "y"
          ],
          [
           "2023-07-09",
           "y"
          ],
          [
           "2023-07-10",
           "y"
          ],
          [
           "2023-07-11",
           "y"
          ],
          [
           "2023-07-12",
           "y"
          ],
          [
           "2023-07-13",
           "y"
          ],
          [
           "2023-07-14",
           "y"
          ],
          [
           "2023-07-15",
           "y"
          ],
          [
           "2023-07-16",
           "y"
          ],
          [
           "2023-07-17",
           "y"
          ],
          [
           "2023-07-18",
           "y"
          ],
          [
           "2023-07-19",
           "y"
          ],
          [
           "2023-07-20",
           "y"
          ],
          [
           "2023-07-21",
           "y"
          ],
          [
           "2023-07-22",
           "y"
          ],
          [
           "2023-07-23",
           "y"
          ],
          [
           "2023-07-24",
           "y"
          ],
          [
           "2023-07-25",
           "y"
          ],
          [
           "2023-07-26",
           "y"
          ],
          [
           "2023-07-27",
           "y"
          ],
          [
           "2023-07-28",
           "y"
          ],
          [
           "2023-07-29",
           "y"
          ],
          [
           "2023-07-30",
           "y"
          ],
          [
           "2023-07-31",
           "y"
          ],
          [
           "2023-08-01",
           "y"
          ],
          [
           "2023-08-02",
           "y"
          ],
          [
           "2023-08-03",
           "y"
          ],
          [
           "2023-08-04",
           "y"
          ],
          [
           "2023-08-05",
           "y"
          ],
          [
           "2023-08-06",
           "y"
          ],
          [
           "2023-08-07",
           "y"
          ],
          [
           "2023-08-08",
           "y"
          ],
          [
           "2023-08-09",
           "y"
          ],
          [
           "2023-08-10",
           "y"
          ],
          [
           "2023-08-11",
           "y"
          ],
          [
           "2023-08-12",
           "y"
          ],
          [
           "2023-08-13",
           "y"
          ],
          [
           "2023-08-14",
           "y"
          ],
          [
           "2023-08-15",
           "y"
          ],
          [
           "2023-08-16",
           "y"
          ],
          [
           "2023-08-17",
           "y"
          ],
          [
           "2023-08-18",
           "y"
          ],
          [
           "2023-08-19",
           "y"
          ],
          [
           "2023-08-20",
           "y"
          ],
          [
           "2023-08-21",
           "y"
          ],
          [
           "2023-08-22",
           "y"
          ],
          [
           "2023-08-23",
           "y"
          ],
          [
           "2023-08-24",
           "y"
          ],
          [
           "2023-08-25",
           "y"
          ],
          [
           "2023-08-26",
           "y"
          ],
          [
           "2023-08-27",
           "y"
          ],
          [
           "2023-08-28",
           "y"
          ],
          [
           "2023-08-29",
           "y"
          ],
          [
           "2023-08-30",
           "y"
          ],
          [
           "2023-08-31",
           "y"
          ],
          [
           "2023-09-01",
           "y"
          ],
          [
           "2023-09-02",
           "y"
          ],
          [
           "2023-09-03",
           "y"
          ],
          [
           "2023-09-04",
           "y"
          ],
          [
           "2023-09-05",
           "y"
          ],
          [
           "2023-09-06",
           "y"
          ],
          [
           "2023-09-07",
           "y"
          ],
          [
           "2023-09-08",
           "y"
          ],
          [
           "2023-09-09",
           "y"
          ],
          [
           "2023-09-10",
           "y"
          ],
          [
           "2023-09-11",
           "y"
          ],
          [
           "2023-09-12",
           "y"
          ],
          [
           "2023-09-13",
           "y"
          ],
          [
           "2023-09-14",
           "y"
          ],
          [
           "2023-09-15",
           "y"
          ],
          [
           "2023-09-16",
           "y"
          ],
          [
           "2023-09-17",
           "y"
          ],
          [
           "2023-09-18",
           "y"
          ],
          [
           "2023-09-19",
           "y"
          ],
          [
           "2023-09-20",
           "y"
          ],
          [
           "2023-09-21",
           "y"
          ],
          [
           "2023-09-22",
           "y"
          ],
          [
           "2023-09-23",
           "y"
          ],
          [
           "2023-09-24",
           "y"
          ],
          [
           "2023-09-25",
           "y"
          ],
          [
           "2023-09-26",
           "y"
          ],
          [
           "2023-09-27",
           "y"
          ],
          [
           "2023-09-28",
           "y"
          ],
          [
           "2023-09-29",
           "y"
          ],
          [
           "2023-09-30",
           "y"
          ],
          [
           "2023-10-01",
           "y"
          ],
          [
           "2023-10-02",
           "y"
          ],
          [
           "2023-10-03",
           "y"
          ],
          [
           "2023-10-04",
           "y"
          ],
          [
           "2023-10-05",
           "y"
          ],
          [
           "2023-10-06",
           "y"
          ],
          [
           "2023-10-07",
           "y"
          ],
          [
           "2023-10-08",
           "y"
          ],
          [
           "2023-10-09",
           "y"
          ],
          [
           "2023-10-10",
           "y"
          ],
          [
           "2023-10-11",
           "y"
          ],
          [
           "2023-10-12",
           "y"
          ],
          [
           "2023-10-13",
           "y"
          ],
          [
           "2023-10-14",
           "y"
          ],
          [
           "2023-10-15",
           "y"
          ],
          [
           "2023-10-16",
           "y"
          ],
          [
           "2023-10-17",
           "y"
          ],
          [
           "2023-10-18",
           "y"
          ],
          [
           "2023-10-19",
           "y"
          ],
          [
           "2023-10-20",
           "y"
          ],
          [
           "2023-10-21",
           "y"
          ],
          [
           "2023-10-22",
           "y"
          ],
          [
           "2023-10-23",
           "y"
          ],
          [
           "2023-10-24",
           "y"
          ],
          [
           "2023-10-25",
           "y"
          ],
          [
           "2023-10-26",
           "y"
          ],
          [
           "2023-10-27",
           "y"
          ],
          [
           "2023-10-28",
           "y"
          ],
          [
           "2023-10-29",
           "y"
          ],
          [
           "2023-10-30",
           "y"
          ],
          [
           "2023-10-31",
           "y"
          ],
          [
           "2023-11-01",
           "y"
          ],
          [
           "2023-11-02",
           "y"
          ],
          [
           "2023-11-03",
           "y"
          ],
          [
           "2023-11-04",
           "y"
          ],
          [
           "2023-11-05",
           "y"
          ],
          [
           "2023-11-06",
           "y"
          ],
          [
           "2023-11-07",
           "y"
          ],
          [
           "2023-11-08",
           "y"
          ],
          [
           "2023-11-09",
           "y"
          ],
          [
           "2023-11-10",
           "y"
          ],
          [
           "2023-11-11",
           "y"
          ],
          [
           "2023-11-12",
           "y"
          ],
          [
           "2023-11-13",
           "y"
          ],
          [
           "2023-11-14",
           "y"
          ],
          [
           "2023-11-15",
           "y"
          ],
          [
           "2023-11-16",
           "y"
          ],
          [
           "2023-11-17",
           "y"
          ],
          [
           "2023-11-18",
           "y"
          ],
          [
           "2023-11-19",
           "y"
          ],
          [
           "2023-11-20",
           "y"
          ],
          [
           "2023-11-21",
           "y"
          ],
          [
           "2023-11-22",
           "y"
          ],
          [
           "2023-11-23",
           "y"
          ],
          [
           "2023-11-24",
           "y"
          ],
          [
           "2023-11-25",
           "y"
          ],
          [
           "2023-11-26",
           "y"
          ],
          [
           "2023-11-27",
           "y"
          ],
          [
           "2023-11-28",
           "y"
          ],
          [
           "2023-11-29",
           "y"
          ],
          [
           "2023-11-30",
           "y"
          ],
          [
           "2023-12-01",
           "y"
          ],
          [
           "2023-12-02",
           "y"
          ],
          [
           "2023-12-03",
           "y"
          ],
          [
           "2023-12-04",
           "y"
          ],
          [
           "2023-12-05",
           "y"
          ],
          [
           "2023-12-06",
           "y"
          ],
          [
           "2023-12-07",
           "y"
          ],
          [
           "2023-12-08",
           "y"
          ],
          [
           "2023-12-09",
           "y"
          ],
          [
           "2023-12-10",
           "y"
          ],
          [
           "2023-12-11",
           "y"
          ],
          [
           "2023-12-12",
           "y"
          ],
          [
           "2023-12-13",
           "y"
          ],
          [
           "2023-12-14",
           "y"
          ],
          [
           "2023-12-15",
           "y"
          ],
          [
           "2023-12-16",
           "y"
          ],
          [
           "2023-12-17",
           "y"
          ],
          [
           "2023-12-18",
           "y"
          ],
          [
           "2023-12-19",
           "y"
          ],
          [
           "2023-12-20",
           "y"
          ],
          [
           "2023-12-21",
           "y"
          ],
          [
           "2023-12-22",
           "y"
          ],
          [
           "2023-12-23",
           "y"
          ],
          [
           "2023-12-24",
           "y"
          ],
          [
           "2023-12-25",
           "y"
          ],
          [
           "2023-12-26",
           "y"
          ],
          [
           "2023-12-27",
           "y"
          ],
          [
           "2023-12-28",
           "y"
          ],
          [
           "2023-12-29",
           "y"
          ],
          [
           "2023-12-30",
           "y"
          ],
          [
           "2023-12-31",
           "y"
          ]
         ],
         "hovertemplate": "%{customdata[0]} <br>Week=%{x} <br>%{customdata[1]}=%{z}",
         "name": "2023",
         "showscale": false,
         "type": "heatmap",
         "x": [
          0,
          1,
          1,
          1,
          1,
          1,
          1,
          1,
          2,
          2,
          2,
          2,
          2,
          2,
          2,
          3,
          3,
          3,
          3,
          3,
          3,
          3,
          4,
          4,
          4,
          4,
          4,
          4,
          4,
          5,
          5,
          5,
          5,
          5,
          5,
          5,
          6,
          6,
          6,
          6,
          6,
          6,
          6,
          7,
          7,
          7,
          7,
          7,
          7,
          7,
          8,
          8,
          8,
          8,
          8,
          8,
          8,
          9,
          9,
          9,
          9,
          9,
          9,
          9,
          10,
          10,
          10,
          10,
          10,
          10,
          10,
          11,
          11,
          11,
          11,
          11,
          11,
          11,
          12,
          12,
          12,
          12,
          12,
          12,
          12,
          13,
          13,
          13,
          13,
          13,
          13,
          13,
          14,
          14,
          14,
          14,
          14,
          14,
          14,
          15,
          15,
          15,
          15,
          15,
          15,
          15,
          16,
          16,
          16,
          16,
          16,
          16,
          16,
          17,
          17,
          17,
          17,
          17,
          17,
          17,
          18,
          18,
          18,
          18,
          18,
          18,
          18,
          19,
          19,
          19,
          19,
          19,
          19,
          19,
          20,
          20,
          20,
          20,
          20,
          20,
          20,
          21,
          21,
          21,
          21,
          21,
          21,
          21,
          22,
          22,
          22,
          22,
          22,
          22,
          22,
          23,
          23,
          23,
          23,
          23,
          23,
          23,
          24,
          24,
          24,
          24,
          24,
          24,
          24,
          25,
          25,
          25,
          25,
          25,
          25,
          25,
          26,
          26,
          26,
          26,
          26,
          26,
          26,
          27,
          27,
          27,
          27,
          27,
          27,
          27,
          28,
          28,
          28,
          28,
          28,
          28,
          28,
          29,
          29,
          29,
          29,
          29,
          29,
          29,
          30,
          30,
          30,
          30,
          30,
          30,
          30,
          31,
          31,
          31,
          31,
          31,
          31,
          31,
          32,
          32,
          32,
          32,
          32,
          32,
          32,
          33,
          33,
          33,
          33,
          33,
          33,
          33,
          34,
          34,
          34,
          34,
          34,
          34,
          34,
          35,
          35,
          35,
          35,
          35,
          35,
          35,
          36,
          36,
          36,
          36,
          36,
          36,
          36,
          37,
          37,
          37,
          37,
          37,
          37,
          37,
          38,
          38,
          38,
          38,
          38,
          38,
          38,
          39,
          39,
          39,
          39,
          39,
          39,
          39,
          40,
          40,
          40,
          40,
          40,
          40,
          40,
          41,
          41,
          41,
          41,
          41,
          41,
          41,
          42,
          42,
          42,
          42,
          42,
          42,
          42,
          43,
          43,
          43,
          43,
          43,
          43,
          43,
          44,
          44,
          44,
          44,
          44,
          44,
          44,
          45,
          45,
          45,
          45,
          45,
          45,
          45,
          46,
          46,
          46,
          46,
          46,
          46,
          46,
          47,
          47,
          47,
          47,
          47,
          47,
          47,
          48,
          48,
          48,
          48,
          48,
          48,
          48,
          49,
          49,
          49,
          49,
          49,
          49,
          49,
          50,
          50,
          50,
          50,
          50,
          50,
          50,
          51,
          51,
          51,
          51,
          51,
          51,
          51,
          52,
          52,
          52,
          52,
          52,
          52,
          52
         ],
         "xaxis": "x",
         "xgap": 1,
         "y": [
          6,
          0,
          1,
          2,
          3,
          4,
          5,
          6,
          0,
          1,
          2,
          3,
          4,
          5,
          6,
          0,
          1,
          2,
          3,
          4,
          5,
          6,
          0,
          1,
          2,
          3,
          4,
          5,
          6,
          0,
          1,
          2,
          3,
          4,
          5,
          6,
          0,
          1,
          2,
          3,
          4,
          5,
          6,
          0,
          1,
          2,
          3,
          4,
          5,
          6,
          0,
          1,
          2,
          3,
          4,
          5,
          6,
          0,
          1,
          2,
          3,
          4,
          5,
          6,
          0,
          1,
          2,
          3,
          4,
          5,
          6,
          0,
          1,
          2,
          3,
          4,
          5,
          6,
          0,
          1,
          2,
          3,
          4,
          5,
          6,
          0,
          1,
          2,
          3,
          4,
          5,
          6,
          0,
          1,
          2,
          3,
          4,
          5,
          6,
          0,
          1,
          2,
          3,
          4,
          5,
          6,
          0,
          1,
          2,
          3,
          4,
          5,
          6,
          0,
          1,
          2,
          3,
          4,
          5,
          6,
          0,
          1,
          2,
          3,
          4,
          5,
          6,
          0,
          1,
          2,
          3,
          4,
          5,
          6,
          0,
          1,
          2,
          3,
          4,
          5,
          6,
          0,
          1,
          2,
          3,
          4,
          5,
          6,
          0,
          1,
          2,
          3,
          4,
          5,
          6,
          0,
          1,
          2,
          3,
          4,
          5,
          6,
          0,
          1,
          2,
          3,
          4,
          5,
          6,
          0,
          1,
          2,
          3,
          4,
          5,
          6,
          0,
          1,
          2,
          3,
          4,
          5,
          6,
          0,
          1,
          2,
          3,
          4,
          5,
          6,
          0,
          1,
          2,
          3,
          4,
          5,
          6,
          0,
          1,
          2,
          3,
          4,
          5,
          6,
          0,
          1,
          2,
          3,
          4,
          5,
          6,
          0,
          1,
          2,
          3,
          4,
          5,
          6,
          0,
          1,
          2,
          3,
          4,
          5,
          6,
          0,
          1,
          2,
          3,
          4,
          5,
          6,
          0,
          1,
          2,
          3,
          4,
          5,
          6,
          0,
          1,
          2,
          3,
          4,
          5,
          6,
          0,
          1,
          2,
          3,
          4,
          5,
          6,
          0,
          1,
          2,
          3,
          4,
          5,
          6,
          0,
          1,
          2,
          3,
          4,
          5,
          6,
          0,
          1,
          2,
          3,
          4,
          5,
          6,
          0,
          1,
          2,
          3,
          4,
          5,
          6,
          0,
          1,
          2,
          3,
          4,
          5,
          6,
          0,
          1,
          2,
          3,
          4,
          5,
          6,
          0,
          1,
          2,
          3,
          4,
          5,
          6,
          0,
          1,
          2,
          3,
          4,
          5,
          6,
          0,
          1,
          2,
          3,
          4,
          5,
          6,
          0,
          1,
          2,
          3,
          4,
          5,
          6,
          0,
          1,
          2,
          3,
          4,
          5,
          6,
          0,
          1,
          2,
          3,
          4,
          5,
          6,
          0,
          1,
          2,
          3,
          4,
          5,
          6,
          0,
          1,
          2,
          3,
          4,
          5,
          6,
          0,
          1,
          2,
          3,
          4,
          5,
          6,
          0,
          1,
          2,
          3,
          4,
          5,
          6
         ],
         "yaxis": "y",
         "ygap": 1,
         "z": [
          null,
          null,
          null,
          null,
          null,
          null,
          null,
          null,
          null,
          null,
          null,
          null,
          null,
          null,
          null,
          null,
          null,
          null,
          null,
          null,
          null,
          null,
          null,
          null,
          null,
          null,
          null,
          null,
          null,
          null,
          null,
          null,
          null,
          null,
          null,
          null,
          null,
          null,
          null,
          null,
          null,
          null,
          null,
          null,
          null,
          null,
          null,
          null,
          null,
          null,
          null,
          null,
          null,
          null,
          null,
          null,
          null,
          null,
          null,
          null,
          null,
          null,
          null,
          null,
          null,
          null,
          null,
          null,
          null,
          null,
          null,
          null,
          null,
          null,
          null,
          null,
          null,
          null,
          null,
          null,
          null,
          null,
          null,
          null,
          null,
          null,
          null,
          null,
          null,
          null,
          null,
          null,
          null,
          null,
          null,
          null,
          null,
          null,
          null,
          null,
          null,
          null,
          null,
          null,
          null,
          null,
          null,
          null,
          null,
          null,
          null,
          null,
          null,
          null,
          null,
          null,
          null,
          null,
          null,
          null,
          null,
          null,
          null,
          null,
          null,
          null,
          null,
          null,
          null,
          null,
          null,
          null,
          null,
          null,
          null,
          null,
          null,
          null,
          null,
          null,
          null,
          null,
          null,
          null,
          null,
          null,
          null,
          null,
          null,
          null,
          null,
          null,
          null,
          null,
          null,
          null,
          null,
          null,
          null,
          null,
          null,
          null,
          null,
          null,
          null,
          null,
          null,
          null,
          null,
          null,
          null,
          null,
          null,
          null,
          null,
          null,
          null,
          null,
          null,
          null,
          null,
          null,
          null,
          null,
          null,
          null,
          null,
          null,
          null,
          null,
          null,
          null,
          null,
          null,
          null,
          null,
          null,
          null,
          null,
          null,
          null,
          null,
          null,
          null,
          null,
          null,
          null,
          null,
          null,
          null,
          null,
          null,
          null,
          null,
          null,
          null,
          null,
          null,
          null,
          null,
          null,
          null,
          null,
          null,
          null,
          null,
          null,
          null,
          null,
          null,
          null,
          null,
          null,
          null,
          null,
          null,
          null,
          null,
          null,
          null,
          null,
          null,
          null,
          null,
          null,
          null,
          null,
          null,
          null,
          null,
          null,
          null,
          null,
          null,
          null,
          null,
          null,
          null,
          null,
          null,
          null,
          null,
          null,
          null,
          null,
          null,
          null,
          null,
          null,
          null,
          null,
          null,
          null,
          1,
          null,
          3,
          1,
          null,
          null,
          1,
          1,
          null,
          null,
          1,
          null,
          null,
          null,
          null,
          null,
          1,
          null,
          null,
          1,
          null,
          null,
          null,
          1,
          null,
          null,
          null,
          null,
          null,
          null,
          null,
          null,
          null,
          null,
          null,
          null,
          null,
          1,
          null,
          null,
          null,
          1,
          null,
          1,
          1,
          null,
          null,
          1,
          1,
          2,
          5,
          13,
          11,
          10,
          15,
          14,
          9,
          11,
          9,
          8,
          20,
          15,
          17,
          4,
          5,
          14,
          8,
          11,
          6,
          11,
          8,
          4,
          6,
          18,
          8,
          7,
          9,
          9,
          11,
          17,
          16,
          14,
          8,
          21,
          16,
          11,
          18,
          20,
          15,
          10,
          9,
          11
         ],
         "zmax": 21,
         "zmin": 1
        },
        {
         "hoverinfo": "skip",
         "line": {
          "color": "#9e9e9e",
          "width": 1
         },
         "mode": "lines",
         "type": "scatter",
         "x": [
          -0.5,
          -0.5
         ],
         "xaxis": "x",
         "y": [
          5.5,
          6.5
         ],
         "yaxis": "y"
        },
        {
         "hoverinfo": "skip",
         "line": {
          "color": "#9e9e9e",
          "width": 1
         },
         "mode": "lines",
         "type": "scatter",
         "x": [
          -0.5,
          0.5
         ],
         "xaxis": "x",
         "y": [
          5.5,
          5.5
         ],
         "yaxis": "y"
        },
        {
         "hoverinfo": "skip",
         "line": {
          "color": "#9e9e9e",
          "width": 1
         },
         "mode": "lines",
         "type": "scatter",
         "x": [
          0.5,
          0.5
         ],
         "xaxis": "x",
         "y": [
          5.5,
          -0.5
         ],
         "yaxis": "y"
        },
        {
         "hoverinfo": "skip",
         "line": {
          "color": "#9e9e9e",
          "width": 1
         },
         "mode": "lines",
         "type": "scatter",
         "x": [
          4.5,
          4.5
         ],
         "xaxis": "x",
         "y": [
          1.5,
          6.5
         ],
         "yaxis": "y"
        },
        {
         "hoverinfo": "skip",
         "line": {
          "color": "#9e9e9e",
          "width": 1
         },
         "mode": "lines",
         "type": "scatter",
         "x": [
          4.5,
          5.5
         ],
         "xaxis": "x",
         "y": [
          1.5,
          1.5
         ],
         "yaxis": "y"
        },
        {
         "hoverinfo": "skip",
         "line": {
          "color": "#9e9e9e",
          "width": 1
         },
         "mode": "lines",
         "type": "scatter",
         "x": [
          5.5,
          5.5
         ],
         "xaxis": "x",
         "y": [
          1.5,
          -0.5
         ],
         "yaxis": "y"
        },
        {
         "hoverinfo": "skip",
         "line": {
          "color": "#9e9e9e",
          "width": 1
         },
         "mode": "lines",
         "type": "scatter",
         "x": [
          8.5,
          8.5
         ],
         "xaxis": "x",
         "y": [
          1.5,
          6.5
         ],
         "yaxis": "y"
        },
        {
         "hoverinfo": "skip",
         "line": {
          "color": "#9e9e9e",
          "width": 1
         },
         "mode": "lines",
         "type": "scatter",
         "x": [
          8.5,
          9.5
         ],
         "xaxis": "x",
         "y": [
          1.5,
          1.5
         ],
         "yaxis": "y"
        },
        {
         "hoverinfo": "skip",
         "line": {
          "color": "#9e9e9e",
          "width": 1
         },
         "mode": "lines",
         "type": "scatter",
         "x": [
          9.5,
          9.5
         ],
         "xaxis": "x",
         "y": [
          1.5,
          -0.5
         ],
         "yaxis": "y"
        },
        {
         "hoverinfo": "skip",
         "line": {
          "color": "#9e9e9e",
          "width": 1
         },
         "mode": "lines",
         "type": "scatter",
         "x": [
          12.5,
          12.5
         ],
         "xaxis": "x",
         "y": [
          4.5,
          6.5
         ],
         "yaxis": "y"
        },
        {
         "hoverinfo": "skip",
         "line": {
          "color": "#9e9e9e",
          "width": 1
         },
         "mode": "lines",
         "type": "scatter",
         "x": [
          12.5,
          13.5
         ],
         "xaxis": "x",
         "y": [
          4.5,
          4.5
         ],
         "yaxis": "y"
        },
        {
         "hoverinfo": "skip",
         "line": {
          "color": "#9e9e9e",
          "width": 1
         },
         "mode": "lines",
         "type": "scatter",
         "x": [
          13.5,
          13.5
         ],
         "xaxis": "x",
         "y": [
          4.5,
          -0.5
         ],
         "yaxis": "y"
        },
        {
         "hoverinfo": "skip",
         "line": {
          "color": "#9e9e9e",
          "width": 1
         },
         "mode": "lines",
         "type": "scatter",
         "x": [
          17.5,
          17.5
         ],
         "xaxis": "x",
         "y": [
          -0.5,
          6.5
         ],
         "yaxis": "y"
        },
        {
         "hoverinfo": "skip",
         "line": {
          "color": "#9e9e9e",
          "width": 1
         },
         "mode": "lines",
         "type": "scatter",
         "x": [
          21.5,
          21.5
         ],
         "xaxis": "x",
         "y": [
          2.5,
          6.5
         ],
         "yaxis": "y"
        },
        {
         "hoverinfo": "skip",
         "line": {
          "color": "#9e9e9e",
          "width": 1
         },
         "mode": "lines",
         "type": "scatter",
         "x": [
          21.5,
          22.5
         ],
         "xaxis": "x",
         "y": [
          2.5,
          2.5
         ],
         "yaxis": "y"
        },
        {
         "hoverinfo": "skip",
         "line": {
          "color": "#9e9e9e",
          "width": 1
         },
         "mode": "lines",
         "type": "scatter",
         "x": [
          22.5,
          22.5
         ],
         "xaxis": "x",
         "y": [
          2.5,
          -0.5
         ],
         "yaxis": "y"
        },
        {
         "hoverinfo": "skip",
         "line": {
          "color": "#9e9e9e",
          "width": 1
         },
         "mode": "lines",
         "type": "scatter",
         "x": [
          25.5,
          25.5
         ],
         "xaxis": "x",
         "y": [
          4.5,
          6.5
         ],
         "yaxis": "y"
        },
        {
         "hoverinfo": "skip",
         "line": {
          "color": "#9e9e9e",
          "width": 1
         },
         "mode": "lines",
         "type": "scatter",
         "x": [
          25.5,
          26.5
         ],
         "xaxis": "x",
         "y": [
          4.5,
          4.5
         ],
         "yaxis": "y"
        },
        {
         "hoverinfo": "skip",
         "line": {
          "color": "#9e9e9e",
          "width": 1
         },
         "mode": "lines",
         "type": "scatter",
         "x": [
          26.5,
          26.5
         ],
         "xaxis": "x",
         "y": [
          4.5,
          -0.5
         ],
         "yaxis": "y"
        },
        {
         "hoverinfo": "skip",
         "line": {
          "color": "#9e9e9e",
          "width": 1
         },
         "mode": "lines",
         "type": "scatter",
         "x": [
          30.5,
          30.5
         ],
         "xaxis": "x",
         "y": [
          0.5,
          6.5
         ],
         "yaxis": "y"
        },
        {
         "hoverinfo": "skip",
         "line": {
          "color": "#9e9e9e",
          "width": 1
         },
         "mode": "lines",
         "type": "scatter",
         "x": [
          30.5,
          31.5
         ],
         "xaxis": "x",
         "y": [
          0.5,
          0.5
         ],
         "yaxis": "y"
        },
        {
         "hoverinfo": "skip",
         "line": {
          "color": "#9e9e9e",
          "width": 1
         },
         "mode": "lines",
         "type": "scatter",
         "x": [
          31.5,
          31.5
         ],
         "xaxis": "x",
         "y": [
          0.5,
          -0.5
         ],
         "yaxis": "y"
        },
        {
         "hoverinfo": "skip",
         "line": {
          "color": "#9e9e9e",
          "width": 1
         },
         "mode": "lines",
         "type": "scatter",
         "x": [
          34.5,
          34.5
         ],
         "xaxis": "x",
         "y": [
          3.5,
          6.5
         ],
         "yaxis": "y"
        },
        {
         "hoverinfo": "skip",
         "line": {
          "color": "#9e9e9e",
          "width": 1
         },
         "mode": "lines",
         "type": "scatter",
         "x": [
          34.5,
          35.5
         ],
         "xaxis": "x",
         "y": [
          3.5,
          3.5
         ],
         "yaxis": "y"
        },
        {
         "hoverinfo": "skip",
         "line": {
          "color": "#9e9e9e",
          "width": 1
         },
         "mode": "lines",
         "type": "scatter",
         "x": [
          35.5,
          35.5
         ],
         "xaxis": "x",
         "y": [
          3.5,
          -0.5
         ],
         "yaxis": "y"
        },
        {
         "hoverinfo": "skip",
         "line": {
          "color": "#9e9e9e",
          "width": 1
         },
         "mode": "lines",
         "type": "scatter",
         "x": [
          38.5,
          38.5
         ],
         "xaxis": "x",
         "y": [
          5.5,
          6.5
         ],
         "yaxis": "y"
        },
        {
         "hoverinfo": "skip",
         "line": {
          "color": "#9e9e9e",
          "width": 1
         },
         "mode": "lines",
         "type": "scatter",
         "x": [
          38.5,
          39.5
         ],
         "xaxis": "x",
         "y": [
          5.5,
          5.5
         ],
         "yaxis": "y"
        },
        {
         "hoverinfo": "skip",
         "line": {
          "color": "#9e9e9e",
          "width": 1
         },
         "mode": "lines",
         "type": "scatter",
         "x": [
          39.5,
          39.5
         ],
         "xaxis": "x",
         "y": [
          5.5,
          -0.5
         ],
         "yaxis": "y"
        },
        {
         "hoverinfo": "skip",
         "line": {
          "color": "#9e9e9e",
          "width": 1
         },
         "mode": "lines",
         "type": "scatter",
         "x": [
          43.5,
          43.5
         ],
         "xaxis": "x",
         "y": [
          1.5,
          6.5
         ],
         "yaxis": "y"
        },
        {
         "hoverinfo": "skip",
         "line": {
          "color": "#9e9e9e",
          "width": 1
         },
         "mode": "lines",
         "type": "scatter",
         "x": [
          43.5,
          44.5
         ],
         "xaxis": "x",
         "y": [
          1.5,
          1.5
         ],
         "yaxis": "y"
        },
        {
         "hoverinfo": "skip",
         "line": {
          "color": "#9e9e9e",
          "width": 1
         },
         "mode": "lines",
         "type": "scatter",
         "x": [
          44.5,
          44.5
         ],
         "xaxis": "x",
         "y": [
          1.5,
          -0.5
         ],
         "yaxis": "y"
        },
        {
         "hoverinfo": "skip",
         "line": {
          "color": "#9e9e9e",
          "width": 1
         },
         "mode": "lines",
         "type": "scatter",
         "x": [
          47.5,
          47.5
         ],
         "xaxis": "x",
         "y": [
          3.5,
          6.5
         ],
         "yaxis": "y"
        },
        {
         "hoverinfo": "skip",
         "line": {
          "color": "#9e9e9e",
          "width": 1
         },
         "mode": "lines",
         "type": "scatter",
         "x": [
          47.5,
          48.5
         ],
         "xaxis": "x",
         "y": [
          3.5,
          3.5
         ],
         "yaxis": "y"
        },
        {
         "hoverinfo": "skip",
         "line": {
          "color": "#9e9e9e",
          "width": 1
         },
         "mode": "lines",
         "type": "scatter",
         "x": [
          48.5,
          48.5
         ],
         "xaxis": "x",
         "y": [
          3.5,
          -0.5
         ],
         "yaxis": "y"
        },
        {
         "colorscale": [
          [
           0,
           "rgb(247,252,245)"
          ],
          [
           0.125,
           "rgb(229,245,224)"
          ],
          [
           0.25,
           "rgb(199,233,192)"
          ],
          [
           0.375,
           "rgb(161,217,155)"
          ],
          [
           0.5,
           "rgb(116,196,118)"
          ],
          [
           0.625,
           "rgb(65,171,93)"
          ],
          [
           0.75,
           "rgb(35,139,69)"
          ],
          [
           0.875,
           "rgb(0,109,44)"
          ],
          [
           1,
           "rgb(0,68,27)"
          ]
         ],
         "customdata": [
          [
           "2024-01-01",
           "y"
          ],
          [
           "2024-01-02",
           "y"
          ],
          [
           "2024-01-03",
           "y"
          ],
          [
           "2024-01-04",
           "y"
          ],
          [
           "2024-01-05",
           "y"
          ],
          [
           "2024-01-06",
           "y"
          ],
          [
           "2024-01-07",
           "y"
          ],
          [
           "2024-01-08",
           "y"
          ],
          [
           "2024-01-09",
           "y"
          ],
          [
           "2024-01-10",
           "y"
          ],
          [
           "2024-01-11",
           "y"
          ],
          [
           "2024-01-12",
           "y"
          ],
          [
           "2024-01-13",
           "y"
          ],
          [
           "2024-01-14",
           "y"
          ],
          [
           "2024-01-15",
           "y"
          ],
          [
           "2024-01-16",
           "y"
          ],
          [
           "2024-01-17",
           "y"
          ],
          [
           "2024-01-18",
           "y"
          ],
          [
           "2024-01-19",
           "y"
          ],
          [
           "2024-01-20",
           "y"
          ],
          [
           "2024-01-21",
           "y"
          ],
          [
           "2024-01-22",
           "y"
          ],
          [
           "2024-01-23",
           "y"
          ],
          [
           "2024-01-24",
           "y"
          ],
          [
           "2024-01-25",
           "y"
          ],
          [
           "2024-01-26",
           "y"
          ],
          [
           "2024-01-27",
           "y"
          ],
          [
           "2024-01-28",
           "y"
          ],
          [
           "2024-01-29",
           "y"
          ],
          [
           "2024-01-30",
           "y"
          ],
          [
           "2024-01-31",
           "y"
          ],
          [
           "2024-02-01",
           "y"
          ],
          [
           "2024-02-02",
           "y"
          ],
          [
           "2024-02-03",
           "y"
          ],
          [
           "2024-02-04",
           "y"
          ],
          [
           "2024-02-05",
           "y"
          ],
          [
           "2024-02-06",
           "y"
          ],
          [
           "2024-02-07",
           "y"
          ],
          [
           "2024-02-08",
           "y"
          ],
          [
           "2024-02-09",
           "y"
          ],
          [
           "2024-02-10",
           "y"
          ],
          [
           "2024-02-11",
           "y"
          ],
          [
           "2024-02-12",
           "y"
          ],
          [
           "2024-02-13",
           "y"
          ],
          [
           "2024-02-14",
           "y"
          ],
          [
           "2024-02-15",
           "y"
          ],
          [
           "2024-02-16",
           "y"
          ],
          [
           "2024-02-17",
           "y"
          ],
          [
           "2024-02-18",
           "y"
          ],
          [
           "2024-02-19",
           "y"
          ],
          [
           "2024-02-20",
           "y"
          ],
          [
           "2024-02-21",
           "y"
          ],
          [
           "2024-02-22",
           "y"
          ],
          [
           "2024-02-23",
           "y"
          ],
          [
           "2024-02-24",
           "y"
          ],
          [
           "2024-02-25",
           "y"
          ],
          [
           "2024-02-26",
           "y"
          ],
          [
           "2024-02-27",
           "y"
          ],
          [
           "2024-02-28",
           "y"
          ],
          [
           "2024-02-29",
           "y"
          ],
          [
           "2024-03-01",
           "y"
          ],
          [
           "2024-03-02",
           "y"
          ],
          [
           "2024-03-03",
           "y"
          ],
          [
           "2024-03-04",
           "y"
          ],
          [
           "2024-03-05",
           "y"
          ],
          [
           "2024-03-06",
           "y"
          ],
          [
           "2024-03-07",
           "y"
          ],
          [
           "2024-03-08",
           "y"
          ],
          [
           "2024-03-09",
           "y"
          ],
          [
           "2024-03-10",
           "y"
          ],
          [
           "2024-03-11",
           "y"
          ],
          [
           "2024-03-12",
           "y"
          ],
          [
           "2024-03-13",
           "y"
          ],
          [
           "2024-03-14",
           "y"
          ],
          [
           "2024-03-15",
           "y"
          ],
          [
           "2024-03-16",
           "y"
          ],
          [
           "2024-03-17",
           "y"
          ],
          [
           "2024-03-18",
           "y"
          ],
          [
           "2024-03-19",
           "y"
          ],
          [
           "2024-03-20",
           "y"
          ],
          [
           "2024-03-21",
           "y"
          ],
          [
           "2024-03-22",
           "y"
          ],
          [
           "2024-03-23",
           "y"
          ],
          [
           "2024-03-24",
           "y"
          ],
          [
           "2024-03-25",
           "y"
          ],
          [
           "2024-03-26",
           "y"
          ],
          [
           "2024-03-27",
           "y"
          ],
          [
           "2024-03-28",
           "y"
          ],
          [
           "2024-03-29",
           "y"
          ],
          [
           "2024-03-30",
           "y"
          ],
          [
           "2024-03-31",
           "y"
          ],
          [
           "2024-04-01",
           "y"
          ],
          [
           "2024-04-02",
           "y"
          ],
          [
           "2024-04-03",
           "y"
          ],
          [
           "2024-04-04",
           "y"
          ],
          [
           "2024-04-05",
           "y"
          ],
          [
           "2024-04-06",
           "y"
          ],
          [
           "2024-04-07",
           "y"
          ],
          [
           "2024-04-08",
           "y"
          ],
          [
           "2024-04-09",
           "y"
          ],
          [
           "2024-04-10",
           "y"
          ],
          [
           "2024-04-11",
           "y"
          ],
          [
           "2024-04-12",
           "y"
          ],
          [
           "2024-04-13",
           "y"
          ],
          [
           "2024-04-14",
           "y"
          ],
          [
           "2024-04-15",
           "y"
          ],
          [
           "2024-04-16",
           "y"
          ],
          [
           "2024-04-17",
           "y"
          ],
          [
           "2024-04-18",
           "y"
          ],
          [
           "2024-04-19",
           "y"
          ],
          [
           "2024-04-20",
           "y"
          ],
          [
           "2024-04-21",
           "y"
          ],
          [
           "2024-04-22",
           "y"
          ],
          [
           "2024-04-23",
           "y"
          ],
          [
           "2024-04-24",
           "y"
          ],
          [
           "2024-04-25",
           "y"
          ],
          [
           "2024-04-26",
           "y"
          ],
          [
           "2024-04-27",
           "y"
          ],
          [
           "2024-04-28",
           "y"
          ],
          [
           "2024-04-29",
           "y"
          ],
          [
           "2024-04-30",
           "y"
          ],
          [
           "2024-05-01",
           "y"
          ],
          [
           "2024-05-02",
           "y"
          ],
          [
           "2024-05-03",
           "y"
          ],
          [
           "2024-05-04",
           "y"
          ],
          [
           "2024-05-05",
           "y"
          ],
          [
           "2024-05-06",
           "y"
          ],
          [
           "2024-05-07",
           "y"
          ],
          [
           "2024-05-08",
           "y"
          ],
          [
           "2024-05-09",
           "y"
          ],
          [
           "2024-05-10",
           "y"
          ],
          [
           "2024-05-11",
           "y"
          ],
          [
           "2024-05-12",
           "y"
          ],
          [
           "2024-05-13",
           "y"
          ],
          [
           "2024-05-14",
           "y"
          ],
          [
           "2024-05-15",
           "y"
          ],
          [
           "2024-05-16",
           "y"
          ],
          [
           "2024-05-17",
           "y"
          ],
          [
           "2024-05-18",
           "y"
          ],
          [
           "2024-05-19",
           "y"
          ],
          [
           "2024-05-20",
           "y"
          ],
          [
           "2024-05-21",
           "y"
          ],
          [
           "2024-05-22",
           "y"
          ],
          [
           "2024-05-23",
           "y"
          ],
          [
           "2024-05-24",
           "y"
          ],
          [
           "2024-05-25",
           "y"
          ],
          [
           "2024-05-26",
           "y"
          ],
          [
           "2024-05-27",
           "y"
          ],
          [
           "2024-05-28",
           "y"
          ],
          [
           "2024-05-29",
           "y"
          ],
          [
           "2024-05-30",
           "y"
          ],
          [
           "2024-05-31",
           "y"
          ],
          [
           "2024-06-01",
           "y"
          ],
          [
           "2024-06-02",
           "y"
          ],
          [
           "2024-06-03",
           "y"
          ],
          [
           "2024-06-04",
           "y"
          ],
          [
           "2024-06-05",
           "y"
          ],
          [
           "2024-06-06",
           "y"
          ],
          [
           "2024-06-07",
           "y"
          ],
          [
           "2024-06-08",
           "y"
          ],
          [
           "2024-06-09",
           "y"
          ],
          [
           "2024-06-10",
           "y"
          ],
          [
           "2024-06-11",
           "y"
          ],
          [
           "2024-06-12",
           "y"
          ],
          [
           "2024-06-13",
           "y"
          ],
          [
           "2024-06-14",
           "y"
          ],
          [
           "2024-06-15",
           "y"
          ],
          [
           "2024-06-16",
           "y"
          ],
          [
           "2024-06-17",
           "y"
          ],
          [
           "2024-06-18",
           "y"
          ],
          [
           "2024-06-19",
           "y"
          ],
          [
           "2024-06-20",
           "y"
          ],
          [
           "2024-06-21",
           "y"
          ],
          [
           "2024-06-22",
           "y"
          ],
          [
           "2024-06-23",
           "y"
          ],
          [
           "2024-06-24",
           "y"
          ],
          [
           "2024-06-25",
           "y"
          ],
          [
           "2024-06-26",
           "y"
          ],
          [
           "2024-06-27",
           "y"
          ],
          [
           "2024-06-28",
           "y"
          ],
          [
           "2024-06-29",
           "y"
          ],
          [
           "2024-06-30",
           "y"
          ],
          [
           "2024-07-01",
           "y"
          ],
          [
           "2024-07-02",
           "y"
          ],
          [
           "2024-07-03",
           "y"
          ],
          [
           "2024-07-04",
           "y"
          ],
          [
           "2024-07-05",
           "y"
          ],
          [
           "2024-07-06",
           "y"
          ],
          [
           "2024-07-07",
           "y"
          ],
          [
           "2024-07-08",
           "y"
          ],
          [
           "2024-07-09",
           "y"
          ],
          [
           "2024-07-10",
           "y"
          ],
          [
           "2024-07-11",
           "y"
          ],
          [
           "2024-07-12",
           "y"
          ],
          [
           "2024-07-13",
           "y"
          ],
          [
           "2024-07-14",
           "y"
          ],
          [
           "2024-07-15",
           "y"
          ],
          [
           "2024-07-16",
           "y"
          ],
          [
           "2024-07-17",
           "y"
          ],
          [
           "2024-07-18",
           "y"
          ],
          [
           "2024-07-19",
           "y"
          ],
          [
           "2024-07-20",
           "y"
          ],
          [
           "2024-07-21",
           "y"
          ],
          [
           "2024-07-22",
           "y"
          ],
          [
           "2024-07-23",
           "y"
          ],
          [
           "2024-07-24",
           "y"
          ],
          [
           "2024-07-25",
           "y"
          ],
          [
           "2024-07-26",
           "y"
          ],
          [
           "2024-07-27",
           "y"
          ],
          [
           "2024-07-28",
           "y"
          ],
          [
           "2024-07-29",
           "y"
          ],
          [
           "2024-07-30",
           "y"
          ],
          [
           "2024-07-31",
           "y"
          ],
          [
           "2024-08-01",
           "y"
          ],
          [
           "2024-08-02",
           "y"
          ],
          [
           "2024-08-03",
           "y"
          ],
          [
           "2024-08-04",
           "y"
          ],
          [
           "2024-08-05",
           "y"
          ],
          [
           "2024-08-06",
           "y"
          ],
          [
           "2024-08-07",
           "y"
          ],
          [
           "2024-08-08",
           "y"
          ],
          [
           "2024-08-09",
           "y"
          ],
          [
           "2024-08-10",
           "y"
          ],
          [
           "2024-08-11",
           "y"
          ],
          [
           "2024-08-12",
           "y"
          ],
          [
           "2024-08-13",
           "y"
          ],
          [
           "2024-08-14",
           "y"
          ],
          [
           "2024-08-15",
           "y"
          ],
          [
           "2024-08-16",
           "y"
          ],
          [
           "2024-08-17",
           "y"
          ],
          [
           "2024-08-18",
           "y"
          ],
          [
           "2024-08-19",
           "y"
          ],
          [
           "2024-08-20",
           "y"
          ],
          [
           "2024-08-21",
           "y"
          ],
          [
           "2024-08-22",
           "y"
          ],
          [
           "2024-08-23",
           "y"
          ],
          [
           "2024-08-24",
           "y"
          ],
          [
           "2024-08-25",
           "y"
          ],
          [
           "2024-08-26",
           "y"
          ],
          [
           "2024-08-27",
           "y"
          ],
          [
           "2024-08-28",
           "y"
          ],
          [
           "2024-08-29",
           "y"
          ],
          [
           "2024-08-30",
           "y"
          ],
          [
           "2024-08-31",
           "y"
          ],
          [
           "2024-09-01",
           "y"
          ],
          [
           "2024-09-02",
           "y"
          ],
          [
           "2024-09-03",
           "y"
          ],
          [
           "2024-09-04",
           "y"
          ],
          [
           "2024-09-05",
           "y"
          ],
          [
           "2024-09-06",
           "y"
          ],
          [
           "2024-09-07",
           "y"
          ],
          [
           "2024-09-08",
           "y"
          ],
          [
           "2024-09-09",
           "y"
          ],
          [
           "2024-09-10",
           "y"
          ],
          [
           "2024-09-11",
           "y"
          ],
          [
           "2024-09-12",
           "y"
          ],
          [
           "2024-09-13",
           "y"
          ],
          [
           "2024-09-14",
           "y"
          ],
          [
           "2024-09-15",
           "y"
          ],
          [
           "2024-09-16",
           "y"
          ],
          [
           "2024-09-17",
           "y"
          ],
          [
           "2024-09-18",
           "y"
          ],
          [
           "2024-09-19",
           "y"
          ],
          [
           "2024-09-20",
           "y"
          ],
          [
           "2024-09-21",
           "y"
          ],
          [
           "2024-09-22",
           "y"
          ],
          [
           "2024-09-23",
           "y"
          ],
          [
           "2024-09-24",
           "y"
          ],
          [
           "2024-09-25",
           "y"
          ],
          [
           "2024-09-26",
           "y"
          ],
          [
           "2024-09-27",
           "y"
          ],
          [
           "2024-09-28",
           "y"
          ],
          [
           "2024-09-29",
           "y"
          ],
          [
           "2024-09-30",
           "y"
          ],
          [
           "2024-10-01",
           "y"
          ],
          [
           "2024-10-02",
           "y"
          ],
          [
           "2024-10-03",
           "y"
          ],
          [
           "2024-10-04",
           "y"
          ],
          [
           "2024-10-05",
           "y"
          ],
          [
           "2024-10-06",
           "y"
          ],
          [
           "2024-10-07",
           "y"
          ],
          [
           "2024-10-08",
           "y"
          ],
          [
           "2024-10-09",
           "y"
          ],
          [
           "2024-10-10",
           "y"
          ],
          [
           "2024-10-11",
           "y"
          ],
          [
           "2024-10-12",
           "y"
          ],
          [
           "2024-10-13",
           "y"
          ],
          [
           "2024-10-14",
           "y"
          ],
          [
           "2024-10-15",
           "y"
          ],
          [
           "2024-10-16",
           "y"
          ],
          [
           "2024-10-17",
           "y"
          ],
          [
           "2024-10-18",
           "y"
          ],
          [
           "2024-10-19",
           "y"
          ],
          [
           "2024-10-20",
           "y"
          ],
          [
           "2024-10-21",
           "y"
          ],
          [
           "2024-10-22",
           "y"
          ],
          [
           "2024-10-23",
           "y"
          ],
          [
           "2024-10-24",
           "y"
          ],
          [
           "2024-10-25",
           "y"
          ],
          [
           "2024-10-26",
           "y"
          ],
          [
           "2024-10-27",
           "y"
          ],
          [
           "2024-10-28",
           "y"
          ],
          [
           "2024-10-29",
           "y"
          ],
          [
           "2024-10-30",
           "y"
          ],
          [
           "2024-10-31",
           "y"
          ],
          [
           "2024-11-01",
           "y"
          ],
          [
           "2024-11-02",
           "y"
          ],
          [
           "2024-11-03",
           "y"
          ],
          [
           "2024-11-04",
           "y"
          ],
          [
           "2024-11-05",
           "y"
          ],
          [
           "2024-11-06",
           "y"
          ],
          [
           "2024-11-07",
           "y"
          ],
          [
           "2024-11-08",
           "y"
          ],
          [
           "2024-11-09",
           "y"
          ],
          [
           "2024-11-10",
           "y"
          ],
          [
           "2024-11-11",
           "y"
          ],
          [
           "2024-11-12",
           "y"
          ],
          [
           "2024-11-13",
           "y"
          ],
          [
           "2024-11-14",
           "y"
          ],
          [
           "2024-11-15",
           "y"
          ],
          [
           "2024-11-16",
           "y"
          ],
          [
           "2024-11-17",
           "y"
          ],
          [
           "2024-11-18",
           "y"
          ],
          [
           "2024-11-19",
           "y"
          ],
          [
           "2024-11-20",
           "y"
          ],
          [
           "2024-11-21",
           "y"
          ],
          [
           "2024-11-22",
           "y"
          ],
          [
           "2024-11-23",
           "y"
          ],
          [
           "2024-11-24",
           "y"
          ],
          [
           "2024-11-25",
           "y"
          ],
          [
           "2024-11-26",
           "y"
          ],
          [
           "2024-11-27",
           "y"
          ],
          [
           "2024-11-28",
           "y"
          ],
          [
           "2024-11-29",
           "y"
          ],
          [
           "2024-11-30",
           "y"
          ],
          [
           "2024-12-01",
           "y"
          ],
          [
           "2024-12-02",
           "y"
          ],
          [
           "2024-12-03",
           "y"
          ],
          [
           "2024-12-04",
           "y"
          ],
          [
           "2024-12-05",
           "y"
          ],
          [
           "2024-12-06",
           "y"
          ],
          [
           "2024-12-07",
           "y"
          ],
          [
           "2024-12-08",
           "y"
          ],
          [
           "2024-12-09",
           "y"
          ],
          [
           "2024-12-10",
           "y"
          ],
          [
           "2024-12-11",
           "y"
          ],
          [
           "2024-12-12",
           "y"
          ],
          [
           "2024-12-13",
           "y"
          ],
          [
           "2024-12-14",
           "y"
          ],
          [
           "2024-12-15",
           "y"
          ],
          [
           "2024-12-16",
           "y"
          ],
          [
           "2024-12-17",
           "y"
          ],
          [
           "2024-12-18",
           "y"
          ],
          [
           "2024-12-19",
           "y"
          ],
          [
           "2024-12-20",
           "y"
          ],
          [
           "2024-12-21",
           "y"
          ],
          [
           "2024-12-22",
           "y"
          ],
          [
           "2024-12-23",
           "y"
          ],
          [
           "2024-12-24",
           "y"
          ],
          [
           "2024-12-25",
           "y"
          ],
          [
           "2024-12-26",
           "y"
          ],
          [
           "2024-12-27",
           "y"
          ],
          [
           "2024-12-28",
           "y"
          ],
          [
           "2024-12-29",
           "y"
          ],
          [
           "2024-12-30",
           "y"
          ],
          [
           "2024-12-31",
           "y"
          ]
         ],
         "hovertemplate": "%{customdata[0]} <br>Week=%{x} <br>%{customdata[1]}=%{z}",
         "name": "2024",
         "showscale": false,
         "type": "heatmap",
         "x": [
          1,
          1,
          1,
          1,
          1,
          1,
          1,
          2,
          2,
          2,
          2,
          2,
          2,
          2,
          3,
          3,
          3,
          3,
          3,
          3,
          3,
          4,
          4,
          4,
          4,
          4,
          4,
          4,
          5,
          5,
          5,
          5,
          5,
          5,
          5,
          6,
          6,
          6,
          6,
          6,
          6,
          6,
          7,
          7,
          7,
          7,
          7,
          7,
          7,
          8,
          8,
          8,
          8,
          8,
          8,
          8,
          9,
          9,
          9,
          9,
          9,
          9,
          9,
          10,
          10,
          10,
          10,
          10,
          10,
          10,
          11,
          11,
          11,
          11,
          11,
          11,
          11,
          12,
          12,
          12,
          12,
          12,
          12,
          12,
          13,
          13,
          13,
          13,
          13,
          13,
          13,
          14,
          14,
          14,
          14,
          14,
          14,
          14,
          15,
          15,
          15,
          15,
          15,
          15,
          15,
          16,
          16,
          16,
          16,
          16,
          16,
          16,
          17,
          17,
          17,
          17,
          17,
          17,
          17,
          18,
          18,
          18,
          18,
          18,
          18,
          18,
          19,
          19,
          19,
          19,
          19,
          19,
          19,
          20,
          20,
          20,
          20,
          20,
          20,
          20,
          21,
          21,
          21,
          21,
          21,
          21,
          21,
          22,
          22,
          22,
          22,
          22,
          22,
          22,
          23,
          23,
          23,
          23,
          23,
          23,
          23,
          24,
          24,
          24,
          24,
          24,
          24,
          24,
          25,
          25,
          25,
          25,
          25,
          25,
          25,
          26,
          26,
          26,
          26,
          26,
          26,
          26,
          27,
          27,
          27,
          27,
          27,
          27,
          27,
          28,
          28,
          28,
          28,
          28,
          28,
          28,
          29,
          29,
          29,
          29,
          29,
          29,
          29,
          30,
          30,
          30,
          30,
          30,
          30,
          30,
          31,
          31,
          31,
          31,
          31,
          31,
          31,
          32,
          32,
          32,
          32,
          32,
          32,
          32,
          33,
          33,
          33,
          33,
          33,
          33,
          33,
          34,
          34,
          34,
          34,
          34,
          34,
          34,
          35,
          35,
          35,
          35,
          35,
          35,
          35,
          36,
          36,
          36,
          36,
          36,
          36,
          36,
          37,
          37,
          37,
          37,
          37,
          37,
          37,
          38,
          38,
          38,
          38,
          38,
          38,
          38,
          39,
          39,
          39,
          39,
          39,
          39,
          39,
          40,
          40,
          40,
          40,
          40,
          40,
          40,
          41,
          41,
          41,
          41,
          41,
          41,
          41,
          42,
          42,
          42,
          42,
          42,
          42,
          42,
          43,
          43,
          43,
          43,
          43,
          43,
          43,
          44,
          44,
          44,
          44,
          44,
          44,
          44,
          45,
          45,
          45,
          45,
          45,
          45,
          45,
          46,
          46,
          46,
          46,
          46,
          46,
          46,
          47,
          47,
          47,
          47,
          47,
          47,
          47,
          48,
          48,
          48,
          48,
          48,
          48,
          48,
          49,
          49,
          49,
          49,
          49,
          49,
          49,
          50,
          50,
          50,
          50,
          50,
          50,
          50,
          51,
          51,
          51,
          51,
          51,
          51,
          51,
          52,
          52,
          52,
          52,
          52,
          52,
          52,
          53,
          53
         ],
         "xaxis": "x2",
         "xgap": 1,
         "y": [
          0,
          1,
          2,
          3,
          4,
          5,
          6,
          0,
          1,
          2,
          3,
          4,
          5,
          6,
          0,
          1,
          2,
          3,
          4,
          5,
          6,
          0,
          1,
          2,
          3,
          4,
          5,
          6,
          0,
          1,
          2,
          3,
          4,
          5,
          6,
          0,
          1,
          2,
          3,
          4,
          5,
          6,
          0,
          1,
          2,
          3,
          4,
          5,
          6,
          0,
          1,
          2,
          3,
          4,
          5,
          6,
          0,
          1,
          2,
          3,
          4,
          5,
          6,
          0,
          1,
          2,
          3,
          4,
          5,
          6,
          0,
          1,
          2,
          3,
          4,
          5,
          6,
          0,
          1,
          2,
          3,
          4,
          5,
          6,
          0,
          1,
          2,
          3,
          4,
          5,
          6,
          0,
          1,
          2,
          3,
          4,
          5,
          6,
          0,
          1,
          2,
          3,
          4,
          5,
          6,
          0,
          1,
          2,
          3,
          4,
          5,
          6,
          0,
          1,
          2,
          3,
          4,
          5,
          6,
          0,
          1,
          2,
          3,
          4,
          5,
          6,
          0,
          1,
          2,
          3,
          4,
          5,
          6,
          0,
          1,
          2,
          3,
          4,
          5,
          6,
          0,
          1,
          2,
          3,
          4,
          5,
          6,
          0,
          1,
          2,
          3,
          4,
          5,
          6,
          0,
          1,
          2,
          3,
          4,
          5,
          6,
          0,
          1,
          2,
          3,
          4,
          5,
          6,
          0,
          1,
          2,
          3,
          4,
          5,
          6,
          0,
          1,
          2,
          3,
          4,
          5,
          6,
          0,
          1,
          2,
          3,
          4,
          5,
          6,
          0,
          1,
          2,
          3,
          4,
          5,
          6,
          0,
          1,
          2,
          3,
          4,
          5,
          6,
          0,
          1,
          2,
          3,
          4,
          5,
          6,
          0,
          1,
          2,
          3,
          4,
          5,
          6,
          0,
          1,
          2,
          3,
          4,
          5,
          6,
          0,
          1,
          2,
          3,
          4,
          5,
          6,
          0,
          1,
          2,
          3,
          4,
          5,
          6,
          0,
          1,
          2,
          3,
          4,
          5,
          6,
          0,
          1,
          2,
          3,
          4,
          5,
          6,
          0,
          1,
          2,
          3,
          4,
          5,
          6,
          0,
          1,
          2,
          3,
          4,
          5,
          6,
          0,
          1,
          2,
          3,
          4,
          5,
          6,
          0,
          1,
          2,
          3,
          4,
          5,
          6,
          0,
          1,
          2,
          3,
          4,
          5,
          6,
          0,
          1,
          2,
          3,
          4,
          5,
          6,
          0,
          1,
          2,
          3,
          4,
          5,
          6,
          0,
          1,
          2,
          3,
          4,
          5,
          6,
          0,
          1,
          2,
          3,
          4,
          5,
          6,
          0,
          1,
          2,
          3,
          4,
          5,
          6,
          0,
          1,
          2,
          3,
          4,
          5,
          6,
          0,
          1,
          2,
          3,
          4,
          5,
          6,
          0,
          1,
          2,
          3,
          4,
          5,
          6,
          0,
          1,
          2,
          3,
          4,
          5,
          6,
          0,
          1,
          2,
          3,
          4,
          5,
          6,
          0,
          1,
          2,
          3,
          4,
          5,
          6,
          0,
          1
         ],
         "yaxis": "y2",
         "ygap": 1,
         "z": [
          1,
          12,
          17,
          13,
          20,
          10,
          10,
          7,
          9,
          4,
          14,
          5,
          6,
          19,
          7,
          6,
          10,
          9,
          11,
          6,
          3,
          17,
          9,
          13,
          8,
          4,
          3,
          10,
          11,
          8,
          7,
          10,
          5,
          3,
          6,
          5,
          15,
          1,
          null,
          4,
          7,
          6,
          8,
          12,
          4,
          4,
          10,
          4,
          3,
          5,
          11,
          8,
          9,
          13,
          6,
          10,
          9,
          5,
          7,
          4,
          12,
          10,
          8,
          12,
          13,
          8,
          null,
          null,
          null,
          null,
          null,
          null,
          null,
          null,
          null,
          null,
          null,
          null,
          null,
          null,
          null,
          null,
          null,
          null,
          null,
          null,
          null,
          null,
          null,
          null,
          null,
          null,
          null,
          null,
          null,
          null,
          null,
          null,
          null,
          null,
          null,
          null,
          null,
          null,
          null,
          null,
          null,
          null,
          null,
          null,
          null,
          null,
          null,
          null,
          null,
          null,
          null,
          null,
          null,
          null,
          null,
          null,
          null,
          null,
          null,
          null,
          null,
          null,
          null,
          null,
          null,
          null,
          null,
          null,
          null,
          null,
          null,
          null,
          null,
          null,
          null,
          null,
          null,
          null,
          null,
          null,
          null,
          null,
          null,
          null,
          null,
          null,
          null,
          null,
          null,
          null,
          null,
          null,
          null,
          null,
          null,
          null,
          null,
          null,
          null,
          null,
          null,
          null,
          null,
          null,
          null,
          null,
          null,
          null,
          null,
          null,
          null,
          null,
          null,
          null,
          null,
          null,
          null,
          null,
          null,
          null,
          null,
          null,
          null,
          null,
          null,
          null,
          null,
          null,
          null,
          null,
          null,
          null,
          null,
          null,
          null,
          null,
          null,
          null,
          null,
          null,
          null,
          null,
          null,
          null,
          null,
          null,
          null,
          null,
          null,
          null,
          null,
          null,
          null,
          null,
          null,
          null,
          null,
          null,
          null,
          null,
          null,
          null,
          null,
          null,
          null,
          null,
          null,
          null,
          null,
          null,
          null,
          null,
          null,
          null,
          null,
          null,
          null,
          null,
          null,
          null,
          null,
          null,
          null,
          null,
          null,
          null,
          null,
          null,
          null,
          null,
          null,
          null,
          null,
          null,
          null,
          null,
          null,
          null,
          null,
          null,
          null,
          null,
          null,
          null,
          null,
          null,
          null,
          null,
          null,
          null,
          null,
          null,
          null,
          null,
          null,
          null,
          null,
          null,
          null,
          null,
          null,
          null,
          null,
          null,
          null,
          null,
          null,
          null,
          null,
          null,
          null,
          null,
          null,
          null,
          null,
          null,
          null,
          null,
          null,
          null,
          null,
          null,
          null,
          null,
          null,
          null,
          null,
          null,
          null,
          null,
          null,
          null,
          null,
          null,
          null,
          null,
          null,
          null,
          null,
          null,
          null,
          null,
          null,
          null,
          null,
          null,
          null,
          null,
          null,
          null,
          null,
          null,
          null,
          null,
          null,
          null,
          null,
          null,
          null,
          null,
          null,
          null,
          null,
          null,
          null,
          null,
          null,
          null,
          null,
          null,
          null,
          null,
          null,
          null,
          null,
          null,
          null,
          null,
          null,
          null
         ],
         "zmax": 21,
         "zmin": 1
        },
        {
         "hoverinfo": "skip",
         "line": {
          "color": "#9e9e9e",
          "width": 1
         },
         "mode": "lines",
         "type": "scatter",
         "x": [
          0.5,
          0.5
         ],
         "xaxis": "x2",
         "y": [
          -0.5,
          6.5
         ],
         "yaxis": "y2"
        },
        {
         "hoverinfo": "skip",
         "line": {
          "color": "#9e9e9e",
          "width": 1
         },
         "mode": "lines",
         "type": "scatter",
         "x": [
          4.5,
          4.5
         ],
         "xaxis": "x2",
         "y": [
          2.5,
          6.5
         ],
         "yaxis": "y2"
        },
        {
         "hoverinfo": "skip",
         "line": {
          "color": "#9e9e9e",
          "width": 1
         },
         "mode": "lines",
         "type": "scatter",
         "x": [
          4.5,
          5.5
         ],
         "xaxis": "x2",
         "y": [
          2.5,
          2.5
         ],
         "yaxis": "y2"
        },
        {
         "hoverinfo": "skip",
         "line": {
          "color": "#9e9e9e",
          "width": 1
         },
         "mode": "lines",
         "type": "scatter",
         "x": [
          5.5,
          5.5
         ],
         "xaxis": "x2",
         "y": [
          2.5,
          -0.5
         ],
         "yaxis": "y2"
        },
        {
         "hoverinfo": "skip",
         "line": {
          "color": "#9e9e9e",
          "width": 1
         },
         "mode": "lines",
         "type": "scatter",
         "x": [
          8.5,
          8.5
         ],
         "xaxis": "x2",
         "y": [
          3.5,
          6.5
         ],
         "yaxis": "y2"
        },
        {
         "hoverinfo": "skip",
         "line": {
          "color": "#9e9e9e",
          "width": 1
         },
         "mode": "lines",
         "type": "scatter",
         "x": [
          8.5,
          9.5
         ],
         "xaxis": "x2",
         "y": [
          3.5,
          3.5
         ],
         "yaxis": "y2"
        },
        {
         "hoverinfo": "skip",
         "line": {
          "color": "#9e9e9e",
          "width": 1
         },
         "mode": "lines",
         "type": "scatter",
         "x": [
          9.5,
          9.5
         ],
         "xaxis": "x2",
         "y": [
          3.5,
          -0.5
         ],
         "yaxis": "y2"
        },
        {
         "hoverinfo": "skip",
         "line": {
          "color": "#9e9e9e",
          "width": 1
         },
         "mode": "lines",
         "type": "scatter",
         "x": [
          13.5,
          13.5
         ],
         "xaxis": "x2",
         "y": [
          -0.5,
          6.5
         ],
         "yaxis": "y2"
        },
        {
         "hoverinfo": "skip",
         "line": {
          "color": "#9e9e9e",
          "width": 1
         },
         "mode": "lines",
         "type": "scatter",
         "x": [
          17.5,
          17.5
         ],
         "xaxis": "x2",
         "y": [
          1.5,
          6.5
         ],
         "yaxis": "y2"
        },
        {
         "hoverinfo": "skip",
         "line": {
          "color": "#9e9e9e",
          "width": 1
         },
         "mode": "lines",
         "type": "scatter",
         "x": [
          17.5,
          18.5
         ],
         "xaxis": "x2",
         "y": [
          1.5,
          1.5
         ],
         "yaxis": "y2"
        },
        {
         "hoverinfo": "skip",
         "line": {
          "color": "#9e9e9e",
          "width": 1
         },
         "mode": "lines",
         "type": "scatter",
         "x": [
          18.5,
          18.5
         ],
         "xaxis": "x2",
         "y": [
          1.5,
          -0.5
         ],
         "yaxis": "y2"
        },
        {
         "hoverinfo": "skip",
         "line": {
          "color": "#9e9e9e",
          "width": 1
         },
         "mode": "lines",
         "type": "scatter",
         "x": [
          21.5,
          21.5
         ],
         "xaxis": "x2",
         "y": [
          4.5,
          6.5
         ],
         "yaxis": "y2"
        },
        {
         "hoverinfo": "skip",
         "line": {
          "color": "#9e9e9e",
          "width": 1
         },
         "mode": "lines",
         "type": "scatter",
         "x": [
          21.5,
          22.5
         ],
         "xaxis": "x2",
         "y": [
          4.5,
          4.5
         ],
         "yaxis": "y2"
        },
        {
         "hoverinfo": "skip",
         "line": {
          "color": "#9e9e9e",
          "width": 1
         },
         "mode": "lines",
         "type": "scatter",
         "x": [
          22.5,
          22.5
         ],
         "xaxis": "x2",
         "y": [
          4.5,
          -0.5
         ],
         "yaxis": "y2"
        },
        {
         "hoverinfo": "skip",
         "line": {
          "color": "#9e9e9e",
          "width": 1
         },
         "mode": "lines",
         "type": "scatter",
         "x": [
          26.5,
          26.5
         ],
         "xaxis": "x2",
         "y": [
          -0.5,
          6.5
         ],
         "yaxis": "y2"
        },
        {
         "hoverinfo": "skip",
         "line": {
          "color": "#9e9e9e",
          "width": 1
         },
         "mode": "lines",
         "type": "scatter",
         "x": [
          30.5,
          30.5
         ],
         "xaxis": "x2",
         "y": [
          2.5,
          6.5
         ],
         "yaxis": "y2"
        },
        {
         "hoverinfo": "skip",
         "line": {
          "color": "#9e9e9e",
          "width": 1
         },
         "mode": "lines",
         "type": "scatter",
         "x": [
          30.5,
          31.5
         ],
         "xaxis": "x2",
         "y": [
          2.5,
          2.5
         ],
         "yaxis": "y2"
        },
        {
         "hoverinfo": "skip",
         "line": {
          "color": "#9e9e9e",
          "width": 1
         },
         "mode": "lines",
         "type": "scatter",
         "x": [
          31.5,
          31.5
         ],
         "xaxis": "x2",
         "y": [
          2.5,
          -0.5
         ],
         "yaxis": "y2"
        },
        {
         "hoverinfo": "skip",
         "line": {
          "color": "#9e9e9e",
          "width": 1
         },
         "mode": "lines",
         "type": "scatter",
         "x": [
          34.5,
          34.5
         ],
         "xaxis": "x2",
         "y": [
          5.5,
          6.5
         ],
         "yaxis": "y2"
        },
        {
         "hoverinfo": "skip",
         "line": {
          "color": "#9e9e9e",
          "width": 1
         },
         "mode": "lines",
         "type": "scatter",
         "x": [
          34.5,
          35.5
         ],
         "xaxis": "x2",
         "y": [
          5.5,
          5.5
         ],
         "yaxis": "y2"
        },
        {
         "hoverinfo": "skip",
         "line": {
          "color": "#9e9e9e",
          "width": 1
         },
         "mode": "lines",
         "type": "scatter",
         "x": [
          35.5,
          35.5
         ],
         "xaxis": "x2",
         "y": [
          5.5,
          -0.5
         ],
         "yaxis": "y2"
        },
        {
         "hoverinfo": "skip",
         "line": {
          "color": "#9e9e9e",
          "width": 1
         },
         "mode": "lines",
         "type": "scatter",
         "x": [
          39.5,
          39.5
         ],
         "xaxis": "x2",
         "y": [
          0.5,
          6.5
         ],
         "yaxis": "y2"
        },
        {
         "hoverinfo": "skip",
         "line": {
          "color": "#9e9e9e",
          "width": 1
         },
         "mode": "lines",
         "type": "scatter",
         "x": [
          39.5,
          40.5
         ],
         "xaxis": "x2",
         "y": [
          0.5,
          0.5
         ],
         "yaxis": "y2"
        },
        {
         "hoverinfo": "skip",
         "line": {
          "color": "#9e9e9e",
          "width": 1
         },
         "mode": "lines",
         "type": "scatter",
         "x": [
          40.5,
          40.5
         ],
         "xaxis": "x2",
         "y": [
          0.5,
          -0.5
         ],
         "yaxis": "y2"
        },
        {
         "hoverinfo": "skip",
         "line": {
          "color": "#9e9e9e",
          "width": 1
         },
         "mode": "lines",
         "type": "scatter",
         "x": [
          43.5,
          43.5
         ],
         "xaxis": "x2",
         "y": [
          3.5,
          6.5
         ],
         "yaxis": "y2"
        },
        {
         "hoverinfo": "skip",
         "line": {
          "color": "#9e9e9e",
          "width": 1
         },
         "mode": "lines",
         "type": "scatter",
         "x": [
          43.5,
          44.5
         ],
         "xaxis": "x2",
         "y": [
          3.5,
          3.5
         ],
         "yaxis": "y2"
        },
        {
         "hoverinfo": "skip",
         "line": {
          "color": "#9e9e9e",
          "width": 1
         },
         "mode": "lines",
         "type": "scatter",
         "x": [
          44.5,
          44.5
         ],
         "xaxis": "x2",
         "y": [
          3.5,
          -0.5
         ],
         "yaxis": "y2"
        },
        {
         "hoverinfo": "skip",
         "line": {
          "color": "#9e9e9e",
          "width": 1
         },
         "mode": "lines",
         "type": "scatter",
         "x": [
          47.5,
          47.5
         ],
         "xaxis": "x2",
         "y": [
          5.5,
          6.5
         ],
         "yaxis": "y2"
        },
        {
         "hoverinfo": "skip",
         "line": {
          "color": "#9e9e9e",
          "width": 1
         },
         "mode": "lines",
         "type": "scatter",
         "x": [
          47.5,
          48.5
         ],
         "xaxis": "x2",
         "y": [
          5.5,
          5.5
         ],
         "yaxis": "y2"
        },
        {
         "hoverinfo": "skip",
         "line": {
          "color": "#9e9e9e",
          "width": 1
         },
         "mode": "lines",
         "type": "scatter",
         "x": [
          48.5,
          48.5
         ],
         "xaxis": "x2",
         "y": [
          5.5,
          -0.5
         ],
         "yaxis": "y2"
        }
       ],
       "layout": {
        "autosize": true,
        "font": {
         "color": "#9e9e9e",
         "size": 10
        },
        "margin": {
         "b": 20,
         "t": 20
        },
        "plot_bgcolor": "#fff",
        "showlegend": false,
        "template": {
         "data": {
          "bar": [
           {
            "error_x": {
             "color": "#2a3f5f"
            },
            "error_y": {
             "color": "#2a3f5f"
            },
            "marker": {
             "line": {
              "color": "#E5ECF6",
              "width": 0.5
             },
             "pattern": {
              "fillmode": "overlay",
              "size": 10,
              "solidity": 0.2
             }
            },
            "type": "bar"
           }
          ],
          "barpolar": [
           {
            "marker": {
             "line": {
              "color": "#E5ECF6",
              "width": 0.5
             },
             "pattern": {
              "fillmode": "overlay",
              "size": 10,
              "solidity": 0.2
             }
            },
            "type": "barpolar"
           }
          ],
          "carpet": [
           {
            "aaxis": {
             "endlinecolor": "#2a3f5f",
             "gridcolor": "white",
             "linecolor": "white",
             "minorgridcolor": "white",
             "startlinecolor": "#2a3f5f"
            },
            "baxis": {
             "endlinecolor": "#2a3f5f",
             "gridcolor": "white",
             "linecolor": "white",
             "minorgridcolor": "white",
             "startlinecolor": "#2a3f5f"
            },
            "type": "carpet"
           }
          ],
          "choropleth": [
           {
            "colorbar": {
             "outlinewidth": 0,
             "ticks": ""
            },
            "type": "choropleth"
           }
          ],
          "contour": [
           {
            "colorbar": {
             "outlinewidth": 0,
             "ticks": ""
            },
            "colorscale": [
             [
              0,
              "#0d0887"
             ],
             [
              0.1111111111111111,
              "#46039f"
             ],
             [
              0.2222222222222222,
              "#7201a8"
             ],
             [
              0.3333333333333333,
              "#9c179e"
             ],
             [
              0.4444444444444444,
              "#bd3786"
             ],
             [
              0.5555555555555556,
              "#d8576b"
             ],
             [
              0.6666666666666666,
              "#ed7953"
             ],
             [
              0.7777777777777778,
              "#fb9f3a"
             ],
             [
              0.8888888888888888,
              "#fdca26"
             ],
             [
              1,
              "#f0f921"
             ]
            ],
            "type": "contour"
           }
          ],
          "contourcarpet": [
           {
            "colorbar": {
             "outlinewidth": 0,
             "ticks": ""
            },
            "type": "contourcarpet"
           }
          ],
          "heatmap": [
           {
            "colorbar": {
             "outlinewidth": 0,
             "ticks": ""
            },
            "colorscale": [
             [
              0,
              "#0d0887"
             ],
             [
              0.1111111111111111,
              "#46039f"
             ],
             [
              0.2222222222222222,
              "#7201a8"
             ],
             [
              0.3333333333333333,
              "#9c179e"
             ],
             [
              0.4444444444444444,
              "#bd3786"
             ],
             [
              0.5555555555555556,
              "#d8576b"
             ],
             [
              0.6666666666666666,
              "#ed7953"
             ],
             [
              0.7777777777777778,
              "#fb9f3a"
             ],
             [
              0.8888888888888888,
              "#fdca26"
             ],
             [
              1,
              "#f0f921"
             ]
            ],
            "type": "heatmap"
           }
          ],
          "heatmapgl": [
           {
            "colorbar": {
             "outlinewidth": 0,
             "ticks": ""
            },
            "colorscale": [
             [
              0,
              "#0d0887"
             ],
             [
              0.1111111111111111,
              "#46039f"
             ],
             [
              0.2222222222222222,
              "#7201a8"
             ],
             [
              0.3333333333333333,
              "#9c179e"
             ],
             [
              0.4444444444444444,
              "#bd3786"
             ],
             [
              0.5555555555555556,
              "#d8576b"
             ],
             [
              0.6666666666666666,
              "#ed7953"
             ],
             [
              0.7777777777777778,
              "#fb9f3a"
             ],
             [
              0.8888888888888888,
              "#fdca26"
             ],
             [
              1,
              "#f0f921"
             ]
            ],
            "type": "heatmapgl"
           }
          ],
          "histogram": [
           {
            "marker": {
             "pattern": {
              "fillmode": "overlay",
              "size": 10,
              "solidity": 0.2
             }
            },
            "type": "histogram"
           }
          ],
          "histogram2d": [
           {
            "colorbar": {
             "outlinewidth": 0,
             "ticks": ""
            },
            "colorscale": [
             [
              0,
              "#0d0887"
             ],
             [
              0.1111111111111111,
              "#46039f"
             ],
             [
              0.2222222222222222,
              "#7201a8"
             ],
             [
              0.3333333333333333,
              "#9c179e"
             ],
             [
              0.4444444444444444,
              "#bd3786"
             ],
             [
              0.5555555555555556,
              "#d8576b"
             ],
             [
              0.6666666666666666,
              "#ed7953"
             ],
             [
              0.7777777777777778,
              "#fb9f3a"
             ],
             [
              0.8888888888888888,
              "#fdca26"
             ],
             [
              1,
              "#f0f921"
             ]
            ],
            "type": "histogram2d"
           }
          ],
          "histogram2dcontour": [
           {
            "colorbar": {
             "outlinewidth": 0,
             "ticks": ""
            },
            "colorscale": [
             [
              0,
              "#0d0887"
             ],
             [
              0.1111111111111111,
              "#46039f"
             ],
             [
              0.2222222222222222,
              "#7201a8"
             ],
             [
              0.3333333333333333,
              "#9c179e"
             ],
             [
              0.4444444444444444,
              "#bd3786"
             ],
             [
              0.5555555555555556,
              "#d8576b"
             ],
             [
              0.6666666666666666,
              "#ed7953"
             ],
             [
              0.7777777777777778,
              "#fb9f3a"
             ],
             [
              0.8888888888888888,
              "#fdca26"
             ],
             [
              1,
              "#f0f921"
             ]
            ],
            "type": "histogram2dcontour"
           }
          ],
          "mesh3d": [
           {
            "colorbar": {
             "outlinewidth": 0,
             "ticks": ""
            },
            "type": "mesh3d"
           }
          ],
          "parcoords": [
           {
            "line": {
             "colorbar": {
              "outlinewidth": 0,
              "ticks": ""
             }
            },
            "type": "parcoords"
           }
          ],
          "pie": [
           {
            "automargin": true,
            "type": "pie"
           }
          ],
          "scatter": [
           {
            "fillpattern": {
             "fillmode": "overlay",
             "size": 10,
             "solidity": 0.2
            },
            "type": "scatter"
           }
          ],
          "scatter3d": [
           {
            "line": {
             "colorbar": {
              "outlinewidth": 0,
              "ticks": ""
             }
            },
            "marker": {
             "colorbar": {
              "outlinewidth": 0,
              "ticks": ""
             }
            },
            "type": "scatter3d"
           }
          ],
          "scattercarpet": [
           {
            "marker": {
             "colorbar": {
              "outlinewidth": 0,
              "ticks": ""
             }
            },
            "type": "scattercarpet"
           }
          ],
          "scattergeo": [
           {
            "marker": {
             "colorbar": {
              "outlinewidth": 0,
              "ticks": ""
             }
            },
            "type": "scattergeo"
           }
          ],
          "scattergl": [
           {
            "marker": {
             "colorbar": {
              "outlinewidth": 0,
              "ticks": ""
             }
            },
            "type": "scattergl"
           }
          ],
          "scattermapbox": [
           {
            "marker": {
             "colorbar": {
              "outlinewidth": 0,
              "ticks": ""
             }
            },
            "type": "scattermapbox"
           }
          ],
          "scatterpolar": [
           {
            "marker": {
             "colorbar": {
              "outlinewidth": 0,
              "ticks": ""
             }
            },
            "type": "scatterpolar"
           }
          ],
          "scatterpolargl": [
           {
            "marker": {
             "colorbar": {
              "outlinewidth": 0,
              "ticks": ""
             }
            },
            "type": "scatterpolargl"
           }
          ],
          "scatterternary": [
           {
            "marker": {
             "colorbar": {
              "outlinewidth": 0,
              "ticks": ""
             }
            },
            "type": "scatterternary"
           }
          ],
          "surface": [
           {
            "colorbar": {
             "outlinewidth": 0,
             "ticks": ""
            },
            "colorscale": [
             [
              0,
              "#0d0887"
             ],
             [
              0.1111111111111111,
              "#46039f"
             ],
             [
              0.2222222222222222,
              "#7201a8"
             ],
             [
              0.3333333333333333,
              "#9c179e"
             ],
             [
              0.4444444444444444,
              "#bd3786"
             ],
             [
              0.5555555555555556,
              "#d8576b"
             ],
             [
              0.6666666666666666,
              "#ed7953"
             ],
             [
              0.7777777777777778,
              "#fb9f3a"
             ],
             [
              0.8888888888888888,
              "#fdca26"
             ],
             [
              1,
              "#f0f921"
             ]
            ],
            "type": "surface"
           }
          ],
          "table": [
           {
            "cells": {
             "fill": {
              "color": "#EBF0F8"
             },
             "line": {
              "color": "white"
             }
            },
            "header": {
             "fill": {
              "color": "#C8D4E3"
             },
             "line": {
              "color": "white"
             }
            },
            "type": "table"
           }
          ]
         },
         "layout": {
          "annotationdefaults": {
           "arrowcolor": "#2a3f5f",
           "arrowhead": 0,
           "arrowwidth": 1
          },
          "autotypenumbers": "strict",
          "coloraxis": {
           "colorbar": {
            "outlinewidth": 0,
            "ticks": ""
           }
          },
          "colorscale": {
           "diverging": [
            [
             0,
             "#8e0152"
            ],
            [
             0.1,
             "#c51b7d"
            ],
            [
             0.2,
             "#de77ae"
            ],
            [
             0.3,
             "#f1b6da"
            ],
            [
             0.4,
             "#fde0ef"
            ],
            [
             0.5,
             "#f7f7f7"
            ],
            [
             0.6,
             "#e6f5d0"
            ],
            [
             0.7,
             "#b8e186"
            ],
            [
             0.8,
             "#7fbc41"
            ],
            [
             0.9,
             "#4d9221"
            ],
            [
             1,
             "#276419"
            ]
           ],
           "sequential": [
            [
             0,
             "#0d0887"
            ],
            [
             0.1111111111111111,
             "#46039f"
            ],
            [
             0.2222222222222222,
             "#7201a8"
            ],
            [
             0.3333333333333333,
             "#9c179e"
            ],
            [
             0.4444444444444444,
             "#bd3786"
            ],
            [
             0.5555555555555556,
             "#d8576b"
            ],
            [
             0.6666666666666666,
             "#ed7953"
            ],
            [
             0.7777777777777778,
             "#fb9f3a"
            ],
            [
             0.8888888888888888,
             "#fdca26"
            ],
            [
             1,
             "#f0f921"
            ]
           ],
           "sequentialminus": [
            [
             0,
             "#0d0887"
            ],
            [
             0.1111111111111111,
             "#46039f"
            ],
            [
             0.2222222222222222,
             "#7201a8"
            ],
            [
             0.3333333333333333,
             "#9c179e"
            ],
            [
             0.4444444444444444,
             "#bd3786"
            ],
            [
             0.5555555555555556,
             "#d8576b"
            ],
            [
             0.6666666666666666,
             "#ed7953"
            ],
            [
             0.7777777777777778,
             "#fb9f3a"
            ],
            [
             0.8888888888888888,
             "#fdca26"
            ],
            [
             1,
             "#f0f921"
            ]
           ]
          },
          "colorway": [
           "#636efa",
           "#EF553B",
           "#00cc96",
           "#ab63fa",
           "#FFA15A",
           "#19d3f3",
           "#FF6692",
           "#B6E880",
           "#FF97FF",
           "#FECB52"
          ],
          "font": {
           "color": "#2a3f5f"
          },
          "geo": {
           "bgcolor": "white",
           "lakecolor": "white",
           "landcolor": "#E5ECF6",
           "showlakes": true,
           "showland": true,
           "subunitcolor": "white"
          },
          "hoverlabel": {
           "align": "left"
          },
          "hovermode": "closest",
          "mapbox": {
           "style": "light"
          },
          "paper_bgcolor": "white",
          "plot_bgcolor": "#E5ECF6",
          "polar": {
           "angularaxis": {
            "gridcolor": "white",
            "linecolor": "white",
            "ticks": ""
           },
           "bgcolor": "#E5ECF6",
           "radialaxis": {
            "gridcolor": "white",
            "linecolor": "white",
            "ticks": ""
           }
          },
          "scene": {
           "xaxis": {
            "backgroundcolor": "#E5ECF6",
            "gridcolor": "white",
            "gridwidth": 2,
            "linecolor": "white",
            "showbackground": true,
            "ticks": "",
            "zerolinecolor": "white"
           },
           "yaxis": {
            "backgroundcolor": "#E5ECF6",
            "gridcolor": "white",
            "gridwidth": 2,
            "linecolor": "white",
            "showbackground": true,
            "ticks": "",
            "zerolinecolor": "white"
           },
           "zaxis": {
            "backgroundcolor": "#E5ECF6",
            "gridcolor": "white",
            "gridwidth": 2,
            "linecolor": "white",
            "showbackground": true,
            "ticks": "",
            "zerolinecolor": "white"
           }
          },
          "shapedefaults": {
           "line": {
            "color": "#2a3f5f"
           }
          },
          "ternary": {
           "aaxis": {
            "gridcolor": "white",
            "linecolor": "white",
            "ticks": ""
           },
           "baxis": {
            "gridcolor": "white",
            "linecolor": "white",
            "ticks": ""
           },
           "bgcolor": "#E5ECF6",
           "caxis": {
            "gridcolor": "white",
            "linecolor": "white",
            "ticks": ""
           }
          },
          "title": {
           "x": 0.05
          },
          "xaxis": {
           "automargin": true,
           "gridcolor": "white",
           "linecolor": "white",
           "ticks": "",
           "title": {
            "standoff": 15
           },
           "zerolinecolor": "white",
           "zerolinewidth": 2
          },
          "yaxis": {
           "automargin": true,
           "gridcolor": "white",
           "linecolor": "white",
           "ticks": "",
           "title": {
            "standoff": 15
           },
           "zerolinecolor": "white",
           "zerolinewidth": 2
          }
         }
        },
        "title": {
         "text": "Number of Liked Tweets per Day 2023"
        },
        "xaxis": {
         "anchor": "y",
         "autorange": true,
         "domain": [
          0,
          1
         ],
         "range": [
          -0.5,
          52.5
         ],
         "showgrid": false,
         "showline": false,
         "tickmode": "array",
         "ticktext": [
          "January",
          "February",
          "March",
          "April",
          "May",
          "June",
          "July",
          "August",
          "September",
          "October",
          "November",
          "December"
         ],
         "tickvals": [
          1.5,
          5.909090909090909,
          10.318181818181818,
          14.727272727272727,
          19.136363636363637,
          23.545454545454547,
          27.954545454545453,
          32.36363636363636,
          36.77272727272727,
          41.18181818181818,
          45.59090909090909,
          50
         ],
         "type": "linear",
         "zeroline": false
        },
        "xaxis2": {
         "anchor": "y2",
         "autorange": true,
         "domain": [
          0,
          1
         ],
         "range": [
          0.5,
          53.5
         ],
         "showgrid": false,
         "showline": false,
         "tickmode": "array",
         "ticktext": [
          "January",
          "February",
          "March",
          "April",
          "May",
          "June",
          "July",
          "August",
          "September",
          "October",
          "November",
          "December"
         ],
         "tickvals": [
          1.5,
          5.909090909090909,
          10.318181818181818,
          14.727272727272727,
          19.136363636363637,
          23.545454545454547,
          27.954545454545453,
          32.36363636363636,
          36.77272727272727,
          41.18181818181818,
          45.59090909090909,
          50
         ],
         "type": "linear",
         "zeroline": false
        },
        "yaxis": {
         "anchor": "x",
         "autorange": true,
         "domain": [
          0.54,
          1
         ],
         "range": [
          6.888888888888889,
          -0.888888888888889
         ],
         "showgrid": false,
         "showline": false,
         "tickmode": "array",
         "ticktext": [
          "Mon",
          "Tue",
          "Wed",
          "Thu",
          "Fri",
          "Sat",
          "Sun"
         ],
         "tickvals": [
          0,
          1,
          2,
          3,
          4,
          5,
          6
         ],
         "type": "linear",
         "zeroline": false
        },
        "yaxis2": {
         "anchor": "x2",
         "autorange": true,
         "domain": [
          0,
          0.46
         ],
         "range": [
          6.888888888888889,
          -0.888888888888889
         ],
         "showgrid": false,
         "showline": false,
         "tickmode": "array",
         "ticktext": [
          "Mon",
          "Tue",
          "Wed",
          "Thu",
          "Fri",
          "Sat",
          "Sun"
         ],
         "tickvals": [
          0,
          1,
          2,
          3,
          4,
          5,
          6
         ],
         "type": "linear",
         "zeroline": false
        }
       }
      },
      "image/png": "[encoded data removed]",
      "text/html": [
       "<div>                            <div id=\"96d1a396-c9fc-4d3b-b3bf-f60c20bdc2f5\" class=\"plotly-graph-div\" style=\"height:250px; width:100%;\"></div>            <script type=\"text/javascript\">                require([\"plotly\"], function(Plotly) {                    window.PLOTLYENV=window.PLOTLYENV || {};                                    if (document.getElementById(\"96d1a396-c9fc-4d3b-b3bf-f60c20bdc2f5\")) {                    Plotly.newPlot(                        \"96d1a396-c9fc-4d3b-b3bf-f60c20bdc2f5\",                        [{\"colorscale\":[[0.0,\"rgb(247,252,245)\"],[0.125,\"rgb(229,245,224)\"],[0.25,\"rgb(199,233,192)\"],[0.375,\"rgb(161,217,155)\"],[0.5,\"rgb(116,196,118)\"],[0.625,\"rgb(65,171,93)\"],[0.75,\"rgb(35,139,69)\"],[0.875,\"rgb(0,109,44)\"],[1.0,\"rgb(0,68,27)\"]],\"customdata\":[[\"2023-01-01\",\"y\"],[\"2023-01-02\",\"y\"],[\"2023-01-03\",\"y\"],[\"2023-01-04\",\"y\"],[\"2023-01-05\",\"y\"],[\"2023-01-06\",\"y\"],[\"2023-01-07\",\"y\"],[\"2023-01-08\",\"y\"],[\"2023-01-09\",\"y\"],[\"2023-01-10\",\"y\"],[\"2023-01-11\",\"y\"],[\"2023-01-12\",\"y\"],[\"2023-01-13\",\"y\"],[\"2023-01-14\",\"y\"],[\"2023-01-15\",\"y\"],[\"2023-01-16\",\"y\"],[\"2023-01-17\",\"y\"],[\"2023-01-18\",\"y\"],[\"2023-01-19\",\"y\"],[\"2023-01-20\",\"y\"],[\"2023-01-21\",\"y\"],[\"2023-01-22\",\"y\"],[\"2023-01-23\",\"y\"],[\"2023-01-24\",\"y\"],[\"2023-01-25\",\"y\"],[\"2023-01-26\",\"y\"],[\"2023-01-27\",\"y\"],[\"2023-01-28\",\"y\"],[\"2023-01-29\",\"y\"],[\"2023-01-30\",\"y\"],[\"2023-01-31\",\"y\"],[\"2023-02-01\",\"y\"],[\"2023-02-02\",\"y\"],[\"2023-02-03\",\"y\"],[\"2023-02-04\",\"y\"],[\"2023-02-05\",\"y\"],[\"2023-02-06\",\"y\"],[\"2023-02-07\",\"y\"],[\"2023-02-08\",\"y\"],[\"2023-02-09\",\"y\"],[\"2023-02-10\",\"y\"],[\"2023-02-11\",\"y\"],[\"2023-02-12\",\"y\"],[\"2023-02-13\",\"y\"],[\"2023-02-14\",\"y\"],[\"2023-02-15\",\"y\"],[\"2023-02-16\",\"y\"],[\"2023-02-17\",\"y\"],[\"2023-02-18\",\"y\"],[\"2023-02-19\",\"y\"],[\"2023-02-20\",\"y\"],[\"2023-02-21\",\"y\"],[\"2023-02-22\",\"y\"],[\"2023-02-23\",\"y\"],[\"2023-02-24\",\"y\"],[\"2023-02-25\",\"y\"],[\"2023-02-26\",\"y\"],[\"2023-02-27\",\"y\"],[\"2023-02-28\",\"y\"],[\"2023-03-01\",\"y\"],[\"2023-03-02\",\"y\"],[\"2023-03-03\",\"y\"],[\"2023-03-04\",\"y\"],[\"2023-03-05\",\"y\"],[\"2023-03-06\",\"y\"],[\"2023-03-07\",\"y\"],[\"2023-03-08\",\"y\"],[\"2023-03-09\",\"y\"],[\"2023-03-10\",\"y\"],[\"2023-03-11\",\"y\"],[\"2023-03-12\",\"y\"],[\"2023-03-13\",\"y\"],[\"2023-03-14\",\"y\"],[\"2023-03-15\",\"y\"],[\"2023-03-16\",\"y\"],[\"2023-03-17\",\"y\"],[\"2023-03-18\",\"y\"],[\"2023-03-19\",\"y\"],[\"2023-03-20\",\"y\"],[\"2023-03-21\",\"y\"],[\"2023-03-22\",\"y\"],[\"2023-03-23\",\"y\"],[\"2023-03-24\",\"y\"],[\"2023-03-25\",\"y\"],[\"2023-03-26\",\"y\"],[\"2023-03-27\",\"y\"],[\"2023-03-28\",\"y\"],[\"2023-03-29\",\"y\"],[\"2023-03-30\",\"y\"],[\"2023-03-31\",\"y\"],[\"2023-04-01\",\"y\"],[\"2023-04-02\",\"y\"],[\"2023-04-03\",\"y\"],[\"2023-04-04\",\"y\"],[\"2023-04-05\",\"y\"],[\"2023-04-06\",\"y\"],[\"2023-04-07\",\"y\"],[\"2023-04-08\",\"y\"],[\"2023-04-09\",\"y\"],[\"2023-04-10\",\"y\"],[\"2023-04-11\",\"y\"],[\"2023-04-12\",\"y\"],[\"2023-04-13\",\"y\"],[\"2023-04-14\",\"y\"],[\"2023-04-15\",\"y\"],[\"2023-04-16\",\"y\"],[\"2023-04-17\",\"y\"],[\"2023-04-18\",\"y\"],[\"2023-04-19\",\"y\"],[\"2023-04-20\",\"y\"],[\"2023-04-21\",\"y\"],[\"2023-04-22\",\"y\"],[\"2023-04-23\",\"y\"],[\"2023-04-24\",\"y\"],[\"2023-04-25\",\"y\"],[\"2023-04-26\",\"y\"],[\"2023-04-27\",\"y\"],[\"2023-04-28\",\"y\"],[\"2023-04-29\",\"y\"],[\"2023-04-30\",\"y\"],[\"2023-05-01\",\"y\"],[\"2023-05-02\",\"y\"],[\"2023-05-03\",\"y\"],[\"2023-05-04\",\"y\"],[\"2023-05-05\",\"y\"],[\"2023-05-06\",\"y\"],[\"2023-05-07\",\"y\"],[\"2023-05-08\",\"y\"],[\"2023-05-09\",\"y\"],[\"2023-05-10\",\"y\"],[\"2023-05-11\",\"y\"],[\"2023-05-12\",\"y\"],[\"2023-05-13\",\"y\"],[\"2023-05-14\",\"y\"],[\"2023-05-15\",\"y\"],[\"2023-05-16\",\"y\"],[\"2023-05-17\",\"y\"],[\"2023-05-18\",\"y\"],[\"2023-05-19\",\"y\"],[\"2023-05-20\",\"y\"],[\"2023-05-21\",\"y\"],[\"2023-05-22\",\"y\"],[\"2023-05-23\",\"y\"],[\"2023-05-24\",\"y\"],[\"2023-05-25\",\"y\"],[\"2023-05-26\",\"y\"],[\"2023-05-27\",\"y\"],[\"2023-05-28\",\"y\"],[\"2023-05-29\",\"y\"],[\"2023-05-30\",\"y\"],[\"2023-05-31\",\"y\"],[\"2023-06-01\",\"y\"],[\"2023-06-02\",\"y\"],[\"2023-06-03\",\"y\"],[\"2023-06-04\",\"y\"],[\"2023-06-05\",\"y\"],[\"2023-06-06\",\"y\"],[\"2023-06-07\",\"y\"],[\"2023-06-08\",\"y\"],[\"2023-06-09\",\"y\"],[\"2023-06-10\",\"y\"],[\"2023-06-11\",\"y\"],[\"2023-06-12\",\"y\"],[\"2023-06-13\",\"y\"],[\"2023-06-14\",\"y\"],[\"2023-06-15\",\"y\"],[\"2023-06-16\",\"y\"],[\"2023-06-17\",\"y\"],[\"2023-06-18\",\"y\"],[\"2023-06-19\",\"y\"],[\"2023-06-20\",\"y\"],[\"2023-06-21\",\"y\"],[\"2023-06-22\",\"y\"],[\"2023-06-23\",\"y\"],[\"2023-06-24\",\"y\"],[\"2023-06-25\",\"y\"],[\"2023-06-26\",\"y\"],[\"2023-06-27\",\"y\"],[\"2023-06-28\",\"y\"],[\"2023-06-29\",\"y\"],[\"2023-06-30\",\"y\"],[\"2023-07-01\",\"y\"],[\"2023-07-02\",\"y\"],[\"2023-07-03\",\"y\"],[\"2023-07-04\",\"y\"],[\"2023-07-05\",\"y\"],[\"2023-07-06\",\"y\"],[\"2023-07-07\",\"y\"],[\"2023-07-08\",\"y\"],[\"2023-07-09\",\"y\"],[\"2023-07-10\",\"y\"],[\"2023-07-11\",\"y\"],[\"2023-07-12\",\"y\"],[\"2023-07-13\",\"y\"],[\"2023-07-14\",\"y\"],[\"2023-07-15\",\"y\"],[\"2023-07-16\",\"y\"],[\"2023-07-17\",\"y\"],[\"2023-07-18\",\"y\"],[\"2023-07-19\",\"y\"],[\"2023-07-20\",\"y\"],[\"2023-07-21\",\"y\"],[\"2023-07-22\",\"y\"],[\"2023-07-23\",\"y\"],[\"2023-07-24\",\"y\"],[\"2023-07-25\",\"y\"],[\"2023-07-26\",\"y\"],[\"2023-07-27\",\"y\"],[\"2023-07-28\",\"y\"],[\"2023-07-29\",\"y\"],[\"2023-07-30\",\"y\"],[\"2023-07-31\",\"y\"],[\"2023-08-01\",\"y\"],[\"2023-08-02\",\"y\"],[\"2023-08-03\",\"y\"],[\"2023-08-04\",\"y\"],[\"2023-08-05\",\"y\"],[\"2023-08-06\",\"y\"],[\"2023-08-07\",\"y\"],[\"2023-08-08\",\"y\"],[\"2023-08-09\",\"y\"],[\"2023-08-10\",\"y\"],[\"2023-08-11\",\"y\"],[\"2023-08-12\",\"y\"],[\"2023-08-13\",\"y\"],[\"2023-08-14\",\"y\"],[\"2023-08-15\",\"y\"],[\"2023-08-16\",\"y\"],[\"2023-08-17\",\"y\"],[\"2023-08-18\",\"y\"],[\"2023-08-19\",\"y\"],[\"2023-08-20\",\"y\"],[\"2023-08-21\",\"y\"],[\"2023-08-22\",\"y\"],[\"2023-08-23\",\"y\"],[\"2023-08-24\",\"y\"],[\"2023-08-25\",\"y\"],[\"2023-08-26\",\"y\"],[\"2023-08-27\",\"y\"],[\"2023-08-28\",\"y\"],[\"2023-08-29\",\"y\"],[\"2023-08-30\",\"y\"],[\"2023-08-31\",\"y\"],[\"2023-09-01\",\"y\"],[\"2023-09-02\",\"y\"],[\"2023-09-03\",\"y\"],[\"2023-09-04\",\"y\"],[\"2023-09-05\",\"y\"],[\"2023-09-06\",\"y\"],[\"2023-09-07\",\"y\"],[\"2023-09-08\",\"y\"],[\"2023-09-09\",\"y\"],[\"2023-09-10\",\"y\"],[\"2023-09-11\",\"y\"],[\"2023-09-12\",\"y\"],[\"2023-09-13\",\"y\"],[\"2023-09-14\",\"y\"],[\"2023-09-15\",\"y\"],[\"2023-09-16\",\"y\"],[\"2023-09-17\",\"y\"],[\"2023-09-18\",\"y\"],[\"2023-09-19\",\"y\"],[\"2023-09-20\",\"y\"],[\"2023-09-21\",\"y\"],[\"2023-09-22\",\"y\"],[\"2023-09-23\",\"y\"],[\"2023-09-24\",\"y\"],[\"2023-09-25\",\"y\"],[\"2023-09-26\",\"y\"],[\"2023-09-27\",\"y\"],[\"2023-09-28\",\"y\"],[\"2023-09-29\",\"y\"],[\"2023-09-30\",\"y\"],[\"2023-10-01\",\"y\"],[\"2023-10-02\",\"y\"],[\"2023-10-03\",\"y\"],[\"2023-10-04\",\"y\"],[\"2023-10-05\",\"y\"],[\"2023-10-06\",\"y\"],[\"2023-10-07\",\"y\"],[\"2023-10-08\",\"y\"],[\"2023-10-09\",\"y\"],[\"2023-10-10\",\"y\"],[\"2023-10-11\",\"y\"],[\"2023-10-12\",\"y\"],[\"2023-10-13\",\"y\"],[\"2023-10-14\",\"y\"],[\"2023-10-15\",\"y\"],[\"2023-10-16\",\"y\"],[\"2023-10-17\",\"y\"],[\"2023-10-18\",\"y\"],[\"2023-10-19\",\"y\"],[\"2023-10-20\",\"y\"],[\"2023-10-21\",\"y\"],[\"2023-10-22\",\"y\"],[\"2023-10-23\",\"y\"],[\"2023-10-24\",\"y\"],[\"2023-10-25\",\"y\"],[\"2023-10-26\",\"y\"],[\"2023-10-27\",\"y\"],[\"2023-10-28\",\"y\"],[\"2023-10-29\",\"y\"],[\"2023-10-30\",\"y\"],[\"2023-10-31\",\"y\"],[\"2023-11-01\",\"y\"],[\"2023-11-02\",\"y\"],[\"2023-11-03\",\"y\"],[\"2023-11-04\",\"y\"],[\"2023-11-05\",\"y\"],[\"2023-11-06\",\"y\"],[\"2023-11-07\",\"y\"],[\"2023-11-08\",\"y\"],[\"2023-11-09\",\"y\"],[\"2023-11-10\",\"y\"],[\"2023-11-11\",\"y\"],[\"2023-11-12\",\"y\"],[\"2023-11-13\",\"y\"],[\"2023-11-14\",\"y\"],[\"2023-11-15\",\"y\"],[\"2023-11-16\",\"y\"],[\"2023-11-17\",\"y\"],[\"2023-11-18\",\"y\"],[\"2023-11-19\",\"y\"],[\"2023-11-20\",\"y\"],[\"2023-11-21\",\"y\"],[\"2023-11-22\",\"y\"],[\"2023-11-23\",\"y\"],[\"2023-11-24\",\"y\"],[\"2023-11-25\",\"y\"],[\"2023-11-26\",\"y\"],[\"2023-11-27\",\"y\"],[\"2023-11-28\",\"y\"],[\"2023-11-29\",\"y\"],[\"2023-11-30\",\"y\"],[\"2023-12-01\",\"y\"],[\"2023-12-02\",\"y\"],[\"2023-12-03\",\"y\"],[\"2023-12-04\",\"y\"],[\"2023-12-05\",\"y\"],[\"2023-12-06\",\"y\"],[\"2023-12-07\",\"y\"],[\"2023-12-08\",\"y\"],[\"2023-12-09\",\"y\"],[\"2023-12-10\",\"y\"],[\"2023-12-11\",\"y\"],[\"2023-12-12\",\"y\"],[\"2023-12-13\",\"y\"],[\"2023-12-14\",\"y\"],[\"2023-12-15\",\"y\"],[\"2023-12-16\",\"y\"],[\"2023-12-17\",\"y\"],[\"2023-12-18\",\"y\"],[\"2023-12-19\",\"y\"],[\"2023-12-20\",\"y\"],[\"2023-12-21\",\"y\"],[\"2023-12-22\",\"y\"],[\"2023-12-23\",\"y\"],[\"2023-12-24\",\"y\"],[\"2023-12-25\",\"y\"],[\"2023-12-26\",\"y\"],[\"2023-12-27\",\"y\"],[\"2023-12-28\",\"y\"],[\"2023-12-29\",\"y\"],[\"2023-12-30\",\"y\"],[\"2023-12-31\",\"y\"]],\"hovertemplate\":\"%{customdata[0]} \\u003cbr\\u003eWeek=%{x} \\u003cbr\\u003e%{customdata[1]}=%{z}\",\"name\":\"2023\",\"showscale\":false,\"x\":[0,1,1,1,1,1,1,1,2,2,2,2,2,2,2,3,3,3,3,3,3,3,4,4,4,4,4,4,4,5,5,5,5,5,5,5,6,6,6,6,6,6,6,7,7,7,7,7,7,7,8,8,8,8,8,8,8,9,9,9,9,9,9,9,10,10,10,10,10,10,10,11,11,11,11,11,11,11,12,12,12,12,12,12,12,13,13,13,13,13,13,13,14,14,14,14,14,14,14,15,15,15,15,15,15,15,16,16,16,16,16,16,16,17,17,17,17,17,17,17,18,18,18,18,18,18,18,19,19,19,19,19,19,19,20,20,20,20,20,20,20,21,21,21,21,21,21,21,22,22,22,22,22,22,22,23,23,23,23,23,23,23,24,24,24,24,24,24,24,25,25,25,25,25,25,25,26,26,26,26,26,26,26,27,27,27,27,27,27,27,28,28,28,28,28,28,28,29,29,29,29,29,29,29,30,30,30,30,30,30,30,31,31,31,31,31,31,31,32,32,32,32,32,32,32,33,33,33,33,33,33,33,34,34,34,34,34,34,34,35,35,35,35,35,35,35,36,36,36,36,36,36,36,37,37,37,37,37,37,37,38,38,38,38,38,38,38,39,39,39,39,39,39,39,40,40,40,40,40,40,40,41,41,41,41,41,41,41,42,42,42,42,42,42,42,43,43,43,43,43,43,43,44,44,44,44,44,44,44,45,45,45,45,45,45,45,46,46,46,46,46,46,46,47,47,47,47,47,47,47,48,48,48,48,48,48,48,49,49,49,49,49,49,49,50,50,50,50,50,50,50,51,51,51,51,51,51,51,52,52,52,52,52,52,52],\"xgap\":1,\"y\":[6,0,1,2,3,4,5,6,0,1,2,3,4,5,6,0,1,2,3,4,5,6,0,1,2,3,4,5,6,0,1,2,3,4,5,6,0,1,2,3,4,5,6,0,1,2,3,4,5,6,0,1,2,3,4,5,6,0,1,2,3,4,5,6,0,1,2,3,4,5,6,0,1,2,3,4,5,6,0,1,2,3,4,5,6,0,1,2,3,4,5,6,0,1,2,3,4,5,6,0,1,2,3,4,5,6,0,1,2,3,4,5,6,0,1,2,3,4,5,6,0,1,2,3,4,5,6,0,1,2,3,4,5,6,0,1,2,3,4,5,6,0,1,2,3,4,5,6,0,1,2,3,4,5,6,0,1,2,3,4,5,6,0,1,2,3,4,5,6,0,1,2,3,4,5,6,0,1,2,3,4,5,6,0,1,2,3,4,5,6,0,1,2,3,4,5,6,0,1,2,3,4,5,6,0,1,2,3,4,5,6,0,1,2,3,4,5,6,0,1,2,3,4,5,6,0,1,2,3,4,5,6,0,1,2,3,4,5,6,0,1,2,3,4,5,6,0,1,2,3,4,5,6,0,1,2,3,4,5,6,0,1,2,3,4,5,6,0,1,2,3,4,5,6,0,1,2,3,4,5,6,0,1,2,3,4,5,6,0,1,2,3,4,5,6,0,1,2,3,4,5,6,0,1,2,3,4,5,6,0,1,2,3,4,5,6,0,1,2,3,4,5,6,0,1,2,3,4,5,6,0,1,2,3,4,5,6,0,1,2,3,4,5,6,0,1,2,3,4,5,6,0,1,2,3,4,5,6,0,1,2,3,4,5,6],\"ygap\":1,\"z\":[null,null,null,null,null,null,null,null,null,null,null,null,null,null,null,null,null,null,null,null,null,null,null,null,null,null,null,null,null,null,null,null,null,null,null,null,null,null,null,null,null,null,null,null,null,null,null,null,null,null,null,null,null,null,null,null,null,null,null,null,null,null,null,null,null,null,null,null,null,null,null,null,null,null,null,null,null,null,null,null,null,null,null,null,null,null,null,null,null,null,null,null,null,null,null,null,null,null,null,null,null,null,null,null,null,null,null,null,null,null,null,null,null,null,null,null,null,null,null,null,null,null,null,null,null,null,null,null,null,null,null,null,null,null,null,null,null,null,null,null,null,null,null,null,null,null,null,null,null,null,null,null,null,null,null,null,null,null,null,null,null,null,null,null,null,null,null,null,null,null,null,null,null,null,null,null,null,null,null,null,null,null,null,null,null,null,null,null,null,null,null,null,null,null,null,null,null,null,null,null,null,null,null,null,null,null,null,null,null,null,null,null,null,null,null,null,null,null,null,null,null,null,null,null,null,null,null,null,null,null,null,null,null,null,null,null,null,null,null,null,null,null,null,null,null,null,null,null,null,null,null,null,null,null,null,null,null,null,null,null,null,null,null,null,null,null,null,null,null,null,null,null,null,1.0,null,3.0,1.0,null,null,1.0,1.0,null,null,1.0,null,null,null,null,null,1.0,null,null,1.0,null,null,null,1.0,null,null,null,null,null,null,null,null,null,null,null,null,null,1.0,null,null,null,1.0,null,1.0,1.0,null,null,1.0,1.0,2.0,5.0,13.0,11.0,10.0,15.0,14.0,9.0,11.0,9.0,8.0,20.0,15.0,17.0,4.0,5.0,14.0,8.0,11.0,6.0,11.0,8.0,4.0,6.0,18.0,8.0,7.0,9.0,9.0,11.0,17.0,16.0,14.0,8.0,21.0,16.0,11.0,18.0,20.0,15.0,10.0,9.0,11.0],\"type\":\"heatmap\",\"xaxis\":\"x\",\"yaxis\":\"y\",\"zmax\":21,\"zmin\":1},{\"hoverinfo\":\"skip\",\"line\":{\"color\":\"#9e9e9e\",\"width\":1},\"mode\":\"lines\",\"x\":[-0.5,-0.5],\"y\":[5.5,6.5],\"type\":\"scatter\",\"xaxis\":\"x\",\"yaxis\":\"y\"},{\"hoverinfo\":\"skip\",\"line\":{\"color\":\"#9e9e9e\",\"width\":1},\"mode\":\"lines\",\"x\":[-0.5,0.5],\"y\":[5.5,5.5],\"type\":\"scatter\",\"xaxis\":\"x\",\"yaxis\":\"y\"},{\"hoverinfo\":\"skip\",\"line\":{\"color\":\"#9e9e9e\",\"width\":1},\"mode\":\"lines\",\"x\":[0.5,0.5],\"y\":[5.5,-0.5],\"type\":\"scatter\",\"xaxis\":\"x\",\"yaxis\":\"y\"},{\"hoverinfo\":\"skip\",\"line\":{\"color\":\"#9e9e9e\",\"width\":1},\"mode\":\"lines\",\"x\":[4.5,4.5],\"y\":[1.5,6.5],\"type\":\"scatter\",\"xaxis\":\"x\",\"yaxis\":\"y\"},{\"hoverinfo\":\"skip\",\"line\":{\"color\":\"#9e9e9e\",\"width\":1},\"mode\":\"lines\",\"x\":[4.5,5.5],\"y\":[1.5,1.5],\"type\":\"scatter\",\"xaxis\":\"x\",\"yaxis\":\"y\"},{\"hoverinfo\":\"skip\",\"line\":{\"color\":\"#9e9e9e\",\"width\":1},\"mode\":\"lines\",\"x\":[5.5,5.5],\"y\":[1.5,-0.5],\"type\":\"scatter\",\"xaxis\":\"x\",\"yaxis\":\"y\"},{\"hoverinfo\":\"skip\",\"line\":{\"color\":\"#9e9e9e\",\"width\":1},\"mode\":\"lines\",\"x\":[8.5,8.5],\"y\":[1.5,6.5],\"type\":\"scatter\",\"xaxis\":\"x\",\"yaxis\":\"y\"},{\"hoverinfo\":\"skip\",\"line\":{\"color\":\"#9e9e9e\",\"width\":1},\"mode\":\"lines\",\"x\":[8.5,9.5],\"y\":[1.5,1.5],\"type\":\"scatter\",\"xaxis\":\"x\",\"yaxis\":\"y\"},{\"hoverinfo\":\"skip\",\"line\":{\"color\":\"#9e9e9e\",\"width\":1},\"mode\":\"lines\",\"x\":[9.5,9.5],\"y\":[1.5,-0.5],\"type\":\"scatter\",\"xaxis\":\"x\",\"yaxis\":\"y\"},{\"hoverinfo\":\"skip\",\"line\":{\"color\":\"#9e9e9e\",\"width\":1},\"mode\":\"lines\",\"x\":[12.5,12.5],\"y\":[4.5,6.5],\"type\":\"scatter\",\"xaxis\":\"x\",\"yaxis\":\"y\"},{\"hoverinfo\":\"skip\",\"line\":{\"color\":\"#9e9e9e\",\"width\":1},\"mode\":\"lines\",\"x\":[12.5,13.5],\"y\":[4.5,4.5],\"type\":\"scatter\",\"xaxis\":\"x\",\"yaxis\":\"y\"},{\"hoverinfo\":\"skip\",\"line\":{\"color\":\"#9e9e9e\",\"width\":1},\"mode\":\"lines\",\"x\":[13.5,13.5],\"y\":[4.5,-0.5],\"type\":\"scatter\",\"xaxis\":\"x\",\"yaxis\":\"y\"},{\"hoverinfo\":\"skip\",\"line\":{\"color\":\"#9e9e9e\",\"width\":1},\"mode\":\"lines\",\"x\":[17.5,17.5],\"y\":[-0.5,6.5],\"type\":\"scatter\",\"xaxis\":\"x\",\"yaxis\":\"y\"},{\"hoverinfo\":\"skip\",\"line\":{\"color\":\"#9e9e9e\",\"width\":1},\"mode\":\"lines\",\"x\":[21.5,21.5],\"y\":[2.5,6.5],\"type\":\"scatter\",\"xaxis\":\"x\",\"yaxis\":\"y\"},{\"hoverinfo\":\"skip\",\"line\":{\"color\":\"#9e9e9e\",\"width\":1},\"mode\":\"lines\",\"x\":[21.5,22.5],\"y\":[2.5,2.5],\"type\":\"scatter\",\"xaxis\":\"x\",\"yaxis\":\"y\"},{\"hoverinfo\":\"skip\",\"line\":{\"color\":\"#9e9e9e\",\"width\":1},\"mode\":\"lines\",\"x\":[22.5,22.5],\"y\":[2.5,-0.5],\"type\":\"scatter\",\"xaxis\":\"x\",\"yaxis\":\"y\"},{\"hoverinfo\":\"skip\",\"line\":{\"color\":\"#9e9e9e\",\"width\":1},\"mode\":\"lines\",\"x\":[25.5,25.5],\"y\":[4.5,6.5],\"type\":\"scatter\",\"xaxis\":\"x\",\"yaxis\":\"y\"},{\"hoverinfo\":\"skip\",\"line\":{\"color\":\"#9e9e9e\",\"width\":1},\"mode\":\"lines\",\"x\":[25.5,26.5],\"y\":[4.5,4.5],\"type\":\"scatter\",\"xaxis\":\"x\",\"yaxis\":\"y\"},{\"hoverinfo\":\"skip\",\"line\":{\"color\":\"#9e9e9e\",\"width\":1},\"mode\":\"lines\",\"x\":[26.5,26.5],\"y\":[4.5,-0.5],\"type\":\"scatter\",\"xaxis\":\"x\",\"yaxis\":\"y\"},{\"hoverinfo\":\"skip\",\"line\":{\"color\":\"#9e9e9e\",\"width\":1},\"mode\":\"lines\",\"x\":[30.5,30.5],\"y\":[0.5,6.5],\"type\":\"scatter\",\"xaxis\":\"x\",\"yaxis\":\"y\"},{\"hoverinfo\":\"skip\",\"line\":{\"color\":\"#9e9e9e\",\"width\":1},\"mode\":\"lines\",\"x\":[30.5,31.5],\"y\":[0.5,0.5],\"type\":\"scatter\",\"xaxis\":\"x\",\"yaxis\":\"y\"},{\"hoverinfo\":\"skip\",\"line\":{\"color\":\"#9e9e9e\",\"width\":1},\"mode\":\"lines\",\"x\":[31.5,31.5],\"y\":[0.5,-0.5],\"type\":\"scatter\",\"xaxis\":\"x\",\"yaxis\":\"y\"},{\"hoverinfo\":\"skip\",\"line\":{\"color\":\"#9e9e9e\",\"width\":1},\"mode\":\"lines\",\"x\":[34.5,34.5],\"y\":[3.5,6.5],\"type\":\"scatter\",\"xaxis\":\"x\",\"yaxis\":\"y\"},{\"hoverinfo\":\"skip\",\"line\":{\"color\":\"#9e9e9e\",\"width\":1},\"mode\":\"lines\",\"x\":[34.5,35.5],\"y\":[3.5,3.5],\"type\":\"scatter\",\"xaxis\":\"x\",\"yaxis\":\"y\"},{\"hoverinfo\":\"skip\",\"line\":{\"color\":\"#9e9e9e\",\"width\":1},\"mode\":\"lines\",\"x\":[35.5,35.5],\"y\":[3.5,-0.5],\"type\":\"scatter\",\"xaxis\":\"x\",\"yaxis\":\"y\"},{\"hoverinfo\":\"skip\",\"line\":{\"color\":\"#9e9e9e\",\"width\":1},\"mode\":\"lines\",\"x\":[38.5,38.5],\"y\":[5.5,6.5],\"type\":\"scatter\",\"xaxis\":\"x\",\"yaxis\":\"y\"},{\"hoverinfo\":\"skip\",\"line\":{\"color\":\"#9e9e9e\",\"width\":1},\"mode\":\"lines\",\"x\":[38.5,39.5],\"y\":[5.5,5.5],\"type\":\"scatter\",\"xaxis\":\"x\",\"yaxis\":\"y\"},{\"hoverinfo\":\"skip\",\"line\":{\"color\":\"#9e9e9e\",\"width\":1},\"mode\":\"lines\",\"x\":[39.5,39.5],\"y\":[5.5,-0.5],\"type\":\"scatter\",\"xaxis\":\"x\",\"yaxis\":\"y\"},{\"hoverinfo\":\"skip\",\"line\":{\"color\":\"#9e9e9e\",\"width\":1},\"mode\":\"lines\",\"x\":[43.5,43.5],\"y\":[1.5,6.5],\"type\":\"scatter\",\"xaxis\":\"x\",\"yaxis\":\"y\"},{\"hoverinfo\":\"skip\",\"line\":{\"color\":\"#9e9e9e\",\"width\":1},\"mode\":\"lines\",\"x\":[43.5,44.5],\"y\":[1.5,1.5],\"type\":\"scatter\",\"xaxis\":\"x\",\"yaxis\":\"y\"},{\"hoverinfo\":\"skip\",\"line\":{\"color\":\"#9e9e9e\",\"width\":1},\"mode\":\"lines\",\"x\":[44.5,44.5],\"y\":[1.5,-0.5],\"type\":\"scatter\",\"xaxis\":\"x\",\"yaxis\":\"y\"},{\"hoverinfo\":\"skip\",\"line\":{\"color\":\"#9e9e9e\",\"width\":1},\"mode\":\"lines\",\"x\":[47.5,47.5],\"y\":[3.5,6.5],\"type\":\"scatter\",\"xaxis\":\"x\",\"yaxis\":\"y\"},{\"hoverinfo\":\"skip\",\"line\":{\"color\":\"#9e9e9e\",\"width\":1},\"mode\":\"lines\",\"x\":[47.5,48.5],\"y\":[3.5,3.5],\"type\":\"scatter\",\"xaxis\":\"x\",\"yaxis\":\"y\"},{\"hoverinfo\":\"skip\",\"line\":{\"color\":\"#9e9e9e\",\"width\":1},\"mode\":\"lines\",\"x\":[48.5,48.5],\"y\":[3.5,-0.5],\"type\":\"scatter\",\"xaxis\":\"x\",\"yaxis\":\"y\"},{\"colorscale\":[[0.0,\"rgb(247,252,245)\"],[0.125,\"rgb(229,245,224)\"],[0.25,\"rgb(199,233,192)\"],[0.375,\"rgb(161,217,155)\"],[0.5,\"rgb(116,196,118)\"],[0.625,\"rgb(65,171,93)\"],[0.75,\"rgb(35,139,69)\"],[0.875,\"rgb(0,109,44)\"],[1.0,\"rgb(0,68,27)\"]],\"customdata\":[[\"2024-01-01\",\"y\"],[\"2024-01-02\",\"y\"],[\"2024-01-03\",\"y\"],[\"2024-01-04\",\"y\"],[\"2024-01-05\",\"y\"],[\"2024-01-06\",\"y\"],[\"2024-01-07\",\"y\"],[\"2024-01-08\",\"y\"],[\"2024-01-09\",\"y\"],[\"2024-01-10\",\"y\"],[\"2024-01-11\",\"y\"],[\"2024-01-12\",\"y\"],[\"2024-01-13\",\"y\"],[\"2024-01-14\",\"y\"],[\"2024-01-15\",\"y\"],[\"2024-01-16\",\"y\"],[\"2024-01-17\",\"y\"],[\"2024-01-18\",\"y\"],[\"2024-01-19\",\"y\"],[\"2024-01-20\",\"y\"],[\"2024-01-21\",\"y\"],[\"2024-01-22\",\"y\"],[\"2024-01-23\",\"y\"],[\"2024-01-24\",\"y\"],[\"2024-01-25\",\"y\"],[\"2024-01-26\",\"y\"],[\"2024-01-27\",\"y\"],[\"2024-01-28\",\"y\"],[\"2024-01-29\",\"y\"],[\"2024-01-30\",\"y\"],[\"2024-01-31\",\"y\"],[\"2024-02-01\",\"y\"],[\"2024-02-02\",\"y\"],[\"2024-02-03\",\"y\"],[\"2024-02-04\",\"y\"],[\"2024-02-05\",\"y\"],[\"2024-02-06\",\"y\"],[\"2024-02-07\",\"y\"],[\"2024-02-08\",\"y\"],[\"2024-02-09\",\"y\"],[\"2024-02-10\",\"y\"],[\"2024-02-11\",\"y\"],[\"2024-02-12\",\"y\"],[\"2024-02-13\",\"y\"],[\"2024-02-14\",\"y\"],[\"2024-02-15\",\"y\"],[\"2024-02-16\",\"y\"],[\"2024-02-17\",\"y\"],[\"2024-02-18\",\"y\"],[\"2024-02-19\",\"y\"],[\"2024-02-20\",\"y\"],[\"2024-02-21\",\"y\"],[\"2024-02-22\",\"y\"],[\"2024-02-23\",\"y\"],[\"2024-02-24\",\"y\"],[\"2024-02-25\",\"y\"],[\"2024-02-26\",\"y\"],[\"2024-02-27\",\"y\"],[\"2024-02-28\",\"y\"],[\"2024-02-29\",\"y\"],[\"2024-03-01\",\"y\"],[\"2024-03-02\",\"y\"],[\"2024-03-03\",\"y\"],[\"2024-03-04\",\"y\"],[\"2024-03-05\",\"y\"],[\"2024-03-06\",\"y\"],[\"2024-03-07\",\"y\"],[\"2024-03-08\",\"y\"],[\"2024-03-09\",\"y\"],[\"2024-03-10\",\"y\"],[\"2024-03-11\",\"y\"],[\"2024-03-12\",\"y\"],[\"2024-03-13\",\"y\"],[\"2024-03-14\",\"y\"],[\"2024-03-15\",\"y\"],[\"2024-03-16\",\"y\"],[\"2024-03-17\",\"y\"],[\"2024-03-18\",\"y\"],[\"2024-03-19\",\"y\"],[\"2024-03-20\",\"y\"],[\"2024-03-21\",\"y\"],[\"2024-03-22\",\"y\"],[\"2024-03-23\",\"y\"],[\"2024-03-24\",\"y\"],[\"2024-03-25\",\"y\"],[\"2024-03-26\",\"y\"],[\"2024-03-27\",\"y\"],[\"2024-03-28\",\"y\"],[\"2024-03-29\",\"y\"],[\"2024-03-30\",\"y\"],[\"2024-03-31\",\"y\"],[\"2024-04-01\",\"y\"],[\"2024-04-02\",\"y\"],[\"2024-04-03\",\"y\"],[\"2024-04-04\",\"y\"],[\"2024-04-05\",\"y\"],[\"2024-04-06\",\"y\"],[\"2024-04-07\",\"y\"],[\"2024-04-08\",\"y\"],[\"2024-04-09\",\"y\"],[\"2024-04-10\",\"y\"],[\"2024-04-11\",\"y\"],[\"2024-04-12\",\"y\"],[\"2024-04-13\",\"y\"],[\"2024-04-14\",\"y\"],[\"2024-04-15\",\"y\"],[\"2024-04-16\",\"y\"],[\"2024-04-17\",\"y\"],[\"2024-04-18\",\"y\"],[\"2024-04-19\",\"y\"],[\"2024-04-20\",\"y\"],[\"2024-04-21\",\"y\"],[\"2024-04-22\",\"y\"],[\"2024-04-23\",\"y\"],[\"2024-04-24\",\"y\"],[\"2024-04-25\",\"y\"],[\"2024-04-26\",\"y\"],[\"2024-04-27\",\"y\"],[\"2024-04-28\",\"y\"],[\"2024-04-29\",\"y\"],[\"2024-04-30\",\"y\"],[\"2024-05-01\",\"y\"],[\"2024-05-02\",\"y\"],[\"2024-05-03\",\"y\"],[\"2024-05-04\",\"y\"],[\"2024-05-05\",\"y\"],[\"2024-05-06\",\"y\"],[\"2024-05-07\",\"y\"],[\"2024-05-08\",\"y\"],[\"2024-05-09\",\"y\"],[\"2024-05-10\",\"y\"],[\"2024-05-11\",\"y\"],[\"2024-05-12\",\"y\"],[\"2024-05-13\",\"y\"],[\"2024-05-14\",\"y\"],[\"2024-05-15\",\"y\"],[\"2024-05-16\",\"y\"],[\"2024-05-17\",\"y\"],[\"2024-05-18\",\"y\"],[\"2024-05-19\",\"y\"],[\"2024-05-20\",\"y\"],[\"2024-05-21\",\"y\"],[\"2024-05-22\",\"y\"],[\"2024-05-23\",\"y\"],[\"2024-05-24\",\"y\"],[\"2024-05-25\",\"y\"],[\"2024-05-26\",\"y\"],[\"2024-05-27\",\"y\"],[\"2024-05-28\",\"y\"],[\"2024-05-29\",\"y\"],[\"2024-05-30\",\"y\"],[\"2024-05-31\",\"y\"],[\"2024-06-01\",\"y\"],[\"2024-06-02\",\"y\"],[\"2024-06-03\",\"y\"],[\"2024-06-04\",\"y\"],[\"2024-06-05\",\"y\"],[\"2024-06-06\",\"y\"],[\"2024-06-07\",\"y\"],[\"2024-06-08\",\"y\"],[\"2024-06-09\",\"y\"],[\"2024-06-10\",\"y\"],[\"2024-06-11\",\"y\"],[\"2024-06-12\",\"y\"],[\"2024-06-13\",\"y\"],[\"2024-06-14\",\"y\"],[\"2024-06-15\",\"y\"],[\"2024-06-16\",\"y\"],[\"2024-06-17\",\"y\"],[\"2024-06-18\",\"y\"],[\"2024-06-19\",\"y\"],[\"2024-06-20\",\"y\"],[\"2024-06-21\",\"y\"],[\"2024-06-22\",\"y\"],[\"2024-06-23\",\"y\"],[\"2024-06-24\",\"y\"],[\"2024-06-25\",\"y\"],[\"2024-06-26\",\"y\"],[\"2024-06-27\",\"y\"],[\"2024-06-28\",\"y\"],[\"2024-06-29\",\"y\"],[\"2024-06-30\",\"y\"],[\"2024-07-01\",\"y\"],[\"2024-07-02\",\"y\"],[\"2024-07-03\",\"y\"],[\"2024-07-04\",\"y\"],[\"2024-07-05\",\"y\"],[\"2024-07-06\",\"y\"],[\"2024-07-07\",\"y\"],[\"2024-07-08\",\"y\"],[\"2024-07-09\",\"y\"],[\"2024-07-10\",\"y\"],[\"2024-07-11\",\"y\"],[\"2024-07-12\",\"y\"],[\"2024-07-13\",\"y\"],[\"2024-07-14\",\"y\"],[\"2024-07-15\",\"y\"],[\"2024-07-16\",\"y\"],[\"2024-07-17\",\"y\"],[\"2024-07-18\",\"y\"],[\"2024-07-19\",\"y\"],[\"2024-07-20\",\"y\"],[\"2024-07-21\",\"y\"],[\"2024-07-22\",\"y\"],[\"2024-07-23\",\"y\"],[\"2024-07-24\",\"y\"],[\"2024-07-25\",\"y\"],[\"2024-07-26\",\"y\"],[\"2024-07-27\",\"y\"],[\"2024-07-28\",\"y\"],[\"2024-07-29\",\"y\"],[\"2024-07-30\",\"y\"],[\"2024-07-31\",\"y\"],[\"2024-08-01\",\"y\"],[\"2024-08-02\",\"y\"],[\"2024-08-03\",\"y\"],[\"2024-08-04\",\"y\"],[\"2024-08-05\",\"y\"],[\"2024-08-06\",\"y\"],[\"2024-08-07\",\"y\"],[\"2024-08-08\",\"y\"],[\"2024-08-09\",\"y\"],[\"2024-08-10\",\"y\"],[\"2024-08-11\",\"y\"],[\"2024-08-12\",\"y\"],[\"2024-08-13\",\"y\"],[\"2024-08-14\",\"y\"],[\"2024-08-15\",\"y\"],[\"2024-08-16\",\"y\"],[\"2024-08-17\",\"y\"],[\"2024-08-18\",\"y\"],[\"2024-08-19\",\"y\"],[\"2024-08-20\",\"y\"],[\"2024-08-21\",\"y\"],[\"2024-08-22\",\"y\"],[\"2024-08-23\",\"y\"],[\"2024-08-24\",\"y\"],[\"2024-08-25\",\"y\"],[\"2024-08-26\",\"y\"],[\"2024-08-27\",\"y\"],[\"2024-08-28\",\"y\"],[\"2024-08-29\",\"y\"],[\"2024-08-30\",\"y\"],[\"2024-08-31\",\"y\"],[\"2024-09-01\",\"y\"],[\"2024-09-02\",\"y\"],[\"2024-09-03\",\"y\"],[\"2024-09-04\",\"y\"],[\"2024-09-05\",\"y\"],[\"2024-09-06\",\"y\"],[\"2024-09-07\",\"y\"],[\"2024-09-08\",\"y\"],[\"2024-09-09\",\"y\"],[\"2024-09-10\",\"y\"],[\"2024-09-11\",\"y\"],[\"2024-09-12\",\"y\"],[\"2024-09-13\",\"y\"],[\"2024-09-14\",\"y\"],[\"2024-09-15\",\"y\"],[\"2024-09-16\",\"y\"],[\"2024-09-17\",\"y\"],[\"2024-09-18\",\"y\"],[\"2024-09-19\",\"y\"],[\"2024-09-20\",\"y\"],[\"2024-09-21\",\"y\"],[\"2024-09-22\",\"y\"],[\"2024-09-23\",\"y\"],[\"2024-09-24\",\"y\"],[\"2024-09-25\",\"y\"],[\"2024-09-26\",\"y\"],[\"2024-09-27\",\"y\"],[\"2024-09-28\",\"y\"],[\"2024-09-29\",\"y\"],[\"2024-09-30\",\"y\"],[\"2024-10-01\",\"y\"],[\"2024-10-02\",\"y\"],[\"2024-10-03\",\"y\"],[\"2024-10-04\",\"y\"],[\"2024-10-05\",\"y\"],[\"2024-10-06\",\"y\"],[\"2024-10-07\",\"y\"],[\"2024-10-08\",\"y\"],[\"2024-10-09\",\"y\"],[\"2024-10-10\",\"y\"],[\"2024-10-11\",\"y\"],[\"2024-10-12\",\"y\"],[\"2024-10-13\",\"y\"],[\"2024-10-14\",\"y\"],[\"2024-10-15\",\"y\"],[\"2024-10-16\",\"y\"],[\"2024-10-17\",\"y\"],[\"2024-10-18\",\"y\"],[\"2024-10-19\",\"y\"],[\"2024-10-20\",\"y\"],[\"2024-10-21\",\"y\"],[\"2024-10-22\",\"y\"],[\"2024-10-23\",\"y\"],[\"2024-10-24\",\"y\"],[\"2024-10-25\",\"y\"],[\"2024-10-26\",\"y\"],[\"2024-10-27\",\"y\"],[\"2024-10-28\",\"y\"],[\"2024-10-29\",\"y\"],[\"2024-10-30\",\"y\"],[\"2024-10-31\",\"y\"],[\"2024-11-01\",\"y\"],[\"2024-11-02\",\"y\"],[\"2024-11-03\",\"y\"],[\"2024-11-04\",\"y\"],[\"2024-11-05\",\"y\"],[\"2024-11-06\",\"y\"],[\"2024-11-07\",\"y\"],[\"2024-11-08\",\"y\"],[\"2024-11-09\",\"y\"],[\"2024-11-10\",\"y\"],[\"2024-11-11\",\"y\"],[\"2024-11-12\",\"y\"],[\"2024-11-13\",\"y\"],[\"2024-11-14\",\"y\"],[\"2024-11-15\",\"y\"],[\"2024-11-16\",\"y\"],[\"2024-11-17\",\"y\"],[\"2024-11-18\",\"y\"],[\"2024-11-19\",\"y\"],[\"2024-11-20\",\"y\"],[\"2024-11-21\",\"y\"],[\"2024-11-22\",\"y\"],[\"2024-11-23\",\"y\"],[\"2024-11-24\",\"y\"],[\"2024-11-25\",\"y\"],[\"2024-11-26\",\"y\"],[\"2024-11-27\",\"y\"],[\"2024-11-28\",\"y\"],[\"2024-11-29\",\"y\"],[\"2024-11-30\",\"y\"],[\"2024-12-01\",\"y\"],[\"2024-12-02\",\"y\"],[\"2024-12-03\",\"y\"],[\"2024-12-04\",\"y\"],[\"2024-12-05\",\"y\"],[\"2024-12-06\",\"y\"],[\"2024-12-07\",\"y\"],[\"2024-12-08\",\"y\"],[\"2024-12-09\",\"y\"],[\"2024-12-10\",\"y\"],[\"2024-12-11\",\"y\"],[\"2024-12-12\",\"y\"],[\"2024-12-13\",\"y\"],[\"2024-12-14\",\"y\"],[\"2024-12-15\",\"y\"],[\"2024-12-16\",\"y\"],[\"2024-12-17\",\"y\"],[\"2024-12-18\",\"y\"],[\"2024-12-19\",\"y\"],[\"2024-12-20\",\"y\"],[\"2024-12-21\",\"y\"],[\"2024-12-22\",\"y\"],[\"2024-12-23\",\"y\"],[\"2024-12-24\",\"y\"],[\"2024-12-25\",\"y\"],[\"2024-12-26\",\"y\"],[\"2024-12-27\",\"y\"],[\"2024-12-28\",\"y\"],[\"2024-12-29\",\"y\"],[\"2024-12-30\",\"y\"],[\"2024-12-31\",\"y\"]],\"hovertemplate\":\"%{customdata[0]} \\u003cbr\\u003eWeek=%{x} \\u003cbr\\u003e%{customdata[1]}=%{z}\",\"name\":\"2024\",\"showscale\":false,\"x\":[1,1,1,1,1,1,1,2,2,2,2,2,2,2,3,3,3,3,3,3,3,4,4,4,4,4,4,4,5,5,5,5,5,5,5,6,6,6,6,6,6,6,7,7,7,7,7,7,7,8,8,8,8,8,8,8,9,9,9,9,9,9,9,10,10,10,10,10,10,10,11,11,11,11,11,11,11,12,12,12,12,12,12,12,13,13,13,13,13,13,13,14,14,14,14,14,14,14,15,15,15,15,15,15,15,16,16,16,16,16,16,16,17,17,17,17,17,17,17,18,18,18,18,18,18,18,19,19,19,19,19,19,19,20,20,20,20,20,20,20,21,21,21,21,21,21,21,22,22,22,22,22,22,22,23,23,23,23,23,23,23,24,24,24,24,24,24,24,25,25,25,25,25,25,25,26,26,26,26,26,26,26,27,27,27,27,27,27,27,28,28,28,28,28,28,28,29,29,29,29,29,29,29,30,30,30,30,30,30,30,31,31,31,31,31,31,31,32,32,32,32,32,32,32,33,33,33,33,33,33,33,34,34,34,34,34,34,34,35,35,35,35,35,35,35,36,36,36,36,36,36,36,37,37,37,37,37,37,37,38,38,38,38,38,38,38,39,39,39,39,39,39,39,40,40,40,40,40,40,40,41,41,41,41,41,41,41,42,42,42,42,42,42,42,43,43,43,43,43,43,43,44,44,44,44,44,44,44,45,45,45,45,45,45,45,46,46,46,46,46,46,46,47,47,47,47,47,47,47,48,48,48,48,48,48,48,49,49,49,49,49,49,49,50,50,50,50,50,50,50,51,51,51,51,51,51,51,52,52,52,52,52,52,52,53,53],\"xgap\":1,\"y\":[0,1,2,3,4,5,6,0,1,2,3,4,5,6,0,1,2,3,4,5,6,0,1,2,3,4,5,6,0,1,2,3,4,5,6,0,1,2,3,4,5,6,0,1,2,3,4,5,6,0,1,2,3,4,5,6,0,1,2,3,4,5,6,0,1,2,3,4,5,6,0,1,2,3,4,5,6,0,1,2,3,4,5,6,0,1,2,3,4,5,6,0,1,2,3,4,5,6,0,1,2,3,4,5,6,0,1,2,3,4,5,6,0,1,2,3,4,5,6,0,1,2,3,4,5,6,0,1,2,3,4,5,6,0,1,2,3,4,5,6,0,1,2,3,4,5,6,0,1,2,3,4,5,6,0,1,2,3,4,5,6,0,1,2,3,4,5,6,0,1,2,3,4,5,6,0,1,2,3,4,5,6,0,1,2,3,4,5,6,0,1,2,3,4,5,6,0,1,2,3,4,5,6,0,1,2,3,4,5,6,0,1,2,3,4,5,6,0,1,2,3,4,5,6,0,1,2,3,4,5,6,0,1,2,3,4,5,6,0,1,2,3,4,5,6,0,1,2,3,4,5,6,0,1,2,3,4,5,6,0,1,2,3,4,5,6,0,1,2,3,4,5,6,0,1,2,3,4,5,6,0,1,2,3,4,5,6,0,1,2,3,4,5,6,0,1,2,3,4,5,6,0,1,2,3,4,5,6,0,1,2,3,4,5,6,0,1,2,3,4,5,6,0,1,2,3,4,5,6,0,1,2,3,4,5,6,0,1,2,3,4,5,6,0,1,2,3,4,5,6,0,1,2,3,4,5,6,0,1,2,3,4,5,6,0,1],\"ygap\":1,\"z\":[1.0,12.0,17.0,13.0,20.0,10.0,10.0,7.0,9.0,4.0,14.0,5.0,6.0,19.0,7.0,6.0,10.0,9.0,11.0,6.0,3.0,17.0,9.0,13.0,8.0,4.0,3.0,10.0,11.0,8.0,7.0,10.0,5.0,3.0,6.0,5.0,15.0,1.0,null,4.0,7.0,6.0,8.0,12.0,4.0,4.0,10.0,4.0,3.0,5.0,11.0,8.0,9.0,13.0,6.0,10.0,9.0,5.0,7.0,4.0,12.0,10.0,8.0,12.0,13.0,8.0,null,null,null,null,null,null,null,null,null,null,null,null,null,null,null,null,null,null,null,null,null,null,null,null,null,null,null,null,null,null,null,null,null,null,null,null,null,null,null,null,null,null,null,null,null,null,null,null,null,null,null,null,null,null,null,null,null,null,null,null,null,null,null,null,null,null,null,null,null,null,null,null,null,null,null,null,null,null,null,null,null,null,null,null,null,null,null,null,null,null,null,null,null,null,null,null,null,null,null,null,null,null,null,null,null,null,null,null,null,null,null,null,null,null,null,null,null,null,null,null,null,null,null,null,null,null,null,null,null,null,null,null,null,null,null,null,null,null,null,null,null,null,null,null,null,null,null,null,null,null,null,null,null,null,null,null,null,null,null,null,null,null,null,null,null,null,null,null,null,null,null,null,null,null,null,null,null,null,null,null,null,null,null,null,null,null,null,null,null,null,null,null,null,null,null,null,null,null,null,null,null,null,null,null,null,null,null,null,null,null,null,null,null,null,null,null,null,null,null,null,null,null,null,null,null,null,null,null,null,null,null,null,null,null,null,null,null,null,null,null,null,null,null,null,null,null,null,null,null,null,null,null,null,null,null,null,null,null,null,null,null,null,null,null,null,null,null,null,null,null,null,null,null,null,null,null,null,null,null,null,null,null,null,null,null,null,null,null,null,null,null,null,null,null,null,null,null,null,null,null],\"type\":\"heatmap\",\"xaxis\":\"x2\",\"yaxis\":\"y2\",\"zmax\":21,\"zmin\":1},{\"hoverinfo\":\"skip\",\"line\":{\"color\":\"#9e9e9e\",\"width\":1},\"mode\":\"lines\",\"x\":[0.5,0.5],\"y\":[-0.5,6.5],\"type\":\"scatter\",\"xaxis\":\"x2\",\"yaxis\":\"y2\"},{\"hoverinfo\":\"skip\",\"line\":{\"color\":\"#9e9e9e\",\"width\":1},\"mode\":\"lines\",\"x\":[4.5,4.5],\"y\":[2.5,6.5],\"type\":\"scatter\",\"xaxis\":\"x2\",\"yaxis\":\"y2\"},{\"hoverinfo\":\"skip\",\"line\":{\"color\":\"#9e9e9e\",\"width\":1},\"mode\":\"lines\",\"x\":[4.5,5.5],\"y\":[2.5,2.5],\"type\":\"scatter\",\"xaxis\":\"x2\",\"yaxis\":\"y2\"},{\"hoverinfo\":\"skip\",\"line\":{\"color\":\"#9e9e9e\",\"width\":1},\"mode\":\"lines\",\"x\":[5.5,5.5],\"y\":[2.5,-0.5],\"type\":\"scatter\",\"xaxis\":\"x2\",\"yaxis\":\"y2\"},{\"hoverinfo\":\"skip\",\"line\":{\"color\":\"#9e9e9e\",\"width\":1},\"mode\":\"lines\",\"x\":[8.5,8.5],\"y\":[3.5,6.5],\"type\":\"scatter\",\"xaxis\":\"x2\",\"yaxis\":\"y2\"},{\"hoverinfo\":\"skip\",\"line\":{\"color\":\"#9e9e9e\",\"width\":1},\"mode\":\"lines\",\"x\":[8.5,9.5],\"y\":[3.5,3.5],\"type\":\"scatter\",\"xaxis\":\"x2\",\"yaxis\":\"y2\"},{\"hoverinfo\":\"skip\",\"line\":{\"color\":\"#9e9e9e\",\"width\":1},\"mode\":\"lines\",\"x\":[9.5,9.5],\"y\":[3.5,-0.5],\"type\":\"scatter\",\"xaxis\":\"x2\",\"yaxis\":\"y2\"},{\"hoverinfo\":\"skip\",\"line\":{\"color\":\"#9e9e9e\",\"width\":1},\"mode\":\"lines\",\"x\":[13.5,13.5],\"y\":[-0.5,6.5],\"type\":\"scatter\",\"xaxis\":\"x2\",\"yaxis\":\"y2\"},{\"hoverinfo\":\"skip\",\"line\":{\"color\":\"#9e9e9e\",\"width\":1},\"mode\":\"lines\",\"x\":[17.5,17.5],\"y\":[1.5,6.5],\"type\":\"scatter\",\"xaxis\":\"x2\",\"yaxis\":\"y2\"},{\"hoverinfo\":\"skip\",\"line\":{\"color\":\"#9e9e9e\",\"width\":1},\"mode\":\"lines\",\"x\":[17.5,18.5],\"y\":[1.5,1.5],\"type\":\"scatter\",\"xaxis\":\"x2\",\"yaxis\":\"y2\"},{\"hoverinfo\":\"skip\",\"line\":{\"color\":\"#9e9e9e\",\"width\":1},\"mode\":\"lines\",\"x\":[18.5,18.5],\"y\":[1.5,-0.5],\"type\":\"scatter\",\"xaxis\":\"x2\",\"yaxis\":\"y2\"},{\"hoverinfo\":\"skip\",\"line\":{\"color\":\"#9e9e9e\",\"width\":1},\"mode\":\"lines\",\"x\":[21.5,21.5],\"y\":[4.5,6.5],\"type\":\"scatter\",\"xaxis\":\"x2\",\"yaxis\":\"y2\"},{\"hoverinfo\":\"skip\",\"line\":{\"color\":\"#9e9e9e\",\"width\":1},\"mode\":\"lines\",\"x\":[21.5,22.5],\"y\":[4.5,4.5],\"type\":\"scatter\",\"xaxis\":\"x2\",\"yaxis\":\"y2\"},{\"hoverinfo\":\"skip\",\"line\":{\"color\":\"#9e9e9e\",\"width\":1},\"mode\":\"lines\",\"x\":[22.5,22.5],\"y\":[4.5,-0.5],\"type\":\"scatter\",\"xaxis\":\"x2\",\"yaxis\":\"y2\"},{\"hoverinfo\":\"skip\",\"line\":{\"color\":\"#9e9e9e\",\"width\":1},\"mode\":\"lines\",\"x\":[26.5,26.5],\"y\":[-0.5,6.5],\"type\":\"scatter\",\"xaxis\":\"x2\",\"yaxis\":\"y2\"},{\"hoverinfo\":\"skip\",\"line\":{\"color\":\"#9e9e9e\",\"width\":1},\"mode\":\"lines\",\"x\":[30.5,30.5],\"y\":[2.5,6.5],\"type\":\"scatter\",\"xaxis\":\"x2\",\"yaxis\":\"y2\"},{\"hoverinfo\":\"skip\",\"line\":{\"color\":\"#9e9e9e\",\"width\":1},\"mode\":\"lines\",\"x\":[30.5,31.5],\"y\":[2.5,2.5],\"type\":\"scatter\",\"xaxis\":\"x2\",\"yaxis\":\"y2\"},{\"hoverinfo\":\"skip\",\"line\":{\"color\":\"#9e9e9e\",\"width\":1},\"mode\":\"lines\",\"x\":[31.5,31.5],\"y\":[2.5,-0.5],\"type\":\"scatter\",\"xaxis\":\"x2\",\"yaxis\":\"y2\"},{\"hoverinfo\":\"skip\",\"line\":{\"color\":\"#9e9e9e\",\"width\":1},\"mode\":\"lines\",\"x\":[34.5,34.5],\"y\":[5.5,6.5],\"type\":\"scatter\",\"xaxis\":\"x2\",\"yaxis\":\"y2\"},{\"hoverinfo\":\"skip\",\"line\":{\"color\":\"#9e9e9e\",\"width\":1},\"mode\":\"lines\",\"x\":[34.5,35.5],\"y\":[5.5,5.5],\"type\":\"scatter\",\"xaxis\":\"x2\",\"yaxis\":\"y2\"},{\"hoverinfo\":\"skip\",\"line\":{\"color\":\"#9e9e9e\",\"width\":1},\"mode\":\"lines\",\"x\":[35.5,35.5],\"y\":[5.5,-0.5],\"type\":\"scatter\",\"xaxis\":\"x2\",\"yaxis\":\"y2\"},{\"hoverinfo\":\"skip\",\"line\":{\"color\":\"#9e9e9e\",\"width\":1},\"mode\":\"lines\",\"x\":[39.5,39.5],\"y\":[0.5,6.5],\"type\":\"scatter\",\"xaxis\":\"x2\",\"yaxis\":\"y2\"},{\"hoverinfo\":\"skip\",\"line\":{\"color\":\"#9e9e9e\",\"width\":1},\"mode\":\"lines\",\"x\":[39.5,40.5],\"y\":[0.5,0.5],\"type\":\"scatter\",\"xaxis\":\"x2\",\"yaxis\":\"y2\"},{\"hoverinfo\":\"skip\",\"line\":{\"color\":\"#9e9e9e\",\"width\":1},\"mode\":\"lines\",\"x\":[40.5,40.5],\"y\":[0.5,-0.5],\"type\":\"scatter\",\"xaxis\":\"x2\",\"yaxis\":\"y2\"},{\"hoverinfo\":\"skip\",\"line\":{\"color\":\"#9e9e9e\",\"width\":1},\"mode\":\"lines\",\"x\":[43.5,43.5],\"y\":[3.5,6.5],\"type\":\"scatter\",\"xaxis\":\"x2\",\"yaxis\":\"y2\"},{\"hoverinfo\":\"skip\",\"line\":{\"color\":\"#9e9e9e\",\"width\":1},\"mode\":\"lines\",\"x\":[43.5,44.5],\"y\":[3.5,3.5],\"type\":\"scatter\",\"xaxis\":\"x2\",\"yaxis\":\"y2\"},{\"hoverinfo\":\"skip\",\"line\":{\"color\":\"#9e9e9e\",\"width\":1},\"mode\":\"lines\",\"x\":[44.5,44.5],\"y\":[3.5,-0.5],\"type\":\"scatter\",\"xaxis\":\"x2\",\"yaxis\":\"y2\"},{\"hoverinfo\":\"skip\",\"line\":{\"color\":\"#9e9e9e\",\"width\":1},\"mode\":\"lines\",\"x\":[47.5,47.5],\"y\":[5.5,6.5],\"type\":\"scatter\",\"xaxis\":\"x2\",\"yaxis\":\"y2\"},{\"hoverinfo\":\"skip\",\"line\":{\"color\":\"#9e9e9e\",\"width\":1},\"mode\":\"lines\",\"x\":[47.5,48.5],\"y\":[5.5,5.5],\"type\":\"scatter\",\"xaxis\":\"x2\",\"yaxis\":\"y2\"},{\"hoverinfo\":\"skip\",\"line\":{\"color\":\"#9e9e9e\",\"width\":1},\"mode\":\"lines\",\"x\":[48.5,48.5],\"y\":[5.5,-0.5],\"type\":\"scatter\",\"xaxis\":\"x2\",\"yaxis\":\"y2\"}],                        {\"template\":{\"data\":{\"histogram2dcontour\":[{\"type\":\"histogram2dcontour\",\"colorbar\":{\"outlinewidth\":0,\"ticks\":\"\"},\"colorscale\":[[0.0,\"#0d0887\"],[0.1111111111111111,\"#46039f\"],[0.2222222222222222,\"#7201a8\"],[0.3333333333333333,\"#9c179e\"],[0.4444444444444444,\"#bd3786\"],[0.5555555555555556,\"#d8576b\"],[0.6666666666666666,\"#ed7953\"],[0.7777777777777778,\"#fb9f3a\"],[0.8888888888888888,\"#fdca26\"],[1.0,\"#f0f921\"]]}],\"choropleth\":[{\"type\":\"choropleth\",\"colorbar\":{\"outlinewidth\":0,\"ticks\":\"\"}}],\"histogram2d\":[{\"type\":\"histogram2d\",\"colorbar\":{\"outlinewidth\":0,\"ticks\":\"\"},\"colorscale\":[[0.0,\"#0d0887\"],[0.1111111111111111,\"#46039f\"],[0.2222222222222222,\"#7201a8\"],[0.3333333333333333,\"#9c179e\"],[0.4444444444444444,\"#bd3786\"],[0.5555555555555556,\"#d8576b\"],[0.6666666666666666,\"#ed7953\"],[0.7777777777777778,\"#fb9f3a\"],[0.8888888888888888,\"#fdca26\"],[1.0,\"#f0f921\"]]}],\"heatmap\":[{\"type\":\"heatmap\",\"colorbar\":{\"outlinewidth\":0,\"ticks\":\"\"},\"colorscale\":[[0.0,\"#0d0887\"],[0.1111111111111111,\"#46039f\"],[0.2222222222222222,\"#7201a8\"],[0.3333333333333333,\"#9c179e\"],[0.4444444444444444,\"#bd3786\"],[0.5555555555555556,\"#d8576b\"],[0.6666666666666666,\"#ed7953\"],[0.7777777777777778,\"#fb9f3a\"],[0.8888888888888888,\"#fdca26\"],[1.0,\"#f0f921\"]]}],\"heatmapgl\":[{\"type\":\"heatmapgl\",\"colorbar\":{\"outlinewidth\":0,\"ticks\":\"\"},\"colorscale\":[[0.0,\"#0d0887\"],[0.1111111111111111,\"#46039f\"],[0.2222222222222222,\"#7201a8\"],[0.3333333333333333,\"#9c179e\"],[0.4444444444444444,\"#bd3786\"],[0.5555555555555556,\"#d8576b\"],[0.6666666666666666,\"#ed7953\"],[0.7777777777777778,\"#fb9f3a\"],[0.8888888888888888,\"#fdca26\"],[1.0,\"#f0f921\"]]}],\"contourcarpet\":[{\"type\":\"contourcarpet\",\"colorbar\":{\"outlinewidth\":0,\"ticks\":\"\"}}],\"contour\":[{\"type\":\"contour\",\"colorbar\":{\"outlinewidth\":0,\"ticks\":\"\"},\"colorscale\":[[0.0,\"#0d0887\"],[0.1111111111111111,\"#46039f\"],[0.2222222222222222,\"#7201a8\"],[0.3333333333333333,\"#9c179e\"],[0.4444444444444444,\"#bd3786\"],[0.5555555555555556,\"#d8576b\"],[0.6666666666666666,\"#ed7953\"],[0.7777777777777778,\"#fb9f3a\"],[0.8888888888888888,\"#fdca26\"],[1.0,\"#f0f921\"]]}],\"surface\":[{\"type\":\"surface\",\"colorbar\":{\"outlinewidth\":0,\"ticks\":\"\"},\"colorscale\":[[0.0,\"#0d0887\"],[0.1111111111111111,\"#46039f\"],[0.2222222222222222,\"#7201a8\"],[0.3333333333333333,\"#9c179e\"],[0.4444444444444444,\"#bd3786\"],[0.5555555555555556,\"#d8576b\"],[0.6666666666666666,\"#ed7953\"],[0.7777777777777778,\"#fb9f3a\"],[0.8888888888888888,\"#fdca26\"],[1.0,\"#f0f921\"]]}],\"mesh3d\":[{\"type\":\"mesh3d\",\"colorbar\":{\"outlinewidth\":0,\"ticks\":\"\"}}],\"scatter\":[{\"fillpattern\":{\"fillmode\":\"overlay\",\"size\":10,\"solidity\":0.2},\"type\":\"scatter\"}],\"parcoords\":[{\"type\":\"parcoords\",\"line\":{\"colorbar\":{\"outlinewidth\":0,\"ticks\":\"\"}}}],\"scatterpolargl\":[{\"type\":\"scatterpolargl\",\"marker\":{\"colorbar\":{\"outlinewidth\":0,\"ticks\":\"\"}}}],\"bar\":[{\"error_x\":{\"color\":\"#2a3f5f\"},\"error_y\":{\"color\":\"#2a3f5f\"},\"marker\":{\"line\":{\"color\":\"#E5ECF6\",\"width\":0.5},\"pattern\":{\"fillmode\":\"overlay\",\"size\":10,\"solidity\":0.2}},\"type\":\"bar\"}],\"scattergeo\":[{\"type\":\"scattergeo\",\"marker\":{\"colorbar\":{\"outlinewidth\":0,\"ticks\":\"\"}}}],\"scatterpolar\":[{\"type\":\"scatterpolar\",\"marker\":{\"colorbar\":{\"outlinewidth\":0,\"ticks\":\"\"}}}],\"histogram\":[{\"marker\":{\"pattern\":{\"fillmode\":\"overlay\",\"size\":10,\"solidity\":0.2}},\"type\":\"histogram\"}],\"scattergl\":[{\"type\":\"scattergl\",\"marker\":{\"colorbar\":{\"outlinewidth\":0,\"ticks\":\"\"}}}],\"scatter3d\":[{\"type\":\"scatter3d\",\"line\":{\"colorbar\":{\"outlinewidth\":0,\"ticks\":\"\"}},\"marker\":{\"colorbar\":{\"outlinewidth\":0,\"ticks\":\"\"}}}],\"scattermapbox\":[{\"type\":\"scattermapbox\",\"marker\":{\"colorbar\":{\"outlinewidth\":0,\"ticks\":\"\"}}}],\"scatterternary\":[{\"type\":\"scatterternary\",\"marker\":{\"colorbar\":{\"outlinewidth\":0,\"ticks\":\"\"}}}],\"scattercarpet\":[{\"type\":\"scattercarpet\",\"marker\":{\"colorbar\":{\"outlinewidth\":0,\"ticks\":\"\"}}}],\"carpet\":[{\"aaxis\":{\"endlinecolor\":\"#2a3f5f\",\"gridcolor\":\"white\",\"linecolor\":\"white\",\"minorgridcolor\":\"white\",\"startlinecolor\":\"#2a3f5f\"},\"baxis\":{\"endlinecolor\":\"#2a3f5f\",\"gridcolor\":\"white\",\"linecolor\":\"white\",\"minorgridcolor\":\"white\",\"startlinecolor\":\"#2a3f5f\"},\"type\":\"carpet\"}],\"table\":[{\"cells\":{\"fill\":{\"color\":\"#EBF0F8\"},\"line\":{\"color\":\"white\"}},\"header\":{\"fill\":{\"color\":\"#C8D4E3\"},\"line\":{\"color\":\"white\"}},\"type\":\"table\"}],\"barpolar\":[{\"marker\":{\"line\":{\"color\":\"#E5ECF6\",\"width\":0.5},\"pattern\":{\"fillmode\":\"overlay\",\"size\":10,\"solidity\":0.2}},\"type\":\"barpolar\"}],\"pie\":[{\"automargin\":true,\"type\":\"pie\"}]},\"layout\":{\"autotypenumbers\":\"strict\",\"colorway\":[\"#636efa\",\"#EF553B\",\"#00cc96\",\"#ab63fa\",\"#FFA15A\",\"#19d3f3\",\"#FF6692\",\"#B6E880\",\"#FF97FF\",\"#FECB52\"],\"font\":{\"color\":\"#2a3f5f\"},\"hovermode\":\"closest\",\"hoverlabel\":{\"align\":\"left\"},\"paper_bgcolor\":\"white\",\"plot_bgcolor\":\"#E5ECF6\",\"polar\":{\"bgcolor\":\"#E5ECF6\",\"angularaxis\":{\"gridcolor\":\"white\",\"linecolor\":\"white\",\"ticks\":\"\"},\"radialaxis\":{\"gridcolor\":\"white\",\"linecolor\":\"white\",\"ticks\":\"\"}},\"ternary\":{\"bgcolor\":\"#E5ECF6\",\"aaxis\":{\"gridcolor\":\"white\",\"linecolor\":\"white\",\"ticks\":\"\"},\"baxis\":{\"gridcolor\":\"white\",\"linecolor\":\"white\",\"ticks\":\"\"},\"caxis\":{\"gridcolor\":\"white\",\"linecolor\":\"white\",\"ticks\":\"\"}},\"coloraxis\":{\"colorbar\":{\"outlinewidth\":0,\"ticks\":\"\"}},\"colorscale\":{\"sequential\":[[0.0,\"#0d0887\"],[0.1111111111111111,\"#46039f\"],[0.2222222222222222,\"#7201a8\"],[0.3333333333333333,\"#9c179e\"],[0.4444444444444444,\"#bd3786\"],[0.5555555555555556,\"#d8576b\"],[0.6666666666666666,\"#ed7953\"],[0.7777777777777778,\"#fb9f3a\"],[0.8888888888888888,\"#fdca26\"],[1.0,\"#f0f921\"]],\"sequentialminus\":[[0.0,\"#0d0887\"],[0.1111111111111111,\"#46039f\"],[0.2222222222222222,\"#7201a8\"],[0.3333333333333333,\"#9c179e\"],[0.4444444444444444,\"#bd3786\"],[0.5555555555555556,\"#d8576b\"],[0.6666666666666666,\"#ed7953\"],[0.7777777777777778,\"#fb9f3a\"],[0.8888888888888888,\"#fdca26\"],[1.0,\"#f0f921\"]],\"diverging\":[[0,\"#8e0152\"],[0.1,\"#c51b7d\"],[0.2,\"#de77ae\"],[0.3,\"#f1b6da\"],[0.4,\"#fde0ef\"],[0.5,\"#f7f7f7\"],[0.6,\"#e6f5d0\"],[0.7,\"#b8e186\"],[0.8,\"#7fbc41\"],[0.9,\"#4d9221\"],[1,\"#276419\"]]},\"xaxis\":{\"gridcolor\":\"white\",\"linecolor\":\"white\",\"ticks\":\"\",\"title\":{\"standoff\":15},\"zerolinecolor\":\"white\",\"automargin\":true,\"zerolinewidth\":2},\"yaxis\":{\"gridcolor\":\"white\",\"linecolor\":\"white\",\"ticks\":\"\",\"title\":{\"standoff\":15},\"zerolinecolor\":\"white\",\"automargin\":true,\"zerolinewidth\":2},\"scene\":{\"xaxis\":{\"backgroundcolor\":\"#E5ECF6\",\"gridcolor\":\"white\",\"linecolor\":\"white\",\"showbackground\":true,\"ticks\":\"\",\"zerolinecolor\":\"white\",\"gridwidth\":2},\"yaxis\":{\"backgroundcolor\":\"#E5ECF6\",\"gridcolor\":\"white\",\"linecolor\":\"white\",\"showbackground\":true,\"ticks\":\"\",\"zerolinecolor\":\"white\",\"gridwidth\":2},\"zaxis\":{\"backgroundcolor\":\"#E5ECF6\",\"gridcolor\":\"white\",\"linecolor\":\"white\",\"showbackground\":true,\"ticks\":\"\",\"zerolinecolor\":\"white\",\"gridwidth\":2}},\"shapedefaults\":{\"line\":{\"color\":\"#2a3f5f\"}},\"annotationdefaults\":{\"arrowcolor\":\"#2a3f5f\",\"arrowhead\":0,\"arrowwidth\":1},\"geo\":{\"bgcolor\":\"white\",\"landcolor\":\"#E5ECF6\",\"subunitcolor\":\"white\",\"showland\":true,\"showlakes\":true,\"lakecolor\":\"white\"},\"title\":{\"x\":0.05},\"mapbox\":{\"style\":\"light\"}}},\"xaxis\":{\"anchor\":\"y\",\"domain\":[0.0,1.0],\"showgrid\":false,\"showline\":false,\"tickmode\":\"array\",\"ticktext\":[\"January\",\"February\",\"March\",\"April\",\"May\",\"June\",\"July\",\"August\",\"September\",\"October\",\"November\",\"December\"],\"tickvals\":[1.5,5.909090909090909,10.318181818181818,14.727272727272727,19.136363636363637,23.545454545454547,27.954545454545453,32.36363636363636,36.77272727272727,41.18181818181818,45.59090909090909,50.0],\"zeroline\":false},\"yaxis\":{\"anchor\":\"x\",\"domain\":[0.54,1.0],\"autorange\":\"reversed\",\"showgrid\":false,\"showline\":false,\"tickmode\":\"array\",\"ticktext\":[\"Mon\",\"Tue\",\"Wed\",\"Thu\",\"Fri\",\"Sat\",\"Sun\"],\"tickvals\":[0,1,2,3,4,5,6],\"zeroline\":false},\"xaxis2\":{\"anchor\":\"y2\",\"domain\":[0.0,1.0],\"showgrid\":false,\"showline\":false,\"tickmode\":\"array\",\"ticktext\":[\"January\",\"February\",\"March\",\"April\",\"May\",\"June\",\"July\",\"August\",\"September\",\"October\",\"November\",\"December\"],\"tickvals\":[1.5,5.909090909090909,10.318181818181818,14.727272727272727,19.136363636363637,23.545454545454547,27.954545454545453,32.36363636363636,36.77272727272727,41.18181818181818,45.59090909090909,50.0],\"zeroline\":false},\"yaxis2\":{\"anchor\":\"x2\",\"domain\":[0.0,0.46],\"autorange\":\"reversed\",\"showgrid\":false,\"showline\":false,\"tickmode\":\"array\",\"ticktext\":[\"Mon\",\"Tue\",\"Wed\",\"Thu\",\"Fri\",\"Sat\",\"Sun\"],\"tickvals\":[0,1,2,3,4,5,6],\"zeroline\":false},\"font\":{\"color\":\"#9e9e9e\",\"size\":10},\"margin\":{\"b\":20,\"t\":20},\"title\":{\"text\":\"Number of Liked Tweets per Day 2023\"},\"plot_bgcolor\":\"#fff\",\"showlegend\":false,\"height\":250},                        {\"responsive\": true}                    ).then(function(){\n",
       "                            \n",
       "var gd = document.getElementById('96d1a396-c9fc-4d3b-b3bf-f60c20bdc2f5');\n",
       "var x = new MutationObserver(function (mutations, observer) {{\n",
       "        var display = window.getComputedStyle(gd).display;\n",
       "        if (!display || display === 'none') {{\n",
       "            console.log([gd, 'removed!']);\n",
       "            Plotly.purge(gd);\n",
       "            observer.disconnect();\n",
       "        }}\n",
       "}});\n",
       "\n",
       "// Listen for the removal of the full notebook cells\n",
       "var notebookContainer = gd.closest('#notebook-container');\n",
       "if (notebookContainer) {{\n",
       "    x.observe(notebookContainer, {childList: true});\n",
       "}}\n",
       "\n",
       "// Listen for the clearing of the current output cell\n",
       "var outputEl = gd.closest('.output');\n",
       "if (outputEl) {{\n",
       "    x.observe(outputEl, {childList: true});\n",
       "}}\n",
       "\n",
       "                        })                };                });            </script>        </div>"
      ]
     },
     "metadata": {},
     "output_type": "display_data"
    }
   ],
   "source": [
    "from plotly_calplot import calplot\n",
    "\n",
    "def convert_to_day_df(df):\n",
    "    # Convert the 'date' column to datetime if it's not already\n",
    "    df['date'] = pd.to_datetime(df['date'])\n",
    "    day_df = df.groupby(df['date'].dt.date).size().reset_index(name='num_tweets')\n",
    "    \n",
    "    return day_df\n",
    "\n",
    "day_df = convert_to_day_df(df)\n",
    "day_df.head(2)\n",
    "\n",
    "fig = calplot(day_df[(day_df['date'].astype(str)>'2023-09-01') & (day_df['date'].astype(str) < '2024-03-07')], x=\"date\", y=\"num_tweets\", \n",
    "              start_month = 1,\n",
    "    end_month = 12,\n",
    "    )\n",
    "\n",
    "# set height of the figure\n",
    "fig.update_layout(height=250)\n",
    "# add title \n",
    "fig.update_layout(title='Number of Liked Tweets per Day 2023')\n",
    "fig.show()"
   ]
  },
  {
   "cell_type": "markdown",
   "metadata": {},
   "source": [
    "## Image captions \n",
    "Proof of concept: get high level summary, detailed description and tags for first image from liked tweets. \n",
    "\n",
    "\n",
    "With GPT-4-V. \n",
    "\n",
    "Gemini 1.0 also works pretty great for this usecase.\n",
    "\n",
    "Mainly, convert image to structured json data. "
   ]
  },
  {
   "cell_type": "code",
   "execution_count": 267,
   "metadata": {},
   "outputs": [],
   "source": [
    "import google.generativeai as genai\n",
    "import replicate\n",
    "import os \n",
    "import json\n",
    "from IPython.display import Image, display\n",
    "import PIL.Image\n",
    "from PIL import Image\n",
    "import urllib.request \n",
    "\n",
    "# 配置 genai 使用环境变量中的 API KEY\n",
    "api_key = os.getenv('GEMINI_API_KEY')\n",
    "if not api_key:\n",
    "    print(\"GEMINI_API_KEY environment variable not set.\")\n",
    "    sys.exit(1)\n",
    "\n",
    "genai.configure(api_key=api_key)\n",
    "\n",
    "# Set up the model\n",
    "generation_config = {\"temperature\": 0.9, \"top_p\": 0.9, \"top_k\": 40, \"max_output_tokens\": 2048}\n",
    "\n",
    "# 从环境变量中获取 API KEY\n",
    "API_KEY = os.getenv('REPLICATE_API_TOKEN')\n",
    "\n",
    "# 配置Replicate客户端使用API KEY\n",
    "replicate_client = replicate.Client(api_token=API_KEY)\n",
    "\n",
    "# 构建 prompt\n",
    "prompt_parts = [\n",
    "  \"You will be given a JSON string (that may not be completely valid), your task is to create a valid JSON results based on the input. Try keep the structure of the input JSON as much as possible.\",\n",
    "]\n",
    "\n",
    "model = genai.GenerativeModel(model_name=\"gemini-1.0-pro-001\", generation_config=generation_config)\n",
    "\n",
    "def get_valid_json_with_gemini(input):\n",
    "    response = model.generate_content(prompt_parts)\n",
    "    # 提取 response 中的 text\n",
    "    if hasattr(response, 'candidates'):\n",
    "        for candidate in response.candidates:\n",
    "            if hasattr(candidate, 'content') and hasattr(candidate.content, 'parts'):\n",
    "                for part in candidate.content.parts:\n",
    "                    return part.text\n",
    "                    print(part.text)\n",
    "\n",
    "def get_tweet_image_captioning(image_url, author_name, text):\n",
    "    # Opening the image for Image Understanding\n",
    "    urllib.request.urlretrieve(image_url, \"images/input.png\") \n",
    "    image = PIL.Image.open('images/input.png')\n",
    "\n",
    "        # 构建提示，结合了文本和图像\n",
    "    prompt_parts = [\n",
    "    f\"\"\" This is a tweet from {author_name}, \n",
    "    with the following text:\n",
    "    {text}.\n",
    "\n",
    "    Below is an image from the tweet.\n",
    "    Your task is to caption the image and provide a description. reference the text or author if necessary. \n",
    "\n",
    "    Output rules you MUST follow:\n",
    "    - \"Summary\": A brief high level, big picture description of the image. What is this and what is this for?\n",
    "    - \"Description\": A detailed description of the image. If there are text in the image, please include all of it in the description. (in its original language)\n",
    "    - \"Tags\": a brief list of high level tags that describe the image. (e.g. \"cat\", \"anime girl\", \"food\")\n",
    "\n",
    "    Return results in a JSON format (with \"Answer\" as key, contains list of  dictionary with exactly these key names):    \n",
    "\"\"\",\n",
    "      image\n",
    "    ]\n",
    "\n",
    "    model = genai.GenerativeModel(model_name=\"gemini-pro-vision\", generation_config=generation_config)\n",
    "    response = model.generate_content(prompt_parts)\n",
    "    # 提取 response 中的 text\n",
    "    if hasattr(response, 'candidates'):\n",
    "        for candidate in response.candidates:\n",
    "            if hasattr(candidate, 'content') and hasattr(candidate.content, 'parts'):\n",
    "                for part in candidate.content.parts:\n",
    "                    return part.text\n",
    "                    print(part.text)\n",
    "\n",
    "    # Post process the response with gemini json mode\n",
    "    json_captions = get_valid_json_with_gemini(text)\n",
    "    return json_captions"
   ]
  },
  {
   "cell_type": "code",
   "execution_count": null,
   "metadata": {
    "jupyter": {
     "source_hidden": true
    }
   },
   "outputs": [],
   "source": [
    "替换成 Replica 的 LlaVa\n",
    "\"\"\"\n",
    "def get_tweet_image_captioning(image_url, author_name, text):\n",
    "    image_prompt = f\"\"\" \n",
    "    This is a tweet from {author_name}, \n",
    "    with the following text:\n",
    "    {text}.\n",
    "\n",
    "    Below is an image from the tweet.\n",
    "    Your task is to caption the image and provide a description. reference the text or author if necessary. \n",
    "\n",
    "    Output rules you MUST follow:\n",
    "    - \"Summary\": A brief high level, big picture description of the image. What is this and what is this for?\n",
    "    - \"Description\": A detailed description of the image. If there are text in the image, please include all of it in the description. (in its original language)\n",
    "    - \"Tags\": a brief list of high level tags that describe the image. (e.g. \"cat\", \"anime girl\", \"food\")\n",
    "\n",
    "    Return results in a JSON format (with \"Answer\" as key, contains list of  dictionary with exactly these key names):    \n",
    "\"\"\"\n",
    "    output = replicate.run(\n",
    "        \"yorickvp/llava-v1.6-34b:41ecfbfb261e6c1adf3ad896c9066ca98346996d7c4045c5bc944a79d430f174\",   \n",
    "        input={\n",
    "            \"image\": image_url,\n",
    "            \"temperature\": 0.8,\n",
    "            \"top_p\": 0.9,\n",
    "            \"top_k\": 10,\n",
    "            \"prompt\": image_prompt,\n",
    "            \"history\": [],\n",
    "            \"max_tokens\": 1024\n",
    "        }\n",
    "    )\n",
    "    \n",
    "    for item in output:\n",
    "        print(item)\n",
    "        return item\n",
    "\n",
    "    # Post process the response with gemini json mode\n",
    "    json_captions = get_valid_json_with_gemini(text)\n",
    "    return json_captions\n",
    "\"\"\"    "
   ]
  },
  {
   "cell_type": "code",
   "execution_count": 268,
   "metadata": {},
   "outputs": [],
   "source": [
    "sample_image_df = df[df.media_type=='Image'].head(30)\n",
    "sample_image_urls = sample_image_df.images_urls.tolist()\n",
    "sample_authors = sample_image_df.author_name.tolist()\n",
    "sample_texts = sample_image_df.text.tolist()"
   ]
  },
  {
   "cell_type": "code",
   "execution_count": 269,
   "metadata": {},
   "outputs": [
    {
     "data": {
      "text/html": [
       "<img src=\"https://pbs.twimg.com/media/GHy9ZhmaoAA24mJ?format=jpg&name=medium\"/>"
      ],
      "text/plain": [
       "<IPython.core.display.Image object>"
      ]
     },
     "metadata": {},
     "output_type": "display_data"
    }
   ],
   "source": [
    "import PIL.Image\n",
    "from IPython.display import Image, display\n",
    "\n",
    "cur_idx = 26\n",
    "image_url = sample_image_urls[cur_idx][0]\n",
    "author_name = sample_authors[cur_idx]\n",
    "text = sample_texts[cur_idx]\n",
    "\n",
    "display(Image(url=image_url))"
   ]
  },
  {
   "cell_type": "code",
   "execution_count": 270,
   "metadata": {},
   "outputs": [
    {
     "name": "stdout",
     "output_type": "stream",
     "text": [
      "Image url: https://pbs.twimg.com/media/GHy9ZhmaoAA24mJ?format=jpg&name=medium\n",
      "Author name: ばむ\n",
      "Text: セクシーなのキュートなの\n",
      "どっちが好きなの〜？\n"
     ]
    }
   ],
   "source": [
    "print(f\"Image url: {image_url}\\n\"\n",
    "      f\"Author name: {author_name}\\n\"\n",
    "      f\"Text: {text}\"   )\n",
    "\n",
    "result = get_tweet_image_captioning(image_url, author_name, text)"
   ]
  },
  {
   "cell_type": "code",
   "execution_count": 258,
   "metadata": {},
   "outputs": [
    {
     "name": "stdout",
     "output_type": "stream",
     "text": [
      " ```json\n",
      "{\n",
      "  \"Answer\": [\n",
      "    {\n",
      "      \"Summary\": \"A photo of a woman in a revealing cheongsam.\",\n",
      "      \"Description\": \"The woman is kneeling on the ground with her hands on her knees. She is wearing a blue and green cheongsam with a very low neckline and a high slit, showing off her cleavage and thighs. Her hair is long and black, and she is wearing a pearl necklace and earrings. She has a seductive expression on her face and is looking at the camera.\",\n",
      "      \"Tags\": [\"woman\", \"cheongsam\", \"sexy\", \"cleavage\", \"thighs\"]\n",
      "    }\n",
      "  ]\n",
      "}\n",
      "```\n"
     ]
    }
   ],
   "source": [
    "print(result)"
   ]
  },
  {
   "cell_type": "code",
   "execution_count": 259,
   "metadata": {},
   "outputs": [
    {
     "name": "stderr",
     "output_type": "stream",
     "text": [
      "/var/folders/7s/pwtjw5yx6cng0_cqs3j44_4w0000gn/T/ipykernel_62210/3040141009.py:21: FutureWarning:\n",
      "\n",
      "this method is deprecated in favour of `Styler.hide(axis=\"index\")`\n",
      "\n"
     ]
    },
    {
     "data": {
      "text/html": [
       "<style type=\"text/css\">\n",
       "#T_6d245_row0_col0, #T_6d245_row0_col1, #T_6d245_row0_col2 {\n",
       "  text-align: left;\n",
       "  white-space: pre-wrap;\n",
       "}\n",
       "</style>\n",
       "<table id=\"T_6d245\">\n",
       "  <thead>\n",
       "    <tr>\n",
       "      <th id=\"T_6d245_level0_col0\" class=\"col_heading level0 col0\" >Summary</th>\n",
       "      <th id=\"T_6d245_level0_col1\" class=\"col_heading level0 col1\" >Description</th>\n",
       "      <th id=\"T_6d245_level0_col2\" class=\"col_heading level0 col2\" >Tags</th>\n",
       "    </tr>\n",
       "  </thead>\n",
       "  <tbody>\n",
       "    <tr>\n",
       "      <td id=\"T_6d245_row0_col0\" class=\"data row0 col0\" >A photo of a woman in a revealing cheongsam.</td>\n",
       "      <td id=\"T_6d245_row0_col1\" class=\"data row0 col1\" >The woman is kneeling on the ground with her hands on her knees. She is wearing a blue and green cheongsam with a very low neckline and a high slit, showing off her cleavage and thighs. Her hair is long and black, and she is wearing a pearl necklace and earrings. She has a seductive expression on her face and is looking at the camera.</td>\n",
       "      <td id=\"T_6d245_row0_col2\" class=\"data row0 col2\" >['woman', 'cheongsam', 'sexy', 'cleavage', 'thighs']</td>\n",
       "    </tr>\n",
       "  </tbody>\n",
       "</table>\n"
      ],
      "text/plain": [
       "<pandas.io.formats.style.Styler at 0x2b232cc50>"
      ]
     },
     "execution_count": 259,
     "metadata": {},
     "output_type": "execute_result"
    }
   ],
   "source": [
    "import pandas as pd\n",
    "\n",
    "result_str = result\n",
    "\n",
    "# 数据预处理：移除可能导致解析错误的字符\n",
    "result_str_clean = result_str.strip().strip('```')  # 首先去除字符串两端的空白字符，然后去除首尾的```\n",
    "result_str_clean = result_str_clean.replace('json\\n', '')  # 移除json字符及后面的换行符\n",
    "\n",
    "# 解析JSON\n",
    "data = json.loads(result_str_clean)\n",
    "\n",
    "answers = data['Answer']\n",
    "\n",
    "df = pd.DataFrame(answers, columns=['Summary', 'Description', 'Tags'])\n",
    "\n",
    "# 设置显示选项以允许长文本自动换行\n",
    "pd.set_option('display.max_colwidth', None)  # None 表示自动调整列宽以适应内容\n",
    "\n",
    "# 这里直接应用样式设置，确保文本自动换行\n",
    "# 隐藏默认索引\n",
    "df_styled = df.style.set_properties(**{'text-align': 'left', 'white-space': 'pre-wrap'}).hide_index()\n",
    "\n",
    "df_styled"
   ]
  }
 ],
 "metadata": {
  "kernelspec": {
   "display_name": "Python 3 (ipykernel)",
   "language": "python",
   "name": "python3"
  },
  "language_info": {
   "codemirror_mode": {
    "name": "ipython",
    "version": 3
   },
   "file_extension": ".py",
   "mimetype": "text/x-python",
   "name": "python",
   "nbconvert_exporter": "python",
   "pygments_lexer": "ipython3",
   "version": "3.11.6"
  }
 },
 "nbformat": 4,
 "nbformat_minor": 4
}
